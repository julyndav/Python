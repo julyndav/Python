{
 "cells": [
  {
   "cell_type": "markdown",
   "metadata": {},
   "source": [
    "# **NY Dog Bite Analysis Project**\n",
    "\n",
    "<font size =\"3\">Comprehensive data analysis of dog bite incidents using NYC Open Data via Kaggle dataset and coding platform.\n",
    "\n",
    "<font size =\"3\">Processe and analyze records from the New York City's Department of Health and Mental Hygiene. This Analysis focuses on exploring and manipulating the data to uncover key trends and insights. Provide brief, data-driven insights throughout the analysis, highlighting significant patterns and anomalies. The customized visualizations were designed to effectively communicate findings and support public health initiatives.</font>"
   ]
  },
  {
   "cell_type": "markdown",
   "metadata": {},
   "source": [
    "## Installation of Libraries and Packages"
   ]
  },
  {
   "cell_type": "code",
   "execution_count": 1,
   "metadata": {},
   "outputs": [],
   "source": [
    "import numpy as np # linear algebra\n",
    "import pandas as pd # data processing, CSV file I/O (e.g. pd.read_csv)"
   ]
  },
  {
   "cell_type": "code",
   "execution_count": 2,
   "metadata": {
    "execution": {
     "iopub.execute_input": "2024-07-11T22:13:19.362302Z",
     "iopub.status.busy": "2024-07-11T22:13:19.361655Z",
     "iopub.status.idle": "2024-07-11T22:13:21.223890Z",
     "shell.execute_reply": "2024-07-11T22:13:21.222676Z",
     "shell.execute_reply.started": "2024-07-11T22:13:19.362257Z"
    }
   },
   "outputs": [],
   "source": [
    "#!pip install --upgrade seaborn pandas\n",
    "#!pip install yellowbrick  # To use costume color palletes with color hex codes. Code disabled after initial install\n",
    "\n",
    "# Importing the Plotting libraries\n",
    "import matplotlib.pyplot as plt # Basic plotting \n",
    "import seaborn as sns           # Statistical data visualization\n",
    "import plotly.express as px     # Interactive plotting\n",
    "from yellowbrick.style import set_palette  # Machine learning visualizing tool. Also for custom color palettes\n",
    "from matplotlib.lines import Line2D        # Creating custom lines in plots\n",
    "import warnings\n",
    "\n",
    "# Suppresses FutureWarnings\n",
    "warnings.filterwarnings(\"ignore\", category=FutureWarning, module=\"pandas\")"
   ]
  },
  {
   "cell_type": "code",
   "execution_count": 3,
   "metadata": {
    "execution": {
     "iopub.execute_input": "2024-07-11T22:13:21.226932Z",
     "iopub.status.busy": "2024-07-11T22:13:21.226573Z",
     "iopub.status.idle": "2024-07-11T22:13:21.298775Z",
     "shell.execute_reply": "2024-07-11T22:13:21.297838Z",
     "shell.execute_reply.started": "2024-07-11T22:13:21.226901Z"
    }
   },
   "outputs": [],
   "source": [
    "# Reading the Dog Bites data set\n",
    "df = pd.read_csv('DOHMH_Dog_Bite_Data_20240111.csv')"
   ]
  },
  {
   "cell_type": "markdown",
   "metadata": {},
   "source": [
    "# **Cleaning and Preparing Data**"
   ]
  },
  {
   "cell_type": "code",
   "execution_count": 4,
   "metadata": {
    "execution": {
     "iopub.execute_input": "2024-07-11T22:13:21.300258Z",
     "iopub.status.busy": "2024-07-11T22:13:21.299948Z",
     "iopub.status.idle": "2024-07-11T22:13:21.324217Z",
     "shell.execute_reply": "2024-07-11T22:13:21.323110Z",
     "shell.execute_reply.started": "2024-07-11T22:13:21.300231Z"
    }
   },
   "outputs": [
    {
     "data": {
      "text/html": [
       "<div>\n",
       "<style scoped>\n",
       "    .dataframe tbody tr th:only-of-type {\n",
       "        vertical-align: middle;\n",
       "    }\n",
       "\n",
       "    .dataframe tbody tr th {\n",
       "        vertical-align: top;\n",
       "    }\n",
       "\n",
       "    .dataframe thead th {\n",
       "        text-align: right;\n",
       "    }\n",
       "</style>\n",
       "<table border=\"1\" class=\"dataframe\">\n",
       "  <thead>\n",
       "    <tr style=\"text-align: right;\">\n",
       "      <th></th>\n",
       "      <th>UniqueID</th>\n",
       "      <th>DateOfBite</th>\n",
       "      <th>Species</th>\n",
       "      <th>Breed</th>\n",
       "      <th>Age</th>\n",
       "      <th>Gender</th>\n",
       "      <th>SpayNeuter</th>\n",
       "      <th>Borough</th>\n",
       "      <th>ZipCode</th>\n",
       "    </tr>\n",
       "  </thead>\n",
       "  <tbody>\n",
       "    <tr>\n",
       "      <th>0</th>\n",
       "      <td>1</td>\n",
       "      <td>January 01 2018</td>\n",
       "      <td>DOG</td>\n",
       "      <td>UNKNOWN</td>\n",
       "      <td>NaN</td>\n",
       "      <td>U</td>\n",
       "      <td>False</td>\n",
       "      <td>Brooklyn</td>\n",
       "      <td>11220</td>\n",
       "    </tr>\n",
       "    <tr>\n",
       "      <th>1</th>\n",
       "      <td>2</td>\n",
       "      <td>January 04 2018</td>\n",
       "      <td>DOG</td>\n",
       "      <td>UNKNOWN</td>\n",
       "      <td>NaN</td>\n",
       "      <td>U</td>\n",
       "      <td>False</td>\n",
       "      <td>Brooklyn</td>\n",
       "      <td>NaN</td>\n",
       "    </tr>\n",
       "    <tr>\n",
       "      <th>2</th>\n",
       "      <td>3</td>\n",
       "      <td>January 06 2018</td>\n",
       "      <td>DOG</td>\n",
       "      <td>Pit Bull</td>\n",
       "      <td>NaN</td>\n",
       "      <td>U</td>\n",
       "      <td>False</td>\n",
       "      <td>Brooklyn</td>\n",
       "      <td>11224</td>\n",
       "    </tr>\n",
       "    <tr>\n",
       "      <th>3</th>\n",
       "      <td>4</td>\n",
       "      <td>January 08 2018</td>\n",
       "      <td>DOG</td>\n",
       "      <td>Mixed/Other</td>\n",
       "      <td>4</td>\n",
       "      <td>M</td>\n",
       "      <td>False</td>\n",
       "      <td>Brooklyn</td>\n",
       "      <td>11231</td>\n",
       "    </tr>\n",
       "    <tr>\n",
       "      <th>4</th>\n",
       "      <td>5</td>\n",
       "      <td>January 09 2018</td>\n",
       "      <td>DOG</td>\n",
       "      <td>Pit Bull</td>\n",
       "      <td>NaN</td>\n",
       "      <td>U</td>\n",
       "      <td>False</td>\n",
       "      <td>Brooklyn</td>\n",
       "      <td>11224</td>\n",
       "    </tr>\n",
       "  </tbody>\n",
       "</table>\n",
       "</div>"
      ],
      "text/plain": [
       "   UniqueID       DateOfBite Species        Breed  Age Gender  SpayNeuter  \\\n",
       "0         1  January 01 2018     DOG      UNKNOWN  NaN      U       False   \n",
       "1         2  January 04 2018     DOG      UNKNOWN  NaN      U       False   \n",
       "2         3  January 06 2018     DOG     Pit Bull  NaN      U       False   \n",
       "3         4  January 08 2018     DOG  Mixed/Other    4      M       False   \n",
       "4         5  January 09 2018     DOG     Pit Bull  NaN      U       False   \n",
       "\n",
       "    Borough ZipCode  \n",
       "0  Brooklyn   11220  \n",
       "1  Brooklyn     NaN  \n",
       "2  Brooklyn   11224  \n",
       "3  Brooklyn   11231  \n",
       "4  Brooklyn   11224  "
      ]
     },
     "execution_count": 4,
     "metadata": {},
     "output_type": "execute_result"
    }
   ],
   "source": [
    "# Quick glimpse of data\n",
    "df.head()"
   ]
  },
  {
   "cell_type": "markdown",
   "metadata": {},
   "source": [
    "<font size=\"3\">From this glimpse of the data we can already see that are 'null' and 'unknown' values. Date is also in a format that will change to make working with date easier. 'Age' column is a mix of numbers and letters; this will also be changed.</font>"
   ]
  },
  {
   "cell_type": "code",
   "execution_count": 5,
   "metadata": {
    "execution": {
     "iopub.execute_input": "2024-07-11T22:13:21.326198Z",
     "iopub.status.busy": "2024-07-11T22:13:21.325773Z",
     "iopub.status.idle": "2024-07-11T22:13:21.367906Z",
     "shell.execute_reply": "2024-07-11T22:13:21.366503Z",
     "shell.execute_reply.started": "2024-07-11T22:13:21.326160Z"
    }
   },
   "outputs": [
    {
     "name": "stdout",
     "output_type": "stream",
     "text": [
      "<class 'pandas.core.frame.DataFrame'>\n",
      "RangeIndex: 22663 entries, 0 to 22662\n",
      "Data columns (total 9 columns):\n",
      " #   Column      Non-Null Count  Dtype \n",
      "---  ------      --------------  ----- \n",
      " 0   UniqueID    22663 non-null  int64 \n",
      " 1   DateOfBite  22663 non-null  object\n",
      " 2   Species     22663 non-null  object\n",
      " 3   Breed       20445 non-null  object\n",
      " 4   Age         11442 non-null  object\n",
      " 5   Gender      22663 non-null  object\n",
      " 6   SpayNeuter  22663 non-null  bool  \n",
      " 7   Borough     22663 non-null  object\n",
      " 8   ZipCode     16805 non-null  object\n",
      "dtypes: bool(1), int64(1), object(7)\n",
      "memory usage: 1.4+ MB\n"
     ]
    }
   ],
   "source": [
    "# Summary of dataframe\n",
    "df.info()"
   ]
  },
  {
   "cell_type": "markdown",
   "metadata": {},
   "source": [
    "<font size=\"3\"> Majority of the data types ('Dtype') are not defined as indicated by the 'object' Dtype. Data types will be set later in the analysis; this will prevent possible data errors when doing calculations. There are a total of 22663 entries. From the 'Non-Null Count', any thing less than the 'RangeIndex' value, represents the column contains 'null' values.</font>"
   ]
  },
  {
   "cell_type": "markdown",
   "metadata": {},
   "source": [
    "### **Null Values**"
   ]
  },
  {
   "cell_type": "code",
   "execution_count": 6,
   "metadata": {
    "execution": {
     "iopub.execute_input": "2024-07-11T22:13:21.369828Z",
     "iopub.status.busy": "2024-07-11T22:13:21.369390Z",
     "iopub.status.idle": "2024-07-11T22:13:21.395375Z",
     "shell.execute_reply": "2024-07-11T22:13:21.394188Z",
     "shell.execute_reply.started": "2024-07-11T22:13:21.369789Z"
    }
   },
   "outputs": [
    {
     "data": {
      "text/plain": [
       "UniqueID          0\n",
       "DateOfBite        0\n",
       "Species           0\n",
       "Breed          2218\n",
       "Age           11221\n",
       "Gender            0\n",
       "SpayNeuter        0\n",
       "Borough           0\n",
       "ZipCode        5858\n",
       "dtype: int64"
      ]
     },
     "execution_count": 6,
     "metadata": {},
     "output_type": "execute_result"
    }
   ],
   "source": [
    "# Checking null values in the columns\n",
    "df.isnull().sum()"
   ]
  },
  {
   "cell_type": "markdown",
   "metadata": {},
   "source": [
    "<font size =\"3\"> Want to keep the rows that contain 'NaN' values in the Age column. Removing the NaN rows from the 'Age' column would remove at least half of the dataset. That, and a dog's age may not have been known at time of bite, so (0) Age value is valid. The Breed and ZipCode null values will be focused on also. </font>"
   ]
  },
  {
   "cell_type": "code",
   "execution_count": 7,
   "metadata": {
    "execution": {
     "iopub.execute_input": "2024-07-11T22:13:21.397287Z",
     "iopub.status.busy": "2024-07-11T22:13:21.396861Z",
     "iopub.status.idle": "2024-07-11T22:13:21.419700Z",
     "shell.execute_reply": "2024-07-11T22:13:21.418676Z",
     "shell.execute_reply.started": "2024-07-11T22:13:21.397240Z"
    }
   },
   "outputs": [
    {
     "data": {
      "text/html": [
       "<div>\n",
       "<style scoped>\n",
       "    .dataframe tbody tr th:only-of-type {\n",
       "        vertical-align: middle;\n",
       "    }\n",
       "\n",
       "    .dataframe tbody tr th {\n",
       "        vertical-align: top;\n",
       "    }\n",
       "\n",
       "    .dataframe thead th {\n",
       "        text-align: right;\n",
       "    }\n",
       "</style>\n",
       "<table border=\"1\" class=\"dataframe\">\n",
       "  <thead>\n",
       "    <tr style=\"text-align: right;\">\n",
       "      <th></th>\n",
       "      <th>UniqueID</th>\n",
       "      <th>DateOfBite</th>\n",
       "      <th>Species</th>\n",
       "      <th>Breed</th>\n",
       "      <th>Age</th>\n",
       "      <th>Gender</th>\n",
       "      <th>SpayNeuter</th>\n",
       "      <th>Borough</th>\n",
       "      <th>ZipCode</th>\n",
       "    </tr>\n",
       "  </thead>\n",
       "  <tbody>\n",
       "    <tr>\n",
       "      <th>0</th>\n",
       "      <td>1</td>\n",
       "      <td>January 01 2018</td>\n",
       "      <td>DOG</td>\n",
       "      <td>UNKNOWN</td>\n",
       "      <td>0</td>\n",
       "      <td>U</td>\n",
       "      <td>False</td>\n",
       "      <td>Brooklyn</td>\n",
       "      <td>11220</td>\n",
       "    </tr>\n",
       "    <tr>\n",
       "      <th>1</th>\n",
       "      <td>2</td>\n",
       "      <td>January 04 2018</td>\n",
       "      <td>DOG</td>\n",
       "      <td>UNKNOWN</td>\n",
       "      <td>0</td>\n",
       "      <td>U</td>\n",
       "      <td>False</td>\n",
       "      <td>Brooklyn</td>\n",
       "      <td>NaN</td>\n",
       "    </tr>\n",
       "    <tr>\n",
       "      <th>2</th>\n",
       "      <td>3</td>\n",
       "      <td>January 06 2018</td>\n",
       "      <td>DOG</td>\n",
       "      <td>Pit Bull</td>\n",
       "      <td>0</td>\n",
       "      <td>U</td>\n",
       "      <td>False</td>\n",
       "      <td>Brooklyn</td>\n",
       "      <td>11224</td>\n",
       "    </tr>\n",
       "    <tr>\n",
       "      <th>3</th>\n",
       "      <td>4</td>\n",
       "      <td>January 08 2018</td>\n",
       "      <td>DOG</td>\n",
       "      <td>Mixed/Other</td>\n",
       "      <td>4</td>\n",
       "      <td>M</td>\n",
       "      <td>False</td>\n",
       "      <td>Brooklyn</td>\n",
       "      <td>11231</td>\n",
       "    </tr>\n",
       "    <tr>\n",
       "      <th>4</th>\n",
       "      <td>5</td>\n",
       "      <td>January 09 2018</td>\n",
       "      <td>DOG</td>\n",
       "      <td>Pit Bull</td>\n",
       "      <td>0</td>\n",
       "      <td>U</td>\n",
       "      <td>False</td>\n",
       "      <td>Brooklyn</td>\n",
       "      <td>11224</td>\n",
       "    </tr>\n",
       "  </tbody>\n",
       "</table>\n",
       "</div>"
      ],
      "text/plain": [
       "   UniqueID       DateOfBite Species        Breed Age Gender  SpayNeuter  \\\n",
       "0         1  January 01 2018     DOG      UNKNOWN   0      U       False   \n",
       "1         2  January 04 2018     DOG      UNKNOWN   0      U       False   \n",
       "2         3  January 06 2018     DOG     Pit Bull   0      U       False   \n",
       "3         4  January 08 2018     DOG  Mixed/Other   4      M       False   \n",
       "4         5  January 09 2018     DOG     Pit Bull   0      U       False   \n",
       "\n",
       "    Borough ZipCode  \n",
       "0  Brooklyn   11220  \n",
       "1  Brooklyn     NaN  \n",
       "2  Brooklyn   11224  \n",
       "3  Brooklyn   11231  \n",
       "4  Brooklyn   11224  "
      ]
     },
     "execution_count": 7,
     "metadata": {},
     "output_type": "execute_result"
    }
   ],
   "source": [
    "# Replace 'NaN' values in 'Age' column with '0'\n",
    "df.fillna({'Age':'0'}, inplace=True)\n",
    "df.head() # Viewing the dataframe to see results of replacing NaN values"
   ]
  },
  {
   "cell_type": "code",
   "execution_count": 8,
   "metadata": {
    "execution": {
     "iopub.execute_input": "2024-07-11T22:13:21.421583Z",
     "iopub.status.busy": "2024-07-11T22:13:21.421203Z",
     "iopub.status.idle": "2024-07-11T22:13:21.441092Z",
     "shell.execute_reply": "2024-07-11T22:13:21.439914Z",
     "shell.execute_reply.started": "2024-07-11T22:13:21.421554Z"
    }
   },
   "outputs": [
    {
     "data": {
      "text/html": [
       "<div>\n",
       "<style scoped>\n",
       "    .dataframe tbody tr th:only-of-type {\n",
       "        vertical-align: middle;\n",
       "    }\n",
       "\n",
       "    .dataframe tbody tr th {\n",
       "        vertical-align: top;\n",
       "    }\n",
       "\n",
       "    .dataframe thead th {\n",
       "        text-align: right;\n",
       "    }\n",
       "</style>\n",
       "<table border=\"1\" class=\"dataframe\">\n",
       "  <thead>\n",
       "    <tr style=\"text-align: right;\">\n",
       "      <th></th>\n",
       "      <th>UniqueID</th>\n",
       "      <th>DateOfBite</th>\n",
       "      <th>Species</th>\n",
       "      <th>Breed</th>\n",
       "      <th>Age</th>\n",
       "      <th>Gender</th>\n",
       "      <th>SpayNeuter</th>\n",
       "      <th>Borough</th>\n",
       "      <th>ZipCode</th>\n",
       "    </tr>\n",
       "  </thead>\n",
       "  <tbody>\n",
       "    <tr>\n",
       "      <th>0</th>\n",
       "      <td>1</td>\n",
       "      <td>January 01 2018</td>\n",
       "      <td>DOG</td>\n",
       "      <td>UNKNOWN</td>\n",
       "      <td>0</td>\n",
       "      <td>U</td>\n",
       "      <td>False</td>\n",
       "      <td>Brooklyn</td>\n",
       "      <td>11220</td>\n",
       "    </tr>\n",
       "    <tr>\n",
       "      <th>1</th>\n",
       "      <td>2</td>\n",
       "      <td>January 04 2018</td>\n",
       "      <td>DOG</td>\n",
       "      <td>UNKNOWN</td>\n",
       "      <td>0</td>\n",
       "      <td>U</td>\n",
       "      <td>False</td>\n",
       "      <td>Brooklyn</td>\n",
       "      <td>NaN</td>\n",
       "    </tr>\n",
       "    <tr>\n",
       "      <th>2</th>\n",
       "      <td>3</td>\n",
       "      <td>January 06 2018</td>\n",
       "      <td>DOG</td>\n",
       "      <td>Pit Bull</td>\n",
       "      <td>0</td>\n",
       "      <td>U</td>\n",
       "      <td>False</td>\n",
       "      <td>Brooklyn</td>\n",
       "      <td>11224</td>\n",
       "    </tr>\n",
       "    <tr>\n",
       "      <th>3</th>\n",
       "      <td>4</td>\n",
       "      <td>January 08 2018</td>\n",
       "      <td>DOG</td>\n",
       "      <td>Mixed/Other</td>\n",
       "      <td>4</td>\n",
       "      <td>M</td>\n",
       "      <td>False</td>\n",
       "      <td>Brooklyn</td>\n",
       "      <td>11231</td>\n",
       "    </tr>\n",
       "    <tr>\n",
       "      <th>4</th>\n",
       "      <td>5</td>\n",
       "      <td>January 09 2018</td>\n",
       "      <td>DOG</td>\n",
       "      <td>Pit Bull</td>\n",
       "      <td>0</td>\n",
       "      <td>U</td>\n",
       "      <td>False</td>\n",
       "      <td>Brooklyn</td>\n",
       "      <td>11224</td>\n",
       "    </tr>\n",
       "  </tbody>\n",
       "</table>\n",
       "</div>"
      ],
      "text/plain": [
       "   UniqueID       DateOfBite Species        Breed Age Gender  SpayNeuter  \\\n",
       "0         1  January 01 2018     DOG      UNKNOWN   0      U       False   \n",
       "1         2  January 04 2018     DOG      UNKNOWN   0      U       False   \n",
       "2         3  January 06 2018     DOG     Pit Bull   0      U       False   \n",
       "3         4  January 08 2018     DOG  Mixed/Other   4      M       False   \n",
       "4         5  January 09 2018     DOG     Pit Bull   0      U       False   \n",
       "\n",
       "    Borough ZipCode  \n",
       "0  Brooklyn   11220  \n",
       "1  Brooklyn     NaN  \n",
       "2  Brooklyn   11224  \n",
       "3  Brooklyn   11231  \n",
       "4  Brooklyn   11224  "
      ]
     },
     "execution_count": 8,
     "metadata": {},
     "output_type": "execute_result"
    }
   ],
   "source": [
    "# Replace 'NaN' values in 'Breed' column with 'Unknown'\n",
    "df.fillna({'Breed':'Unknown'}, inplace=True)\n",
    "df.head() # Viewing the dataframe to see results of replacing NaN values"
   ]
  },
  {
   "cell_type": "code",
   "execution_count": 9,
   "metadata": {
    "execution": {
     "iopub.execute_input": "2024-07-11T22:13:21.445955Z",
     "iopub.status.busy": "2024-07-11T22:13:21.445587Z",
     "iopub.status.idle": "2024-07-11T22:13:21.470150Z",
     "shell.execute_reply": "2024-07-11T22:13:21.468242Z",
     "shell.execute_reply.started": "2024-07-11T22:13:21.445917Z"
    }
   },
   "outputs": [
    {
     "data": {
      "text/html": [
       "<div>\n",
       "<style scoped>\n",
       "    .dataframe tbody tr th:only-of-type {\n",
       "        vertical-align: middle;\n",
       "    }\n",
       "\n",
       "    .dataframe tbody tr th {\n",
       "        vertical-align: top;\n",
       "    }\n",
       "\n",
       "    .dataframe thead th {\n",
       "        text-align: right;\n",
       "    }\n",
       "</style>\n",
       "<table border=\"1\" class=\"dataframe\">\n",
       "  <thead>\n",
       "    <tr style=\"text-align: right;\">\n",
       "      <th></th>\n",
       "      <th>UniqueID</th>\n",
       "      <th>DateOfBite</th>\n",
       "      <th>Species</th>\n",
       "      <th>Breed</th>\n",
       "      <th>Age</th>\n",
       "      <th>Gender</th>\n",
       "      <th>SpayNeuter</th>\n",
       "      <th>Borough</th>\n",
       "      <th>ZipCode</th>\n",
       "    </tr>\n",
       "  </thead>\n",
       "  <tbody>\n",
       "    <tr>\n",
       "      <th>0</th>\n",
       "      <td>1</td>\n",
       "      <td>January 01 2018</td>\n",
       "      <td>DOG</td>\n",
       "      <td>UNKNOWN</td>\n",
       "      <td>0</td>\n",
       "      <td>U</td>\n",
       "      <td>False</td>\n",
       "      <td>Brooklyn</td>\n",
       "      <td>11220</td>\n",
       "    </tr>\n",
       "    <tr>\n",
       "      <th>1</th>\n",
       "      <td>2</td>\n",
       "      <td>January 04 2018</td>\n",
       "      <td>DOG</td>\n",
       "      <td>UNKNOWN</td>\n",
       "      <td>0</td>\n",
       "      <td>U</td>\n",
       "      <td>False</td>\n",
       "      <td>Brooklyn</td>\n",
       "      <td>00000</td>\n",
       "    </tr>\n",
       "    <tr>\n",
       "      <th>2</th>\n",
       "      <td>3</td>\n",
       "      <td>January 06 2018</td>\n",
       "      <td>DOG</td>\n",
       "      <td>Pit Bull</td>\n",
       "      <td>0</td>\n",
       "      <td>U</td>\n",
       "      <td>False</td>\n",
       "      <td>Brooklyn</td>\n",
       "      <td>11224</td>\n",
       "    </tr>\n",
       "    <tr>\n",
       "      <th>3</th>\n",
       "      <td>4</td>\n",
       "      <td>January 08 2018</td>\n",
       "      <td>DOG</td>\n",
       "      <td>Mixed/Other</td>\n",
       "      <td>4</td>\n",
       "      <td>M</td>\n",
       "      <td>False</td>\n",
       "      <td>Brooklyn</td>\n",
       "      <td>11231</td>\n",
       "    </tr>\n",
       "    <tr>\n",
       "      <th>4</th>\n",
       "      <td>5</td>\n",
       "      <td>January 09 2018</td>\n",
       "      <td>DOG</td>\n",
       "      <td>Pit Bull</td>\n",
       "      <td>0</td>\n",
       "      <td>U</td>\n",
       "      <td>False</td>\n",
       "      <td>Brooklyn</td>\n",
       "      <td>11224</td>\n",
       "    </tr>\n",
       "  </tbody>\n",
       "</table>\n",
       "</div>"
      ],
      "text/plain": [
       "   UniqueID       DateOfBite Species        Breed Age Gender  SpayNeuter  \\\n",
       "0         1  January 01 2018     DOG      UNKNOWN   0      U       False   \n",
       "1         2  January 04 2018     DOG      UNKNOWN   0      U       False   \n",
       "2         3  January 06 2018     DOG     Pit Bull   0      U       False   \n",
       "3         4  January 08 2018     DOG  Mixed/Other   4      M       False   \n",
       "4         5  January 09 2018     DOG     Pit Bull   0      U       False   \n",
       "\n",
       "    Borough ZipCode  \n",
       "0  Brooklyn   11220  \n",
       "1  Brooklyn   00000  \n",
       "2  Brooklyn   11224  \n",
       "3  Brooklyn   11231  \n",
       "4  Brooklyn   11224  "
      ]
     },
     "execution_count": 9,
     "metadata": {},
     "output_type": "execute_result"
    }
   ],
   "source": [
    "# Replace 'NaN' values in 'ZipCode' column with '00000'\n",
    "df.fillna({'ZipCode':'00000'}, inplace=True)\n",
    "df.head() # Viewing the dataframe to see results of replacing NaN values"
   ]
  },
  {
   "cell_type": "markdown",
   "metadata": {},
   "source": [
    "<font size =\"3\"> Dog breed may not have been known by the person bit so 'null' breeds will be designated as 'Unknown'. Same for the ZipCode, person might not have known zipcode at time of incident so unknown zipcodes were coded to (0). More information is needed on how this data was collected and entered into original system.</font>"
   ]
  },
  {
   "cell_type": "code",
   "execution_count": 10,
   "metadata": {
    "execution": {
     "iopub.execute_input": "2024-07-11T22:13:21.472449Z",
     "iopub.status.busy": "2024-07-11T22:13:21.472059Z",
     "iopub.status.idle": "2024-07-11T22:13:21.498789Z",
     "shell.execute_reply": "2024-07-11T22:13:21.497564Z",
     "shell.execute_reply.started": "2024-07-11T22:13:21.472405Z"
    }
   },
   "outputs": [
    {
     "data": {
      "text/plain": [
       "UniqueID      0\n",
       "DateOfBite    0\n",
       "Species       0\n",
       "Breed         0\n",
       "Age           0\n",
       "Gender        0\n",
       "SpayNeuter    0\n",
       "Borough       0\n",
       "ZipCode       0\n",
       "dtype: int64"
      ]
     },
     "execution_count": 10,
     "metadata": {},
     "output_type": "execute_result"
    }
   ],
   "source": [
    "# Re-checking null values in the columns\n",
    "df.isnull().sum()"
   ]
  },
  {
   "cell_type": "markdown",
   "metadata": {},
   "source": [
    "## **Duplicates**\n",
    "<font size=3> The main column to focus on for duplicates is the 'UnqiueID' column. The rest of the data will have duplicates due to the nature of it.</font>"
   ]
  },
  {
   "cell_type": "code",
   "execution_count": 11,
   "metadata": {
    "execution": {
     "iopub.execute_input": "2024-07-11T22:13:21.500662Z",
     "iopub.status.busy": "2024-07-11T22:13:21.500252Z",
     "iopub.status.idle": "2024-07-11T22:13:21.515060Z",
     "shell.execute_reply": "2024-07-11T22:13:21.513783Z",
     "shell.execute_reply.started": "2024-07-11T22:13:21.500619Z"
    }
   },
   "outputs": [
    {
     "name": "stdout",
     "output_type": "stream",
     "text": [
      "\n",
      "There are duplicates in the UniqueID column.\n",
      "\n",
      "Duplicated UniqueIDs:\n",
      "1        2\n",
      "6907     2\n",
      "6849     2\n",
      "6850     2\n",
      "6851     2\n",
      "        ..\n",
      "3429     2\n",
      "3430     2\n",
      "3431     2\n",
      "3432     2\n",
      "10280    2\n",
      "Name: UniqueID, Length: 10280, dtype: int64\n"
     ]
    }
   ],
   "source": [
    "# Check for duplicates in the 'UniqueID' column\n",
    "IdDups = df.duplicated('UniqueID', keep=False)\n",
    "\n",
    "# Print the status of duplicates within the 'UniqueID' column\n",
    "if IdDups.any():\n",
    "    print(\"\\nThere are duplicates in the UniqueID column.\")\n",
    "    \n",
    "    # Display the duplicated 'UniqueID's and their counts\n",
    "    duplicate_ids = df.loc[IdDups, 'UniqueID']\n",
    "    print(\"\\nDuplicated UniqueIDs:\")\n",
    "    print(duplicate_ids.value_counts())\n",
    "else:\n",
    "    print(\"\\nNo duplicates found in the UniqueID column.\")"
   ]
  },
  {
   "cell_type": "markdown",
   "metadata": {},
   "source": [
    "<font size=\"3\"> I want to see what the duplicates are made of it appears that almost half of the dataset has the UniqueID's duplicated.</font>"
   ]
  },
  {
   "cell_type": "code",
   "execution_count": 12,
   "metadata": {
    "execution": {
     "iopub.execute_input": "2024-07-11T22:13:21.516931Z",
     "iopub.status.busy": "2024-07-11T22:13:21.516626Z",
     "iopub.status.idle": "2024-07-11T22:13:21.534054Z",
     "shell.execute_reply": "2024-07-11T22:13:21.532679Z",
     "shell.execute_reply.started": "2024-07-11T22:13:21.516904Z"
    }
   },
   "outputs": [
    {
     "data": {
      "text/html": [
       "<div>\n",
       "<style scoped>\n",
       "    .dataframe tbody tr th:only-of-type {\n",
       "        vertical-align: middle;\n",
       "    }\n",
       "\n",
       "    .dataframe tbody tr th {\n",
       "        vertical-align: top;\n",
       "    }\n",
       "\n",
       "    .dataframe thead th {\n",
       "        text-align: right;\n",
       "    }\n",
       "</style>\n",
       "<table border=\"1\" class=\"dataframe\">\n",
       "  <thead>\n",
       "    <tr style=\"text-align: right;\">\n",
       "      <th></th>\n",
       "      <th>UniqueID</th>\n",
       "      <th>DateOfBite</th>\n",
       "      <th>Species</th>\n",
       "      <th>Breed</th>\n",
       "      <th>Age</th>\n",
       "      <th>Gender</th>\n",
       "      <th>SpayNeuter</th>\n",
       "      <th>Borough</th>\n",
       "      <th>ZipCode</th>\n",
       "    </tr>\n",
       "  </thead>\n",
       "  <tbody>\n",
       "    <tr>\n",
       "      <th>9873</th>\n",
       "      <td>9874</td>\n",
       "      <td>December 15 2019</td>\n",
       "      <td>DOG</td>\n",
       "      <td>Great Dane</td>\n",
       "      <td>0</td>\n",
       "      <td>U</td>\n",
       "      <td>False</td>\n",
       "      <td>Queens</td>\n",
       "      <td>11413</td>\n",
       "    </tr>\n",
       "    <tr>\n",
       "      <th>22256</th>\n",
       "      <td>9874</td>\n",
       "      <td>September 01 2016</td>\n",
       "      <td>DOG</td>\n",
       "      <td>Shih Tzu</td>\n",
       "      <td>7</td>\n",
       "      <td>M</td>\n",
       "      <td>True</td>\n",
       "      <td>Staten Island</td>\n",
       "      <td>00000</td>\n",
       "    </tr>\n",
       "  </tbody>\n",
       "</table>\n",
       "</div>"
      ],
      "text/plain": [
       "       UniqueID         DateOfBite Species       Breed Age Gender  SpayNeuter  \\\n",
       "9873       9874   December 15 2019     DOG  Great Dane   0      U       False   \n",
       "22256      9874  September 01 2016     DOG    Shih Tzu   7      M        True   \n",
       "\n",
       "             Borough ZipCode  \n",
       "9873          Queens   11413  \n",
       "22256  Staten Island   00000  "
      ]
     },
     "execution_count": 12,
     "metadata": {},
     "output_type": "execute_result"
    }
   ],
   "source": [
    "df[df['UniqueID'] == 9874] #Randomly picked an UniqueID value."
   ]
  },
  {
   "cell_type": "markdown",
   "metadata": {},
   "source": [
    "<font size=\"3\"> Even though the UniqueID has been duplicated, the data is for two different incidences in two different areas. Random UIDs have been entered and the results were the same. Same UID but different bite data; the duplication stops after the 10280th record. The ID field is no longer valid as it's integrity was not maintained. </font>"
   ]
  },
  {
   "cell_type": "code",
   "execution_count": 13,
   "metadata": {
    "execution": {
     "iopub.execute_input": "2024-07-11T22:13:21.536160Z",
     "iopub.status.busy": "2024-07-11T22:13:21.535780Z",
     "iopub.status.idle": "2024-07-11T22:13:21.549010Z",
     "shell.execute_reply": "2024-07-11T22:13:21.547831Z",
     "shell.execute_reply.started": "2024-07-11T22:13:21.536129Z"
    }
   },
   "outputs": [],
   "source": [
    "# Dropping the 'UniqueID' column.\n",
    "df = df.drop(['UniqueID'], axis=1)"
   ]
  },
  {
   "cell_type": "markdown",
   "metadata": {},
   "source": [
    "## **Data Types**\n",
    "\n",
    "<font size=\"3\"> Now to change data types and adjust some values to make analysis easier. Make sure the 'ZipCode' is in a number format and no non-numeric values are present.</font>"
   ]
  },
  {
   "cell_type": "markdown",
   "metadata": {},
   "source": [
    "### ZipCode"
   ]
  },
  {
   "cell_type": "code",
   "execution_count": 14,
   "metadata": {
    "execution": {
     "iopub.execute_input": "2024-07-11T22:13:21.582989Z",
     "iopub.status.busy": "2024-07-11T22:13:21.581461Z",
     "iopub.status.idle": "2024-07-11T22:13:21.623353Z",
     "shell.execute_reply": "2024-07-11T22:13:21.622128Z",
     "shell.execute_reply.started": "2024-07-11T22:13:21.582945Z"
    }
   },
   "outputs": [],
   "source": [
    "# Replace non-numeric values with NaN\n",
    "df['ZipCode'] = pd.to_numeric(df['ZipCode'], errors='coerce')\n",
    "\n",
    "# Convert the 'zipcode' column to int64\n",
    "df['ZipCode'] = df['ZipCode'].astype('Int64')"
   ]
  },
  {
   "cell_type": "markdown",
   "metadata": {},
   "source": [
    "### Formate DateOfBite Column\n"
   ]
  },
  {
   "cell_type": "code",
   "execution_count": 15,
   "metadata": {
    "execution": {
     "iopub.execute_input": "2024-07-11T22:13:21.625979Z",
     "iopub.status.busy": "2024-07-11T22:13:21.625511Z",
     "iopub.status.idle": "2024-07-11T22:13:21.659344Z",
     "shell.execute_reply": "2024-07-11T22:13:21.657964Z",
     "shell.execute_reply.started": "2024-07-11T22:13:21.625939Z"
    }
   },
   "outputs": [],
   "source": [
    "# Will change the current date format into one that is yyyy-mm-dd and not an object.\n",
    "df['DateOfBite'] = pd.to_datetime(df['DateOfBite'])"
   ]
  },
  {
   "cell_type": "markdown",
   "metadata": {},
   "source": [
    "### Spay/Neuter column adjusted to something simplier "
   ]
  },
  {
   "cell_type": "code",
   "execution_count": 16,
   "metadata": {
    "execution": {
     "iopub.execute_input": "2024-07-11T22:13:21.661329Z",
     "iopub.status.busy": "2024-07-11T22:13:21.660973Z",
     "iopub.status.idle": "2024-07-11T22:13:21.669494Z",
     "shell.execute_reply": "2024-07-11T22:13:21.667726Z",
     "shell.execute_reply.started": "2024-07-11T22:13:21.661301Z"
    }
   },
   "outputs": [],
   "source": [
    "# For the 'SpayNeuter' column, let's change the vaules to 'Y' for True and 'N' for False. \n",
    "df['SpayNeuter'] = df['SpayNeuter'].map({True: 'Y', False: 'N'})"
   ]
  },
  {
   "cell_type": "markdown",
   "metadata": {},
   "source": [
    "### Age"
   ]
  },
  {
   "cell_type": "markdown",
   "metadata": {},
   "source": [
    "<font size =\"3\">Now for the 'Age' column.  From the above df table, some enteries contain 'Y' after the number, this will need to be removed so that 'Age' value is an integer.</font>"
   ]
  },
  {
   "cell_type": "code",
   "execution_count": 17,
   "metadata": {
    "execution": {
     "iopub.execute_input": "2024-07-11T22:13:21.703267Z",
     "iopub.status.busy": "2024-07-11T22:13:21.702918Z",
     "iopub.status.idle": "2024-07-11T22:13:21.747968Z",
     "shell.execute_reply": "2024-07-11T22:13:21.746526Z",
     "shell.execute_reply.started": "2024-07-11T22:13:21.703237Z"
    }
   },
   "outputs": [],
   "source": [
    "# Convert the 'Age' column to string and remove 'Y'\n",
    "df['Age'] = df['Age'].astype(str).str.replace('Y', '', regex=False)\n",
    "\n",
    "# Convert the 'Age' column numbers and handle any errors that may occur\n",
    "df['Age'] = pd.to_numeric(df['Age'], errors='coerce')\n",
    "\n",
    "\n",
    "# Now to convert values to integers and replace any NaN values with 0 instead\n",
    "df['Age'] = df['Age'].fillna(0).astype(int)"
   ]
  },
  {
   "cell_type": "code",
   "execution_count": 18,
   "metadata": {
    "execution": {
     "iopub.execute_input": "2024-07-11T22:13:21.750075Z",
     "iopub.status.busy": "2024-07-11T22:13:21.749612Z",
     "iopub.status.idle": "2024-07-11T22:13:21.764967Z",
     "shell.execute_reply": "2024-07-11T22:13:21.763722Z",
     "shell.execute_reply.started": "2024-07-11T22:13:21.750030Z"
    }
   },
   "outputs": [
    {
     "data": {
      "text/plain": [
       "[0, 1, 2, 3, 4, 5, 6, 7, 8, 9, 10, 11, 12, 13, 14, 15, 16, 17, 19, 20, 21, 41]"
      ]
     },
     "execution_count": 18,
     "metadata": {},
     "output_type": "execute_result"
    }
   ],
   "source": [
    "# See all the unique ages of the 'Age' column\n",
    "unique_age = sorted(df['Age'].unique())\n",
    "unique_age # Displays the output"
   ]
  },
  {
   "cell_type": "markdown",
   "metadata": {},
   "source": [
    "<font size=\"3\"> There appears to be some outliers in terms of dog age. Anything over 20 will be filtered out.</font>"
   ]
  },
  {
   "cell_type": "code",
   "execution_count": 19,
   "metadata": {
    "execution": {
     "iopub.execute_input": "2024-07-11T22:13:21.767091Z",
     "iopub.status.busy": "2024-07-11T22:13:21.766617Z",
     "iopub.status.idle": "2024-07-11T22:13:21.783701Z",
     "shell.execute_reply": "2024-07-11T22:13:21.782476Z",
     "shell.execute_reply.started": "2024-07-11T22:13:21.767052Z"
    }
   },
   "outputs": [],
   "source": [
    "# Filter out ages over 20\n",
    "df = df[df['Age'] <= 20]"
   ]
  },
  {
   "cell_type": "code",
   "execution_count": 20,
   "metadata": {
    "execution": {
     "iopub.execute_input": "2024-07-11T22:13:21.785619Z",
     "iopub.status.busy": "2024-07-11T22:13:21.785176Z",
     "iopub.status.idle": "2024-07-11T22:13:21.795082Z",
     "shell.execute_reply": "2024-07-11T22:13:21.793957Z",
     "shell.execute_reply.started": "2024-07-11T22:13:21.785587Z"
    }
   },
   "outputs": [
    {
     "data": {
      "text/plain": [
       "[0, 1, 2, 3, 4, 5, 6, 7, 8, 9, 10, 11, 12, 13, 14, 15, 16, 17, 19, 20]"
      ]
     },
     "execution_count": 20,
     "metadata": {},
     "output_type": "execute_result"
    }
   ],
   "source": [
    "# Double check the 'Age' column.\n",
    "unique_age2 = sorted(df['Age'].unique())\n",
    "unique_age2 # Displays the output"
   ]
  },
  {
   "cell_type": "markdown",
   "metadata": {},
   "source": [
    "### What breed along with it's gender, has managed to make it to 20 years old?"
   ]
  },
  {
   "cell_type": "code",
   "execution_count": 21,
   "metadata": {
    "execution": {
     "iopub.execute_input": "2024-07-11T22:13:21.797278Z",
     "iopub.status.busy": "2024-07-11T22:13:21.796864Z",
     "iopub.status.idle": "2024-07-11T22:13:21.812790Z",
     "shell.execute_reply": "2024-07-11T22:13:21.811756Z",
     "shell.execute_reply.started": "2024-07-11T22:13:21.797240Z"
    }
   },
   "outputs": [
    {
     "data": {
      "text/html": [
       "<div>\n",
       "<style scoped>\n",
       "    .dataframe tbody tr th:only-of-type {\n",
       "        vertical-align: middle;\n",
       "    }\n",
       "\n",
       "    .dataframe tbody tr th {\n",
       "        vertical-align: top;\n",
       "    }\n",
       "\n",
       "    .dataframe thead th {\n",
       "        text-align: right;\n",
       "    }\n",
       "</style>\n",
       "<table border=\"1\" class=\"dataframe\">\n",
       "  <thead>\n",
       "    <tr style=\"text-align: right;\">\n",
       "      <th></th>\n",
       "      <th>Breed</th>\n",
       "      <th>Gender</th>\n",
       "    </tr>\n",
       "  </thead>\n",
       "  <tbody>\n",
       "    <tr>\n",
       "      <th>3416</th>\n",
       "      <td>Unknown</td>\n",
       "      <td>M</td>\n",
       "    </tr>\n",
       "    <tr>\n",
       "      <th>5853</th>\n",
       "      <td>TERRIER MIX</td>\n",
       "      <td>M</td>\n",
       "    </tr>\n",
       "  </tbody>\n",
       "</table>\n",
       "</div>"
      ],
      "text/plain": [
       "            Breed Gender\n",
       "3416      Unknown      M\n",
       "5853  TERRIER MIX      M"
      ]
     },
     "execution_count": 21,
     "metadata": {},
     "output_type": "execute_result"
    }
   ],
   "source": [
    "# What Breed(s) of dog and gender has managed to make it to 20?\n",
    "old_dog = df.loc[df['Age'] == 20, ['Breed', 'Gender']]\n",
    "old_dog## Now to set the 'category' data types for the non-numeric values"
   ]
  },
  {
   "cell_type": "markdown",
   "metadata": {},
   "source": [
    "### Setting the Data Types"
   ]
  },
  {
   "cell_type": "code",
   "execution_count": 22,
   "metadata": {
    "execution": {
     "iopub.execute_input": "2024-07-11T22:13:21.814381Z",
     "iopub.status.busy": "2024-07-11T22:13:21.814045Z",
     "iopub.status.idle": "2024-07-11T22:13:21.837748Z",
     "shell.execute_reply": "2024-07-11T22:13:21.836779Z",
     "shell.execute_reply.started": "2024-07-11T22:13:21.814354Z"
    }
   },
   "outputs": [],
   "source": [
    "# Set Category data types for non-numeric values\n",
    "df[['Species','Breed','Gender', 'Borough']]= df[['Species','Breed',\n",
    "                           'Gender', 'Borough']].astype('category')"
   ]
  },
  {
   "cell_type": "code",
   "execution_count": 23,
   "metadata": {
    "execution": {
     "iopub.execute_input": "2024-07-11T22:13:21.839450Z",
     "iopub.status.busy": "2024-07-11T22:13:21.839057Z",
     "iopub.status.idle": "2024-07-11T22:13:21.860215Z",
     "shell.execute_reply": "2024-07-11T22:13:21.859095Z",
     "shell.execute_reply.started": "2024-07-11T22:13:21.839421Z"
    }
   },
   "outputs": [
    {
     "name": "stdout",
     "output_type": "stream",
     "text": [
      "<class 'pandas.core.frame.DataFrame'>\n",
      "Int64Index: 22661 entries, 0 to 22662\n",
      "Data columns (total 8 columns):\n",
      " #   Column      Non-Null Count  Dtype         \n",
      "---  ------      --------------  -----         \n",
      " 0   DateOfBite  22661 non-null  datetime64[ns]\n",
      " 1   Species     22661 non-null  category      \n",
      " 2   Breed       22661 non-null  category      \n",
      " 3   Age         22661 non-null  int32         \n",
      " 4   Gender      22661 non-null  category      \n",
      " 5   SpayNeuter  22661 non-null  object        \n",
      " 6   Borough     22661 non-null  category      \n",
      " 7   ZipCode     22660 non-null  Int64         \n",
      "dtypes: Int64(1), category(4), datetime64[ns](1), int32(1), object(1)\n",
      "memory usage: 1007.4+ KB\n"
     ]
    }
   ],
   "source": [
    "df.info()"
   ]
  },
  {
   "cell_type": "markdown",
   "metadata": {
    "execution": {
     "iopub.execute_input": "2024-07-11T14:28:03.526477Z",
     "iopub.status.busy": "2024-07-11T14:28:03.524442Z",
     "iopub.status.idle": "2024-07-11T14:28:03.537574Z",
     "shell.execute_reply": "2024-07-11T14:28:03.535611Z",
     "shell.execute_reply.started": "2024-07-11T14:28:03.526431Z"
    }
   },
   "source": [
    "# Fine Tuning the Data\n",
    "<font size =\"4\"> Breaking down the 'DateOfBite' column further to aid in analysis.  This will create columns for month & year that bite occured.</font>"
   ]
  },
  {
   "cell_type": "code",
   "execution_count": 24,
   "metadata": {
    "execution": {
     "iopub.execute_input": "2024-07-11T22:13:21.862124Z",
     "iopub.status.busy": "2024-07-11T22:13:21.861780Z",
     "iopub.status.idle": "2024-07-11T22:13:21.871669Z",
     "shell.execute_reply": "2024-07-11T22:13:21.870492Z",
     "shell.execute_reply.started": "2024-07-11T22:13:21.862094Z"
    }
   },
   "outputs": [],
   "source": [
    "# One more date change to help with analysis. Will separate the parts of the dates to obtain the months and years\n",
    "\n",
    "# Extract the month from the Bite Date column\n",
    "df['BiteMonth'] = df['DateOfBite'].dt.month\n",
    "\n",
    "#Extract the year from the Bite Date column\n",
    "df['BiteYear'] = df['DateOfBite'].dt.year"
   ]
  },
  {
   "cell_type": "code",
   "execution_count": 25,
   "metadata": {
    "execution": {
     "iopub.execute_input": "2024-07-11T22:13:21.881626Z",
     "iopub.status.busy": "2024-07-11T22:13:21.881147Z",
     "iopub.status.idle": "2024-07-11T22:13:21.899942Z",
     "shell.execute_reply": "2024-07-11T22:13:21.898761Z",
     "shell.execute_reply.started": "2024-07-11T22:13:21.881593Z"
    }
   },
   "outputs": [
    {
     "data": {
      "text/html": [
       "<div>\n",
       "<style scoped>\n",
       "    .dataframe tbody tr th:only-of-type {\n",
       "        vertical-align: middle;\n",
       "    }\n",
       "\n",
       "    .dataframe tbody tr th {\n",
       "        vertical-align: top;\n",
       "    }\n",
       "\n",
       "    .dataframe thead th {\n",
       "        text-align: right;\n",
       "    }\n",
       "</style>\n",
       "<table border=\"1\" class=\"dataframe\">\n",
       "  <thead>\n",
       "    <tr style=\"text-align: right;\">\n",
       "      <th></th>\n",
       "      <th>DateOfBite</th>\n",
       "      <th>Species</th>\n",
       "      <th>Breed</th>\n",
       "      <th>Age</th>\n",
       "      <th>Gender</th>\n",
       "      <th>SpayNeuter</th>\n",
       "      <th>Borough</th>\n",
       "      <th>ZipCode</th>\n",
       "      <th>BiteMonth</th>\n",
       "      <th>BiteYear</th>\n",
       "    </tr>\n",
       "  </thead>\n",
       "  <tbody>\n",
       "    <tr>\n",
       "      <th>0</th>\n",
       "      <td>2018-01-01</td>\n",
       "      <td>DOG</td>\n",
       "      <td>UNKNOWN</td>\n",
       "      <td>0</td>\n",
       "      <td>U</td>\n",
       "      <td>N</td>\n",
       "      <td>Brooklyn</td>\n",
       "      <td>11220</td>\n",
       "      <td>1</td>\n",
       "      <td>2018</td>\n",
       "    </tr>\n",
       "    <tr>\n",
       "      <th>1</th>\n",
       "      <td>2018-01-04</td>\n",
       "      <td>DOG</td>\n",
       "      <td>UNKNOWN</td>\n",
       "      <td>0</td>\n",
       "      <td>U</td>\n",
       "      <td>N</td>\n",
       "      <td>Brooklyn</td>\n",
       "      <td>0</td>\n",
       "      <td>1</td>\n",
       "      <td>2018</td>\n",
       "    </tr>\n",
       "    <tr>\n",
       "      <th>2</th>\n",
       "      <td>2018-01-06</td>\n",
       "      <td>DOG</td>\n",
       "      <td>Pit Bull</td>\n",
       "      <td>0</td>\n",
       "      <td>U</td>\n",
       "      <td>N</td>\n",
       "      <td>Brooklyn</td>\n",
       "      <td>11224</td>\n",
       "      <td>1</td>\n",
       "      <td>2018</td>\n",
       "    </tr>\n",
       "    <tr>\n",
       "      <th>3</th>\n",
       "      <td>2018-01-08</td>\n",
       "      <td>DOG</td>\n",
       "      <td>Mixed/Other</td>\n",
       "      <td>4</td>\n",
       "      <td>M</td>\n",
       "      <td>N</td>\n",
       "      <td>Brooklyn</td>\n",
       "      <td>11231</td>\n",
       "      <td>1</td>\n",
       "      <td>2018</td>\n",
       "    </tr>\n",
       "    <tr>\n",
       "      <th>4</th>\n",
       "      <td>2018-01-09</td>\n",
       "      <td>DOG</td>\n",
       "      <td>Pit Bull</td>\n",
       "      <td>0</td>\n",
       "      <td>U</td>\n",
       "      <td>N</td>\n",
       "      <td>Brooklyn</td>\n",
       "      <td>11224</td>\n",
       "      <td>1</td>\n",
       "      <td>2018</td>\n",
       "    </tr>\n",
       "    <tr>\n",
       "      <th>5</th>\n",
       "      <td>2018-01-03</td>\n",
       "      <td>DOG</td>\n",
       "      <td>BASENJI</td>\n",
       "      <td>4</td>\n",
       "      <td>M</td>\n",
       "      <td>N</td>\n",
       "      <td>Brooklyn</td>\n",
       "      <td>11231</td>\n",
       "      <td>1</td>\n",
       "      <td>2018</td>\n",
       "    </tr>\n",
       "    <tr>\n",
       "      <th>6</th>\n",
       "      <td>2018-01-01</td>\n",
       "      <td>DOG</td>\n",
       "      <td>UNKNOWN</td>\n",
       "      <td>0</td>\n",
       "      <td>U</td>\n",
       "      <td>N</td>\n",
       "      <td>Brooklyn</td>\n",
       "      <td>0</td>\n",
       "      <td>1</td>\n",
       "      <td>2018</td>\n",
       "    </tr>\n",
       "    <tr>\n",
       "      <th>7</th>\n",
       "      <td>2018-01-03</td>\n",
       "      <td>DOG</td>\n",
       "      <td>Pit Bull</td>\n",
       "      <td>0</td>\n",
       "      <td>U</td>\n",
       "      <td>N</td>\n",
       "      <td>Brooklyn</td>\n",
       "      <td>11233</td>\n",
       "      <td>1</td>\n",
       "      <td>2018</td>\n",
       "    </tr>\n",
       "    <tr>\n",
       "      <th>8</th>\n",
       "      <td>2018-01-04</td>\n",
       "      <td>DOG</td>\n",
       "      <td>American Pit Bull Mix / Pit Bull Mix</td>\n",
       "      <td>5</td>\n",
       "      <td>M</td>\n",
       "      <td>N</td>\n",
       "      <td>Brooklyn</td>\n",
       "      <td>11235</td>\n",
       "      <td>1</td>\n",
       "      <td>2018</td>\n",
       "    </tr>\n",
       "    <tr>\n",
       "      <th>9</th>\n",
       "      <td>2018-01-10</td>\n",
       "      <td>DOG</td>\n",
       "      <td>MIXED</td>\n",
       "      <td>3</td>\n",
       "      <td>F</td>\n",
       "      <td>N</td>\n",
       "      <td>Brooklyn</td>\n",
       "      <td>11208</td>\n",
       "      <td>1</td>\n",
       "      <td>2018</td>\n",
       "    </tr>\n",
       "  </tbody>\n",
       "</table>\n",
       "</div>"
      ],
      "text/plain": [
       "  DateOfBite Species                                 Breed  Age Gender  \\\n",
       "0 2018-01-01     DOG                               UNKNOWN    0      U   \n",
       "1 2018-01-04     DOG                               UNKNOWN    0      U   \n",
       "2 2018-01-06     DOG                              Pit Bull    0      U   \n",
       "3 2018-01-08     DOG                           Mixed/Other    4      M   \n",
       "4 2018-01-09     DOG                              Pit Bull    0      U   \n",
       "5 2018-01-03     DOG                               BASENJI    4      M   \n",
       "6 2018-01-01     DOG                               UNKNOWN    0      U   \n",
       "7 2018-01-03     DOG                              Pit Bull    0      U   \n",
       "8 2018-01-04     DOG  American Pit Bull Mix / Pit Bull Mix    5      M   \n",
       "9 2018-01-10     DOG                                 MIXED    3      F   \n",
       "\n",
       "  SpayNeuter   Borough  ZipCode  BiteMonth  BiteYear  \n",
       "0          N  Brooklyn    11220          1      2018  \n",
       "1          N  Brooklyn        0          1      2018  \n",
       "2          N  Brooklyn    11224          1      2018  \n",
       "3          N  Brooklyn    11231          1      2018  \n",
       "4          N  Brooklyn    11224          1      2018  \n",
       "5          N  Brooklyn    11231          1      2018  \n",
       "6          N  Brooklyn        0          1      2018  \n",
       "7          N  Brooklyn    11233          1      2018  \n",
       "8          N  Brooklyn    11235          1      2018  \n",
       "9          N  Brooklyn    11208          1      2018  "
      ]
     },
     "execution_count": 25,
     "metadata": {},
     "output_type": "execute_result"
    }
   ],
   "source": [
    "# Viewing first 10 rows of revised table\n",
    "df.head(10)"
   ]
  },
  {
   "cell_type": "code",
   "execution_count": 26,
   "metadata": {
    "execution": {
     "iopub.execute_input": "2024-07-11T22:13:21.901914Z",
     "iopub.status.busy": "2024-07-11T22:13:21.901424Z",
     "iopub.status.idle": "2024-07-11T22:13:21.920754Z",
     "shell.execute_reply": "2024-07-11T22:13:21.919617Z",
     "shell.execute_reply.started": "2024-07-11T22:13:21.901883Z"
    }
   },
   "outputs": [
    {
     "name": "stdout",
     "output_type": "stream",
     "text": [
      "<class 'pandas.core.frame.DataFrame'>\n",
      "Int64Index: 22661 entries, 0 to 22662\n",
      "Data columns (total 10 columns):\n",
      " #   Column      Non-Null Count  Dtype         \n",
      "---  ------      --------------  -----         \n",
      " 0   DateOfBite  22661 non-null  datetime64[ns]\n",
      " 1   Species     22661 non-null  category      \n",
      " 2   Breed       22661 non-null  category      \n",
      " 3   Age         22661 non-null  int32         \n",
      " 4   Gender      22661 non-null  category      \n",
      " 5   SpayNeuter  22661 non-null  object        \n",
      " 6   Borough     22661 non-null  category      \n",
      " 7   ZipCode     22660 non-null  Int64         \n",
      " 8   BiteMonth   22661 non-null  int64         \n",
      " 9   BiteYear    22661 non-null  int64         \n",
      "dtypes: Int64(1), category(4), datetime64[ns](1), int32(1), int64(2), object(1)\n",
      "memory usage: 1.3+ MB\n"
     ]
    }
   ],
   "source": [
    "# Shows that number values have the corrected data types\n",
    "df.info()"
   ]
  },
  {
   "cell_type": "code",
   "execution_count": 27,
   "metadata": {
    "execution": {
     "iopub.execute_input": "2024-07-11T22:13:21.922621Z",
     "iopub.status.busy": "2024-07-11T22:13:21.922215Z",
     "iopub.status.idle": "2024-07-11T22:13:21.936651Z",
     "shell.execute_reply": "2024-07-11T22:13:21.935460Z",
     "shell.execute_reply.started": "2024-07-11T22:13:21.922589Z"
    }
   },
   "outputs": [
    {
     "data": {
      "text/plain": [
       "DateOfBite    2555\n",
       "Species          1\n",
       "Breed         1652\n",
       "Age             20\n",
       "Gender           3\n",
       "SpayNeuter       2\n",
       "Borough          6\n",
       "ZipCode        513\n",
       "BiteMonth       12\n",
       "BiteYear         7\n",
       "dtype: int64"
      ]
     },
     "execution_count": 27,
     "metadata": {},
     "output_type": "execute_result"
    }
   ],
   "source": [
    "# Count unique values in each column\n",
    "df.nunique()"
   ]
  },
  {
   "cell_type": "markdown",
   "metadata": {},
   "source": [
    "<font size =\"5\"><b>Key points that the unique values are showing us?</b></font> \n",
    "<p></p>\n",
    "<font size =\"3\">\n",
    "    <li> DateOfBite - 2555 dates that bites took place.</li>\n",
    "    <li> Species - Only 1 species present in the data/study</li>\n",
    "    <li> Breed - We have 1652 breeds of dogs!</li>\n",
    "    <li> Gender - 3 types of genders are present.</li>\n",
    "    <li> Boroughs - 6 Boroughs or neighboohds. </li>\n",
    "    <li> BiteMonth - 12, giving data for a year.</li>  \n",
    "    <li> BiteYear - Study contains 7 years worth of data.</li>\n",
    "    "
   ]
  },
  {
   "cell_type": "markdown",
   "metadata": {},
   "source": [
    "# **Breed Analysis**"
   ]
  },
  {
   "cell_type": "code",
   "execution_count": 28,
   "metadata": {
    "execution": {
     "iopub.execute_input": "2024-07-11T22:13:21.938289Z",
     "iopub.status.busy": "2024-07-11T22:13:21.937964Z",
     "iopub.status.idle": "2024-07-11T22:13:21.946038Z",
     "shell.execute_reply": "2024-07-11T22:13:21.944868Z",
     "shell.execute_reply.started": "2024-07-11T22:13:21.938255Z"
    }
   },
   "outputs": [
    {
     "data": {
      "text/plain": [
       "1652"
      ]
     },
     "execution_count": 28,
     "metadata": {},
     "output_type": "execute_result"
    }
   ],
   "source": [
    "# Count unique values in the 'Breed' column\n",
    "df['Breed'].nunique()"
   ]
  },
  {
   "cell_type": "markdown",
   "metadata": {},
   "source": [
    "<font size =\"3\"> Now to see all the values within the 'Breed' column. Seeing what's there will help create uniformity. The initial 'Breed' list and the revision code is quite extensive. The types will be condensed to first/main breed. Where the breed isn't clear, can not be determined or if there are multiples, it will be designated as either 'Unknown' or 'Mixed Breed'.<p>\n",
    "\n",
    "The goal is to condense the breeds to a workable number.</font></p>"
   ]
  },
  {
   "cell_type": "code",
   "execution_count": 29,
   "metadata": {
    "execution": {
     "iopub.execute_input": "2024-07-11T22:13:21.948043Z",
     "iopub.status.busy": "2024-07-11T22:13:21.947622Z",
     "iopub.status.idle": "2024-07-11T22:13:21.957265Z",
     "shell.execute_reply": "2024-07-11T22:13:21.956077Z",
     "shell.execute_reply.started": "2024-07-11T22:13:21.948004Z"
    }
   },
   "outputs": [],
   "source": [
    "# Extract unique values from the 'Breed' column\n",
    "breed_values = df['Breed'].unique()\n",
    "\n",
    "# Convert the array of unique values to a list and sort it\n",
    "breed_values_list = sorted(breed_values.tolist())"
   ]
  },
  {
   "cell_type": "code",
   "execution_count": 30,
   "metadata": {
    "execution": {
     "iopub.execute_input": "2024-07-11T22:13:21.959439Z",
     "iopub.status.busy": "2024-07-11T22:13:21.959087Z",
     "iopub.status.idle": "2024-07-11T22:13:22.386855Z",
     "shell.execute_reply": "2024-07-11T22:13:22.385617Z",
     "shell.execute_reply.started": "2024-07-11T22:13:21.959407Z"
    }
   },
   "outputs": [],
   "source": [
    "# Print the 'Breed' list\n",
    "breed_values_list\n",
    "\n",
    "# Breed Simplification, revising each dog breed\n",
    "breed_classification = {\n",
    " '/SHIH TZU MIX': 'Shih Tzu',\n",
    " '2 BULL TERRIER DOGS': 'Terrier',\n",
    " '2 DOGS TERR X & DOBERMAN': 'Mixed Breed',\n",
    " '2 PITBULLS': 'Pit Bull',\n",
    " 'AFRICAN BOERBOEL': 'Boerboel',\n",
    " 'AIREDALE TERRIER': 'Terrier',\n",
    " 'AKITA/CHOW CHOW': 'Akita',\n",
    " 'ALAPAHA BULLDOG': 'Bull Dog',\n",
    " 'ALASKAN HUSKY': 'Husky',\n",
    " 'ALASKAN HUSKY MIX': 'Husky',\n",
    " 'ALASKAN HUSKY/LABRADOR RETR':'Husky',\n",
    " 'ALASKAN KLEE KAI': 'Husky',\n",
    " 'ALASKAN MALAMUTE': 'Malamute',\n",
    " 'ALASKAN MALMUTE' : 'Malamute',\n",
    " 'ALPACA': 'Alpaca', #what??\n",
    " 'ALSKAN MALAMUTE': 'Malamute',\n",
    " 'AM STAFF/ PITBULL': 'A_Staff',\n",
    " 'AMER BULL TERRIER': 'A_Staff',\n",
    " 'AMER STAFF/AM PIT BULL TERR': 'A_Staff',\n",
    " 'AMER STAFF/LAB X' : 'A_Staff',\n",
    " 'AMER STAFFORDSHIRE X': 'A_Staff',\n",
    " 'AMERICAN BULL': 'Bull Dog',\n",
    " 'AMERICAN BULL / MASTIFF': 'Bull Dog',\n",
    " 'AMERICAN BULL / STAFFORD TERRIER': 'Bull Dog',\n",
    " 'AMERICAN BULL DOG': 'Bull Dog',\n",
    " 'AMERICAN BULL DOG / PIT BULL MIX': 'Bull Dog',\n",
    " 'AMERICAN BULL DOG/POINTER MIX': 'Bull Dog',\n",
    " 'AMERICAN BULL MIX': 'Bull Dog',\n",
    " 'AMERICAN BULL TERRIER': 'Bull Dog',\n",
    " 'AMERICAN BULLDOG': 'Bull Dog',\n",
    " 'AMERICAN BULLDOG/GREAT PYRENEES': 'Bull Dog',\n",
    " 'AMERICAN BULLY': 'Bully',\n",
    " 'AMERICAN BULLY (PIT BULL)': 'Bully',\n",
    " 'AMERICAN BULLY / PIT BULL': 'Bully',\n",
    " 'AMERICAN BULLY / PIT BULL MIX': 'Bully',\n",
    " 'AMERICAN BULLY MIX': 'Bully',\n",
    " 'AMERICAN BULLY X': 'Bully',\n",
    " 'AMERICAN COONHOUND': 'Hound',\n",
    " 'AMERICAN ESKIMO': 'American Eskimo',\n",
    " 'AMERICAN ESKIMO / HUSKY MIX': 'American Eskimo',\n",
    " 'AMERICAN ESKIMO MIX': 'American Eskimo',\n",
    " 'AMERICAN HAIRLESS TERRIER': 'Terrier',\n",
    " 'AMERICAN PIT BULL/LABRADOR': 'Pit Bull',\n",
    " 'AMERICAN PIT/LABRADOR RETRIEVER X': 'Pit Bull',\n",
    " 'AMERICAN STAFF MIX': 'A_Staff',\n",
    " 'AMERICAN STAFF TER X': 'A_Staff',\n",
    " 'AMERICAN STAFF TERRIER X' : 'A_Staff',\n",
    " 'AMERICAN STAFF X': 'A_Staff',\n",
    " 'AMERICAN STAFF/AKITA': 'A_Staff',\n",
    " 'AMERICAN STAFFORD AND LABRADOR MIX': 'A_Staff',\n",
    " 'AMERICAN STAFFORD MIX': 'A_Staff',\n",
    " 'AMERICAN STAFFORDSHIRE / PIT BULL': 'A_Staff',\n",
    " 'AMERICAN STAFFORDSHIRE / PIT BULL MIX': 'A_Staff',\n",
    " 'AMERICAN STAFFORDSHIRE TERRIER / PIT BULL': 'A_Staff',\n",
    " 'AMERICAN STAFFORDSHIRE X': 'A_Staff',\n",
    " 'AMERICAN TERRIER': 'Terrier',\n",
    " 'ARUBIAN CUNUCU': 'Cunucu',\n",
    " 'ASIAN SHEPERD': 'Shepherd',\n",
    " 'ASTRALIAN CATTLE / GERMAN POINTER MIX': 'Aussie Cattle Dog',\n",
    " 'AUS KELPIE/ LAB RETR': 'Mixed Breed',\n",
    " 'AUSSIE MIX': 'Aussie Cattle Dog',\n",
    " 'AUSSIE X': 'Aussie Cattle Dog',\n",
    " 'AUSSIEDOODLE MIX': 'Mixed Breed',\n",
    " 'AUST CATTLE DOG': 'Aussie Cattle Dog',\n",
    " 'AUST KELPIE/AM PIT BULL X': 'Mixed Breed',\n",
    " 'AUST TERRIER/ YORKIE': 'Mixed Breed',\n",
    " 'AUSTRAILIAN SHEPARD': 'Aussie Shepherd',\n",
    " 'AUSTRAILIAN SHEPARD MIX': 'Aussie Shepherd',\n",
    " 'AUSTRALIA CATTLE DOG': 'Aussie Cattle Dog',\n",
    " 'AUSTRALIAN BLUE HEELER': 'Blue Heeler',\n",
    " 'AUSTRALIAN BORDER COLLIE': 'Collie',\n",
    " 'AUSTRALIAN CATTLE': 'Aussie Cattle Dog',\n",
    " 'AUSTRALIAN CATTLE / HEELER MIX': 'Aussie Cattle Dog',\n",
    " 'AUSTRALIAN CATTLE BLUE HEELER X': 'Aussie Cattle Dog',\n",
    " 'AUSTRALIAN CATTLE DOG' : 'Aussie Cattle Dog',\n",
    " 'AUSTRALIAN CATTLE DOG MIX': 'Aussie Cattle Dog',\n",
    " 'AUSTRALIAN CATTLE DOG X': 'Aussie Cattle Dog',\n",
    " 'AUSTRALIAN CATTLE MIX': 'Aussie Cattle Dog',\n",
    " 'AUSTRALIAN CATTLEDOG': 'Aussie Cattle Dog',\n",
    " 'AUSTRALIAN CATTLEDOG X': 'Aussie Cattle Dog',\n",
    " 'AUSTRALIAN HERD DOG': 'Aussie Cattle Dog',\n",
    " 'AUSTRALIAN LABRADOODLE': 'Aussie Cattle Dog',\n",
    " 'AUSTRALIAN SHEEP DOG': 'Sheep Dog',\n",
    " 'AUSTRALIAN SHEP/DALMATION/PITBULL': 'Aussie Shepherd',\n",
    " 'AUSTRALIAN SHEPERD MIX': 'Aussie Shepherd',\n",
    " 'AUSTRALIAN SHEPHERD': 'Aussie Shepherd',\n",
    " 'AUSTRALIAN SHEPHERD / DOBERMAN MIX': 'Aussie Shepherd',\n",
    " 'AUSTRALIAN SHEPHERD / LPHASA APSO': 'Aussie Shepherd',\n",
    " 'AUSTRALIAN SHEPHERD MIX': 'Aussie Shepherd',\n",
    " 'AUSTRALIAN SHPHERD': 'Aussie Shepherd',\n",
    " 'AUSTRALIAN TERRIER': 'Terrier',\n",
    " 'AUSTRALIAN TERRIER X': 'Terrier',\n",
    " 'Akita': 'Akita',\n",
    " 'Akita Crossbreed': 'Akita',\n",
    " 'Alaskan Klee Kai': 'Husky',\n",
    " 'American Eskimo': 'American Eskimo',\n",
    " 'American Pit Bull Mix / Pit Bull Mix': 'Pit Bull',\n",
    " 'American Pit Bull Terrier/Pit Bull': 'Pit Bull',\n",
    " 'American Staffordshire Terrier': 'A_Staff',\n",
    " 'Australian Shepherd': 'Aussie Shepherd',\n",
    " 'Australian Silky Terrier' : 'Terrier',\n",
    " 'BASENJI': 'Basenji',\n",
    " 'BASENJI MIX': 'Basenji',\n",
    " 'BASENJI TERRIER X': 'Basenji',\n",
    " 'BASSET HOUND': 'Basset Hound',\n",
    " 'BASSET HOUND MIX' : 'Basset Hound',\n",
    " 'BASSET HOUND X': 'Basset Hound',\n",
    " 'BASSETT MIX': 'Basset Hound',\n",
    " 'BEAGLE': 'Beagle',\n",
    " 'BEAGLE - X': 'Beagle',\n",
    " 'BEAGLE -X': 'Beagle',\n",
    " 'BEAGLE / CHIHUAHUA MIX': 'Beagle',\n",
    " 'BEAGLE / COCKERSPANIEL MIX':'Beagle' ,\n",
    " 'BEAGLE / DACHSHUND MIX': 'Beagle',\n",
    " 'BEAGLE / HOUND MIX': 'Beagle',\n",
    " 'BEAGLE / PIT BULL MIX' : 'Beagle',\n",
    " 'BEAGLE / SHAR-PEI MIX': 'Beagle',\n",
    " 'BEAGLE AND BLUE HEELER MIX': 'Beagle',\n",
    " 'BEAGLE HOUND MIX': 'Beagle',\n",
    " 'BEAGLE MIX': 'Beagle',\n",
    " 'BEAGLE MIXED': 'Beagle',\n",
    " 'BEAGLE TERRIER MIX': 'Beagle',\n",
    " 'BEAGLE X - BASSET': 'Beagle',\n",
    " 'BEAGLE/ ENG SPRINGER SPANIEL': 'Beagle',\n",
    " 'BEAGLE/BLUETICK HOUND': 'Beagle',\n",
    " 'BEAGLE/BULLDOG': 'Beagle',\n",
    " 'BEAGLE/ENGLISH BULL': 'Beagle',\n",
    " 'BEAGLE/HUSKY': 'Beagle',\n",
    " 'BEAGLE/JACK RUSS': 'Beagle',\n",
    " 'BEAGLE/JACK RUSSELL': 'Beagle',\n",
    " 'BEAGLE/JACK RUSSELL X': 'Beagle',\n",
    " 'BEAGLE/LAB X': 'Beagle',\n",
    " 'BEAGLE/PIT BULL MIX': 'Beagle',\n",
    " 'BEAGLE/POODLE MIX': 'Beagle',\n",
    " 'BEAGLE/PUG MIX': 'Beagle',\n",
    " 'BEASLE/POODLE': 'Beagle',\n",
    " 'BEAUCERON': 'Beauceron',\n",
    " 'BEAUCERON MIX': 'Beauceron',\n",
    " 'BEAUCERON X' : 'Beauceron',\n",
    " 'BEAVER TERRIERS': 'Terrier',\n",
    " 'BEETHOVEN / ST BERNARD / BULL MASTIFF MIX': 'Mixed Breed',\n",
    " 'BELGIAN MALI. / SHEPHERD MIX': 'Belgian',\n",
    " 'BELGIAN MIX': 'Belgian',\n",
    " 'BELGIAN SHEPERD': 'Belgian',\n",
    " 'BELGIAN SHEPHERD': 'Belgian',\n",
    " 'BELGIAN TURVUREN': 'Belgian',\n",
    " 'BELIGUM/GERMAN SHEP X': 'Belgian',\n",
    " 'BERNADOODLE': 'Mixed Breed',\n",
    " 'BERNEDOODLE': 'Mixed Breed' ,\n",
    " 'BICHON / CHIHUAHUA MIX': 'Bichon',\n",
    " 'BICHON / MALTIPOO': 'Bichon',\n",
    " 'BICHON / POODLE MIX': 'Bichon',\n",
    " 'BICHON /MALTESE MIX': 'Bichon',\n",
    " 'BICHON FRISE / POODLE': 'Bichon',\n",
    " 'BICHON FRISE / POODLE MIX': 'Bichon',\n",
    " 'BICHON FRISE / TERRIER MIX':'Bichon',\n",
    " 'BICHON FRISE/ CAVALIER CHARLES SPANIEL': 'Bichon',\n",
    " 'BICHON FRISE/CAVALIER KING CHARLES MIX':'Bichon',\n",
    " 'BICHON FRISE/MALTESE/POODLE': 'Bichon',\n",
    " 'BICHON/POODLE MIX': 'Bichon',\n",
    " 'BIG SIZE DOG' : 'Unknown',\n",
    " 'BLACK LABRADOR MIX': 'Labrador',\n",
    " 'BLACK MOUTH CUR': 'Mixed Breed',\n",
    " 'BLACK MOUTH CUR MIX': 'Mixed Breed',\n",
    " 'BLACK RUSSIAN TERRIER': 'Terrier',\n",
    " 'BLACK TIC POINTER': 'Mixed Breed',\n",
    " 'BLOOD HOUND / LABRADOR MIX': 'Mixed Breed',\n",
    " 'BLUE HEELER': 'Blue Heeler',\n",
    " 'BLUE HEELER X': 'Blue Heeler',\n",
    " 'BLUE LACY': 'Mixed Breed',\n",
    " 'BLUE NOSE PIT BULL': 'Pit Bull',\n",
    " 'BLUE NOSED PIT BULL': 'Pit Bull',\n",
    " 'BLUE TICK HOUND': 'Hound',\n",
    " 'BOLOGNESE BICHON': 'Bichon',\n",
    " 'BORDER COLLIE & AUSTRALIAN BLUE HEELER': 'Collie',\n",
    " 'BORDER COLLIE & WHIPPET MIX': 'Collie',\n",
    " 'BORDER COLLIE / LABRADOR MIX': 'Collie',\n",
    " 'BORDER COLLIE / PIT BULL MIX': 'Collie',\n",
    " 'BORDER COLLIE MIX': 'Collie',\n",
    " 'BORDER COLLIE X': 'Collie',\n",
    " 'BORDER COLLIE/ LABRADOR X': 'Collie',\n",
    " 'BORDER COLLIE/ POODLE': 'Collie',\n",
    " 'BORDER COLLIE/ SIBERIAN HUSKY': 'Collie',\n",
    " 'BORDER COLLIE/BEAGLE': 'Collie',\n",
    " 'BORDER COLLIE/BLACK LAB': 'Collie',\n",
    " 'BORDER COLLIE/LAB': 'Collie',\n",
    " 'BORDER COLLIE/POINTER X': 'Collie',\n",
    " 'BORDER TERRIER': 'Terrier',\n",
    " 'BOSTEN TERRIER/ FRENCH BULL DOG': 'Terrier',\n",
    " 'BOSTON BORDER TERRIER': 'Terrier',\n",
    " 'BOSTON TERR/BOXER X': 'Terrier',\n",
    " 'BOSTON TERRIER MIX': 'Terrier',\n",
    " 'BOSTON TERRIER X': 'Terrier',\n",
    " 'BOSTON TERRIER/CHIHUAHUA': 'Terrier',\n",
    " 'BOXER': 'Boxer',\n",
    " 'BOXER & PIT BULL MIX': 'Boxer',\n",
    " 'BOXER / AMERICAN BULL DOG MIX': 'Boxer',\n",
    " 'BOXER / HOUND MIX': 'Boxer',\n",
    " 'BOXER / PIT BULL': 'Boxer',\n",
    " 'BOXER / PIT BULL MIX': 'Boxer',\n",
    " 'BOXER / ROTTWEILER MIX': 'Boxer',\n",
    " 'BOXER / ROTTWEILER X': 'Boxer',\n",
    " 'BOXER AND PIT BULL MIX': 'Boxer',\n",
    " 'BOXER MIX': 'Boxer',\n",
    " 'BOXER MIXED':'Boxer',\n",
    " 'BOXER X': 'Boxer',\n",
    " 'BOXER X W/ PIT BULL': 'Boxer',\n",
    " 'BOXER-X': 'Boxer',\n",
    " 'BOXER/ AMERICAN STAFFORDSHIRE': 'Boxer',\n",
    " 'BOXER/ PIT BULL MIX': 'Boxer',\n",
    " 'BOXER/ ROTTWEILER MIX': 'Boxer',\n",
    " 'BOXER/CATTLE': 'Boxer',\n",
    " 'BOXER/CHIHUAHUA MIX': 'Boxer',\n",
    " 'BOXER/HOUND/PITBULL': 'Boxer',\n",
    " 'BOXER/PIT BULL': 'Boxer',\n",
    " 'BOXER/PIT BULL MIX': 'Boxer',\n",
    " 'BOXER/PIT BULL X': 'Boxer',\n",
    " 'BOXER/PITBULL MIX': 'Boxer',\n",
    " 'BOXER/RHODESIAN RIDGEBACK X': 'Boxer',\n",
    " 'BOXER/SHEPHERD X': 'Boxer',\n",
    " 'BOXER/TERRIER X': 'Boxer',\n",
    " 'BOYKIN SPANIEL': 'Spaniel',\n",
    " 'BRIARD': 'Briard',\n",
    " 'BRIARD MIX': 'Briard',\n",
    " 'BRITISH BULLDOG': 'Bull Dog',\n",
    " 'BRITTANY PIT BULL X': 'Pit Bull',\n",
    " 'BRITTANY SPANIEL': 'Spaniel',\n",
    " 'BRUSSEL/PU': 'Mixed Breed',\n",
    " 'BRUSSELS GRIFFON/ SHIH TZU': 'Mixed Breed',\n",
    " 'BUDDHIST': 'Unknown',\n",
    " 'BULL': 'Bull Dog',\n",
    " 'BULL / PIT BULL MIX': 'Bull Dog',\n",
    " 'BULL DOG': 'Bull Dog',\n",
    " 'BULL DOG / POODLE MIX': 'Bull Dog',\n",
    " 'BULL DOG MIX': 'Bull Dog',\n",
    " 'BULL DOG MIX PUG': 'Bull Dog',\n",
    " 'BULL DOG PUG MIX': 'Bull Dog',\n",
    " 'BULL DOG X': 'Bull Dog',\n",
    " 'BULL DOG X - COLLIE': 'Bull Dog',\n",
    " 'BULL DOG/BEAGLE TERRIER MIX': 'Bull Dog',\n",
    " 'BULL DOG/PIT BULL X': 'Bull Dog',\n",
    " 'BULL MASTIFF MIX': 'Mastiff',\n",
    " 'BULL MASTIFF PIT BULL MIX': 'Mastiff',\n",
    " 'BULL TERRIER': 'Bull Dog',\n",
    " 'BULL TERRIER MIX': 'Bull Dog',\n",
    " 'BULLDOG': 'Bull Dog',\n",
    " 'BULLDOG MASTIFF MIX': 'Bull Dog',\n",
    " 'BULLDOG MIX': 'Bull Dog',\n",
    " 'BULLDOG, AMERICAN': 'Bull Dog',\n",
    " 'BULLDOG/PIT BULL': 'Bull Dog',\n",
    " 'BULLDOG/SHARPEI': 'Bull Dog',\n",
    " 'BULLY': 'Bully',\n",
    " 'BULLY BREED': 'Bully',\n",
    " 'BULLY PIT BULL': 'Bully',\n",
    " 'BULLY PIT BULL X':'Bully',\n",
    " 'Basset Hound': 'Basset Hound',\n",
    " 'Beagle': 'Beagle',\n",
    " 'Beagle Crossbreed': 'Beagle',\n",
    " 'Belgian Malinois': 'Belgian',\n",
    " 'Belgian Sheepdog': 'Sheepdog',\n",
    " 'Bernese Mountain': 'Bernese Mountain Dog',\n",
    " 'Bichon Frise': 'Bichon',\n",
    " 'Bloodhound': 'Bloodhound',\n",
    " 'Border Terrier': 'Terrier',\n",
    " 'Borzoi': 'Borzoi',\n",
    " 'Boston Terrier': 'Terrier',\n",
    " 'Bouvier Des Flandres': 'Mixed Breed',\n",
    " 'Boxer': 'Boxer',\n",
    " 'Brittany Spaniel': 'Spaniel',\n",
    " 'Brussels Griffon': 'Griffon',\n",
    " 'Bull Dog, English': 'Bull Dog',\n",
    " 'Bull Dog, French': 'Bull Dog',\n",
    " 'Bull Terrier': 'Terrier',\n",
    " 'Bull dog': 'Bull Dog',\n",
    " 'CAINE CORSO': 'Cane Corso',\n",
    " 'CAIRN TERRIER X': 'Terrier',\n",
    " 'CAN TERRIER MIX': 'Terrier',\n",
    " 'CANE CORSO / MASTIFF MIX': 'Cane Corso',\n",
    " 'CANE CORSO / PIT BULL MIX': 'Cane Corso',\n",
    " 'CANE CORSO MIX': 'Cane Corso',\n",
    " 'CANE CORSO/BLUE NOSED PIT BULLX': 'Cane Corso',\n",
    " 'CANE CORSO/GERMAN SHEP': 'Cane Corso',\n",
    " 'CAROLINA DOG': 'Mixed Breed',\n",
    " 'CAROLINA MIX': 'Mixed Breed',\n",
    " 'CATAHOULA': 'Catahoula',\n",
    " 'CATAHOULA CUR': 'Catahoula',\n",
    " 'CATAHOULA LEOPARD': 'Catahoula',\n",
    " 'CATAHOULA LEOPARD DOG': 'Catahoula',\n",
    " 'CATAHOULA LEOPARD HOUND MIX': 'Catahoula',\n",
    " 'CATAHOULA MIX': 'Catahoula',\n",
    " 'CATAHOULA TERRIER MIX': 'Mixed Breed',\n",
    " 'CATAHOULA X': 'Catahoula',\n",
    " 'CATTLE DOG': 'Cattle Dog',\n",
    " 'CATTLE DOG MIX': 'Cattle Dog',\n",
    " 'CATTLE DOG X - LAB': 'Cattle Dog',\n",
    " 'CATTLE DOG/BLUE HEELER':'Cattle Dog',\n",
    " 'CATTLE HOUND MIX': 'Cattle Dog',\n",
    " 'CATTLE MIX': 'Cattle Dog',\n",
    " 'CAVALIER KING CHARLES X': 'Spaniel',\n",
    " 'CAVAPOO': 'Mixed Breed',\n",
    " 'CAVAPOO MIX': 'Mixed Breed',\n",
    " 'CAVASHU': 'Mixed Breed',\n",
    " 'CENTRAL ASIAN SHEPHERD': 'Shepherd',\n",
    " 'CESKY TERRIER': 'Terrier',\n",
    " 'CHIEN MIX': 'Mixed Breed',\n",
    " 'CHIHUAHUA': 'Chihuahua',\n",
    " 'CHIHUAHUA -X': 'Chihuahua',\n",
    " 'CHIHUAHUA / BEAGLE X': 'Chihuahua',\n",
    " 'CHIHUAHUA / BIJON MIX': 'Chihuahua',\n",
    " 'CHIHUAHUA / CORGI MIX': 'Chihuahua',\n",
    " 'CHIHUAHUA / CORGI MIXED': 'Chihuahua',\n",
    " 'CHIHUAHUA / DACHSHUND MIX': 'Chihuahua',\n",
    " 'CHIHUAHUA / DACHSHUNG MIX': 'Chihuahua',\n",
    " 'CHIHUAHUA / DOTSON': 'Chihuahua',\n",
    " 'CHIHUAHUA / JACK RUSSELL MIX': 'Chihuahua',\n",
    " 'CHIHUAHUA / MALTESE MIX': 'Chihuahua',\n",
    " 'CHIHUAHUA / MINI PINSCHER MIX': 'Chihuahua',\n",
    " 'CHIHUAHUA / MINIATURE PINSCHER': 'Chihuahua',\n",
    " 'CHIHUAHUA / PINSCHER MIX': 'Chihuahua',\n",
    " 'CHIHUAHUA / POMERANIAN MIX': 'Chihuahua',\n",
    " 'CHIHUAHUA / POODLE MIX': 'Chihuahua',\n",
    " 'CHIHUAHUA / PUG MIX': 'Chihuahua',\n",
    " 'CHIHUAHUA / SCHNAUZER MIX': 'Chihuahua',\n",
    " 'CHIHUAHUA / SHIH TZU MIX': 'Chihuahua',\n",
    " 'CHIHUAHUA / TERRIER MIX': 'Chihuahua',\n",
    " 'CHIHUAHUA / YORKIE MIX': 'Chihuahua',\n",
    " 'CHIHUAHUA AND DOTSON MIX': 'Chihuahua',\n",
    " 'CHIHUAHUA MIX': 'Chihuahua',\n",
    " 'CHIHUAHUA SH X': 'Chihuahua',\n",
    " 'CHIHUAHUA SH/ROTTWEILER': 'Chihuahua',\n",
    " 'CHIHUAHUA SHORTHAIR MIX': 'Chihuahua',\n",
    " 'CHIHUAHUA SHORTHAIR/ JACK RUSSELL TERRIER': 'Chihuahua',\n",
    " 'CHIHUAHUA X': 'Chihuahua',\n",
    " 'CHIHUAHUA- X': 'Chihuahua',\n",
    " 'CHIHUAHUA/ CORGI MIX': 'Chihuahua',\n",
    " 'CHIHUAHUA/ DACHSCHUND MIX': 'Chihuahua',\n",
    " 'CHIHUAHUA/ POODLE MIX': 'Chihuahua',\n",
    " 'CHIHUAHUA/ YORKIE X': 'Chihuahua',\n",
    " 'CHIHUAHUA/BEAGLE': 'Chihuahua',\n",
    " 'CHIHUAHUA/BOSTON TERR X': 'Chihuahua',\n",
    " 'CHIHUAHUA/DACHSCHUND MIX': 'Chihuahua',\n",
    " 'CHIHUAHUA/DASHUND': 'Chihuahua',\n",
    " 'CHIHUAHUA/JACK RUSS': 'Chihuahua',\n",
    " 'CHIHUAHUA/JACK RUSSELL MIX': 'Chihuahua',\n",
    " 'CHIHUAHUA/MALTESE': 'Chihuahua',\n",
    " 'CHIHUAHUA/POODLE': 'Chihuahua',\n",
    " 'CHIHUAHUA/POODLE/MALTESE': 'Mixed Breed',\n",
    " 'CHIHUAHUA/PUG X': 'Chihuahua',\n",
    " 'CHIHUAHUA/SHIH TZU': 'Chihuahua',\n",
    " 'CHIHUAHUA/SHIH TZU X': 'Chihuahua',\n",
    " 'CHIHUAHUA/TERRIER': 'Chihuahua',\n",
    " 'CHIHUAHUA/TERRIER/SHIBA INU': 'Mixed Breed',\n",
    " 'CHIHUAHUA/YORKSHIRE MIX': 'Mixed Breed',\n",
    " 'CHINESE CRESTED': 'Chinese Crested',\n",
    " 'CHINESE CRESTED POWDER PUFF': 'Chinese Crested',\n",
    " 'CHINESE SHAR-PEI MIX': 'Mixed Breed',\n",
    " 'CHINESE SHEPERD': 'Mixed Breed',\n",
    " 'CHINESE TIEN YUN CHU': 'Mixed Breed',\n",
    " 'CHIWEENIE': 'Chihuahua',\n",
    " 'CHIWEENIE / DACHSHUND MIX': 'Chihuahua',\n",
    " 'CHIWEENIE MIX': 'Mixed Breed',\n",
    " 'CHOCOLATE LAB & AMERICAN STAFFORD': 'Labrador',\n",
    " 'CHORKIE': 'Mixed Breed',\n",
    " 'CHOW / SHEPHERD MIX': 'Chow',\n",
    " 'CHOW CHOW / GERMAN SHEPHERED MIX': 'Mixed Breed',\n",
    " 'CHOW CHOW / PIT BULL X': 'Chow ',\n",
    " 'CHOW CHOW X': 'Chow',\n",
    " 'CHOW CHOW/ PIT BULL': 'Chow',\n",
    " 'CHOW CHOW/AKITA MIX': 'Chow',\n",
    " 'CHOW CHOW/AKITA X': 'Chow Mix',\n",
    " 'CHOW CHOW/GOLDEN RETRIEVER X': 'Chow',\n",
    " 'CHOW CHOW/PIT BULL': 'Chow',\n",
    " 'CHOW CHOW/SHEPARD X': 'Chow',\n",
    " 'CHOW MIX': 'Chow',\n",
    " 'CHOW/GOLDEN RETRIEVER': 'Chow',\n",
    " 'CHOW/SCHNAUZER X': 'Chow',\n",
    " 'CHOW/SHEPHERD X': 'Chow',\n",
    " 'COATED XOLO': 'Xolo',\n",
    " 'COCK-A-POODLE':'Spaniel' ,\n",
    " 'COCKAPOO': 'Spaniel',\n",
    " 'COCKAPOO MIX': 'Spaniel',\n",
    " 'COCKER SPAN/ POODLE X': 'Spaniel',\n",
    " 'COCKER SPANIEL / BEAGLE': 'Spaniel',\n",
    " 'COCKER SPANIEL / BEAGLE MIX': 'Spaniel',\n",
    " 'COCKER SPANIEL / POODLE MIX': 'Spaniel',\n",
    " 'COCKER SPANIEL / SHIH TZU': 'Spaniel',\n",
    " 'COCKER SPANIEL MIX': 'Spaniel',\n",
    " 'COCKER SPANIEL/ LAB X': 'Spaniel',\n",
    " 'COCKER SPANIEL/ TOY POODLE': 'Spaniel',\n",
    " 'COCKER SPANIEL/CAVALIER': 'Spaniel',\n",
    " 'COCKER SPANIEL/FLAT COATED RETRIEVER/CHATHAM HILL': 'Spaniel',\n",
    " 'COCKER/CORGI X': 'Spaniel',\n",
    " 'COCKERPOO / PIT BULL': 'Spaniel',\n",
    " 'COCO-PIT BULL / MASTIFF MIX AND BIGGIE-PIT BULL': 'Spaniel',\n",
    " 'COLBY PIT BULL': 'Mixed Breed',\n",
    " 'COLLIE': 'Collie',\n",
    " 'COLLIE / AUSTRALIAN SHEPHERD MIX': 'Collie',\n",
    " 'COLLIE MIX': 'Collie',\n",
    " 'COLLIE, BORDER MIX': 'Collie',\n",
    " 'COLLIE/LABRADOE': 'Collie',\n",
    " 'COLLIE/TERRIER MIX': 'Collie',\n",
    " 'COOKAPOO': 'Spaniel',\n",
    " 'COONHOUND MIX': 'Hound',\n",
    " 'CORGI': 'Corgi',\n",
    " 'CORGI / AUSTRALIAN SHEPHERD MIX': 'Corgi',\n",
    " 'CORGI / BEAGLE MIX': 'Corgi',\n",
    " 'CORGI / CATTLE MIX': 'Corgi',\n",
    " 'CORGI MIX': 'Corgi',\n",
    " 'CORGI-CHIHUAHUA X': 'Corgi',\n",
    " 'CORGI-DACHSHUND X': 'Corgi',\n",
    " 'CORGI/CHIHUAHUA X': 'Corgi',\n",
    " 'CORGIE': 'Corgi',\n",
    " 'CORKIE MIX': 'Corgi',\n",
    " 'COTON DE TULEAR': 'Mixed Breed',\n",
    " 'COTTON DE TULEAR MIX': 'Mixed Breed',\n",
    " 'COTTONDOODLE': 'Mixed Breed',\n",
    " 'CROSSBREED': 'Mixed Breed',\n",
    " 'Cairn Terrier': 'Terrier',\n",
    " 'Cane Corso': 'Cane Corso',\n",
    " 'Cavalier King Charles Spaniel': 'Spaniel',\n",
    " 'Chesapeake Bay Retriever': 'Retriever',\n",
    " 'Chihuahua': 'Chihuahua',\n",
    " 'Chihuahua Crossbreed': 'Chihuahua',\n",
    " 'Chow Chow': 'Chow',\n",
    " 'Clumber Spaniel': 'Spaniel',\n",
    " 'Cock-A-Poo': 'Mixed Breed',\n",
    " 'Cocker Spaniel': 'Spaniel',\n",
    " 'Cocker Spaniel Crossbreed': 'Spaniel',\n",
    " 'Cocker Spaniel, American': 'Spaniel',\n",
    " 'Collie Crossbreed': 'Collie',\n",
    " 'Collie, Bearded': 'Collie',\n",
    " 'Collie, Border': 'Collie',\n",
    " 'Collie, Rough Coat': 'Collie',\n",
    " 'Collie, Smooth Coat': 'Collie',\n",
    " 'Coonhound, Black and Tan': 'Hound',\n",
    " 'Coonhound, Treeing Walker': 'Hound',\n",
    " 'Cotton De Tulear': 'Mixed Breed',\n",
    " 'DACHSCHUND/ JACK RUSSEL MIX': 'Dachshund',\n",
    " 'DACHSCHUND/ JACK RUSSELL TERRIER MIX': 'Dachshund',\n",
    " 'DACHSCHUND/ PINSCHER MIX': 'Dachshund',\n",
    " 'DACHSHUND': 'Dachshund',\n",
    " 'DACHSHUND / CHIHUAHUA MIX': 'Dachshund',\n",
    " 'DACHSHUND / MINI PINSCHER MIX': 'Dachshund',\n",
    " 'DACHSHUND / POODLE': 'Dachshund',\n",
    " 'DACHSHUND / POODLE MIX': 'Dachshund',\n",
    " 'DACHSHUND / SCHNAUZER': 'Dachshund',\n",
    " 'DACHSHUND / YORKIE MIX': 'Dachshund',\n",
    " 'DACHSHUND MIX': 'Dachshund',\n",
    " 'DACHSHUND X': 'Dachshund',\n",
    " 'DACHSHUND, MINIATURE': 'Dachshund',\n",
    " 'DACHSHUND/ CHIHUAHUA': 'Dachshund',\n",
    " 'DACHSHUND/CHIHUAHUA SH': 'Dachshund',\n",
    " 'DACHSHUND/JACK RUSS TERRIER': 'Dachshund',\n",
    " 'DACHSUND MIX': 'Dachshund',\n",
    " 'DACHSUND/TERRIER MIX': 'Dachshund',\n",
    " 'DALMATION MIX': 'Dalmation',\n",
    " 'DANDIE DINMONT': 'Terrier',\n",
    " 'DANDIE DINMONT TERRIER': 'Terrier',\n",
    " 'DASCHOUND': 'Dachshund',\n",
    " 'DASCHUND': 'Dachshund',\n",
    " 'DINGO SHIBA': 'Shiba Inu',\n",
    " 'DOBERMAN DOODLE': 'Mixed Breed',\n",
    " 'DOBERMAN MIX': 'Doberman',\n",
    " 'DOBERMAN X': 'Doberman',\n",
    " 'DOBERMAN/PIT BULL X': 'Doberman',\n",
    " 'DOGO': 'Dogo',\n",
    " 'DOGO ARGENTINO': 'Dogo',\n",
    " 'DOGO ARGENTINO X': 'Dogo',\n",
    " 'DOGUE DE BORDEAUX': 'Bordeaux',\n",
    " 'DOGUE DE BORDX': 'Bordeaux',\n",
    " 'DOXXIN': 'Unknown',\n",
    " 'DUNKER': 'Unknown',\n",
    " 'DUTCH SHEPARD': 'Shepherd',\n",
    " 'DUTCH SHEPHERD/BELGIAN MALINOIS X': 'Shepherd',\n",
    " 'Dachshund Smooth Coat': 'Dachshund',\n",
    " 'Dachshund Smooth Coat Miniature': 'Dachshund',\n",
    " 'Dachshund, Long Haired': 'Dachshund',\n",
    " 'Dachshund, Long Haired Miniature': 'Dachshund',\n",
    " 'Dachshund, Wirehaired': 'Dachshund',\n",
    " 'Dachshund, Wirehaired, Miniature': 'Dachshund',\n",
    " 'Dalmatian': 'Dalmatian',\n",
    " 'Dalmatian Crossbreed': 'Dalmation',\n",
    " 'Doberman Pinscher': 'Doberman',\n",
    " 'ENG FRENCH PIT BULL': 'French Bull Dog',\n",
    " 'ENG SETTER': 'English Setter',\n",
    " 'ENGLIH BULLDOG': 'Bull Dog',\n",
    " 'ENGLISH BRINDLE': 'Mixed Breed',\n",
    " 'ENGLISH BULL / STAFFORDSHIRE BULL MIX': 'Mixed Breed',\n",
    " 'ENGLISH BULL DOG': 'Bull Dog',\n",
    " 'ENGLISH BULL DOG / BEAGLE MIX': 'Mixed Breed',\n",
    " 'ENGLISH BULL TERRIER': 'Bull Dog',\n",
    " 'ENGLISH BULLBOG': 'Bull Dog',\n",
    " 'ENGLISH BULLDOG': 'Bull Dog',\n",
    " 'ENGLISH BULLDOG TERRIER': 'Bull Dog',\n",
    " 'ENGLISH COCKER SPANIEL': 'Spaniel',\n",
    " 'ENGLISH MASTIFF': 'Mastiff',\n",
    " 'ENGLISH POINTER': 'E.Pointer',\n",
    " 'ENGLISH SHEEPDOG': 'Sheep Dog',\n",
    " 'ENGLISH STAFFORDSHIRE TERRIER': 'Terrier',\n",
    " 'ESKIMO/CHIHUAHUA': 'Mixed Breed',\n",
    " 'English Cocker Spaniel': 'Spaniel',\n",
    " 'English Springer Spaniel': 'Spaniel',\n",
    " 'FEIST': 'Mixed Breed',\n",
    " 'FELKY TERRIER': 'Terrier',\n",
    " 'FOX HOUND': 'Hound',\n",
    " 'FRENCH / ENGLISH BULL DOG MIX': 'Mixed Breed',\n",
    " 'FRENCH BARBET': 'Mixed Breed',\n",
    " 'FRENCH BULL / BOXER MIX': 'French Bull Dog',\n",
    " 'FRENCH BULL DOG': 'French Bull Dog',\n",
    " 'FRENCH BULL DOG & PIT BULL X': 'French Bull Dog',\n",
    " 'FRENCH BULL DOG MIX': 'French Bull Dog',\n",
    " 'FRENCH BULLDOG/ STAFFORSHIRE TERRIER MIX': 'Mixed Breed',\n",
    " 'FRENCH HOUND MIX': 'Hound',\n",
    " 'FRENCH MASTIFF': 'Mastiff',\n",
    " 'FRENCH POODLE': 'Poodle',\n",
    " 'FRENCHIE': 'Bull Dog',\n",
    " 'GERMAN PIONTER': 'Mixed Breed',\n",
    " 'GERMAN SHEP / ROTTWEILER': 'German Shepherd',\n",
    " 'GERMAN SHEP, PIT BULL & HUSKY MIX': 'German Shepherd',\n",
    " 'GERMAN SHEP/ ROTTWEILER': 'German Shepherd',\n",
    " 'GERMAN SHEP/ROTTWEILER': 'German Shepherd',\n",
    " 'GERMAN SHEPARD MIX': 'German Shepherd',\n",
    " 'GERMAN SHEPARD/ LABRADOR RETRIEVER X': 'German Shepherd',\n",
    " 'GERMAN SHEPARD/PITBULL': 'GGerman Shepherd',\n",
    " 'GERMAN SHEPERD / PIT BULL MIX': 'German Shepherd',\n",
    " 'GERMAN SHEPERD / ROTTWEILER': 'German Shepherd',\n",
    " 'GERMAN SHEPERD/PITBULL': 'German Shepherd',\n",
    " 'GERMAN SHEPHARD/RHODESIAN RIDGEBACK': 'German Shepherd',\n",
    " 'GERMAN SHEPHER MIX': 'German Shepherd',\n",
    " 'GERMAN SHEPHERD': 'German Shepherd',\n",
    " 'GERMAN SHEPHERD / CHOW MIX': 'German Shepherd',\n",
    " 'GERMAN SHEPHERD / LABRADOR MIX': 'German Shepherd',\n",
    " 'GERMAN SHEPHERD / PIT BULL MIX': 'German Shepherd',\n",
    " 'GERMAN SHEPHERD / ROTTWEILER MIX': 'German Shepherd',\n",
    " 'GERMAN SHEPHERD / SIBERIAN HUSKY': 'German Shepherd',\n",
    " 'GERMAN SHEPHERD / SIBERIAN HUSKY MIX': 'German Shepherd',\n",
    " 'GERMAN SHEPHERD MIX': 'German Shepherd',\n",
    " 'GERMAN SHEPHERD/ KEESHOUND MIX': 'German Shepherd',\n",
    " 'GERMAN SHEPHERD/COLLIE X': 'German Shepherd',\n",
    " 'GERMAN SHEPHERD/HUSKY MIX': 'German Shepherd',\n",
    " 'GERMAN SHEPHERD/LABRADOR MIX': 'German Shepherd',\n",
    " 'GERMAN SHEPHERD/PITBULL': 'German Shepherd',\n",
    " 'GERMAN SHEPHERD/RIDGEBACK': 'German Shepherd',\n",
    " 'GERMAN WIREHAIRED POINTER': 'Pointer',\n",
    " 'GLEN OF IMAAL TERRIER': 'Terrier',\n",
    " 'GOAT': 'GOAT', #what ??\n",
    " 'GOLD RETRIEVER/LAB/CHOW CHOW X': 'Mixed Breed',\n",
    " 'GOLDEN / CHOW MIX': 'Golden Retreiver',\n",
    " 'GOLDEN DODDLE': 'Golden Retreiver',\n",
    " 'GOLDEN DOODLE': 'Golden Retreiver',\n",
    " 'GOLDEN DOODLE MIX': 'Golden Retreiver',\n",
    " 'GOLDEN LABRADOR MIX': 'Golden Retreiver',\n",
    " 'GOLDEN RET / POODLE MIX': 'Golden Retreiver',\n",
    " 'GOLDEN RETR/LAB X': 'Golden Retreiver',\n",
    " 'GOLDEN RETREIVER MIX': 'Golden Retreiver',\n",
    " 'GOLDEN RETREIVER X': 'Golden Retreiver',\n",
    " 'GOLDEN RETREIVER/ GERMAN SHEPHERD': 'Golden Retreiver',\n",
    " 'GOLDEN RETRIEVER': 'Golden Retreiver',\n",
    " 'GOLDEN RETRIEVER / DOODLE MIX': 'Golden Retreiver',\n",
    " 'GOLDEN RETRIEVER / HOUND': 'Golden Retreiver',\n",
    " 'GOLDEN RETRIEVER / POODLE MIX': 'Golden Retreiver',\n",
    " 'GOLDEN RETRIEVER MIX': 'Golden Retreiver',\n",
    " 'GOLDEN RETRIEVER MIXED': 'Golden Retreiver',\n",
    " 'GOLDEN RETRIEVER X': 'Golden Retreiver',\n",
    " 'GOLDEN RETRIEVER/ BASSET HOUND': 'Golden Retreiver',\n",
    " 'GOLDEN RETRIEVER/ LAB RETRIEVER': 'Golden Retreiver',\n",
    " 'GOLDEN RETRIEVER/ PITBULL': 'Golden Retreiver',\n",
    " 'GOLDEN RETRIEVER/ ROTTWEILER': 'Golden Retreiver',\n",
    " 'GOLDEN RETRIVER MIX': 'Golden Retreiver',\n",
    " 'GOLDEN/DOODLE': 'Golden Retreiver',\n",
    " 'GOLDENDOODLE': 'Golden Retreiver',\n",
    " 'GOLDENDOODLE MIX': 'Golden Retreiver',\n",
    " 'GREAT DANE / HOUND MIX': 'Great Dane',\n",
    " 'GREAT DANE/PITBULL MIX & PITBULL': 'Great Dane',\n",
    " 'GREAT DANE/PITBULL/POINTER MIX': 'Great Dane',\n",
    " 'GREAT PYRENEES X': 'Great Pyrenees',\n",
    " 'GREYHOUND / LABRADOR MIX': 'Greyhound',\n",
    " 'GREYHOUND MIX': 'Greyhound',\n",
    " 'GRIFFON BRUXELLOIS':'Mixed Breed',\n",
    " 'German Pinscher': 'Pinscher',\n",
    " 'German Shepherd': 'German Shepherd',\n",
    " 'German Shepherd Crossbreed':'German Shepherd',\n",
    " 'Golden Retriever': 'Golden Retreiver',\n",
    " 'Great Dane': 'Great Dane',\n",
    " 'Great Pyrenees': 'Great Pyrenees',\n",
    " 'Greyhound': 'Greyhound',\n",
    " 'HARRIER/BEAGLE': 'Harrier',\n",
    " 'HARRIER/GERM SHEP': 'Harrier',\n",
    " 'HAVANESE / MALTESE MIX': 'Havanese',\n",
    " 'HAVANESE / POODLE MIX': 'Havanese',\n",
    " 'HAVANESE MIX': 'Havanese',\n",
    " 'HAVANESE X': 'Havanese',\n",
    " 'HAVANESE/ POODLE MIX': 'Havanese',\n",
    " 'HAVANESE/ SHIH TZU': 'Havanese',\n",
    " 'HAVAPOO MIX': 'Havanese',\n",
    " 'HEELER X': 'Heeler',\n",
    " 'HERDING MIXED': 'Mixed Breed',\n",
    " 'HOUND': 'Hound',\n",
    " 'HOUND / BEAGLE / DALMATION / MIX': 'Mixed Breed',\n",
    " 'HOUND / GERMAN SHEPHERD MIX': 'Hound',\n",
    " 'HOUND / PIT BULL': 'Hound',\n",
    " 'HOUND MIX': 'Hound',\n",
    " 'HOUND MUTT MIX': 'Mixed Breed',\n",
    " 'HOUND X': 'Hound',\n",
    " 'HOUND/PIT BULL X': 'Hound',\n",
    " 'HOUNDDOG MIX': 'Hound',\n",
    " 'HUNGARIAN SHEEP DOG': 'Sheep Dog',\n",
    " 'HUSKY': 'Husky',\n",
    " 'HUSKY -X': 'Husky',\n",
    " 'HUSKY / LABRADOR MIX': 'Husky',\n",
    " 'HUSKY / MALAMUTE MIX': 'Husky',\n",
    " 'HUSKY / PIT BULL MIX': 'Husky',\n",
    " 'HUSKY / ROTTWEILER MIX': 'Husky',\n",
    " 'HUSKY LABRADOR': 'Husky',\n",
    " 'HUSKY MIX': 'Husky',\n",
    " 'HUSKY X': 'Husky',\n",
    " 'HUSKY/CHOW MIX': 'Husky',\n",
    " 'HUSKY/GERMAN SHEPHERD MIX': 'Husky',\n",
    " 'HUSKY/PIT BULL X': 'Husky',\n",
    " 'Havanese': 'Havanese',\n",
    " 'IRISH WOLFHOUND/GERMAN SHEPHERD': 'Mixed Breed',\n",
    " 'ITALIAN KING CORSO': 'Italian King Corso',\n",
    " 'ITALIAN MASIF': 'Mastiff',\n",
    " 'ITALIAN MASIFF': 'Mastiff',\n",
    " 'ITALIAN MASTIFF': 'Mastiff',\n",
    " 'ITALIAN MASTIFF/AMERICAN PIT BULL': 'Mastiff',\n",
    " 'ITALIAN MASTIFF/CANE CORSO X': 'Mastiff',\n",
    " 'Irish Terrier': 'Terrier',\n",
    " 'Irish Wolfhound': 'Wolfhound',\n",
    " 'Greyhound': 'Greyhound',\n",
    " 'JACK RUSS / CHIHUAHUA MIX': 'Jack Russ',\n",
    " 'JACK RUSS / SHIH TZU': 'Jack Russ',\n",
    " 'JACK RUSS / SHIH TZU MIX': 'Jack Russ',\n",
    " 'JACK RUSS MIX': 'Jack Russ',\n",
    " 'JACK RUSS TERR X- CHIHUAHUA': 'Jack Russ',\n",
    " 'JACK RUSS TERRIER MIX': 'Jack Russ',\n",
    " 'JACK RUSS-X': 'Jack Russ',\n",
    " 'JACK RUSS/BULLY PIT BULL': 'Jack Russ',\n",
    " 'JACK RUSSEL/BOSTON TERRIER MIX': 'Jack Russ',\n",
    " 'JACK RUSSELL & CHIHUAHUA': 'Jack Russ',\n",
    " 'JACK RUSSELL / POODLE MIX': 'Jack Russ',\n",
    " 'JACK RUSSELL MIX': 'Jack Russ',\n",
    " 'JACK RUSSELL TERRIER': 'Jack Russ',\n",
    " 'JACK RUSSELL TERRIER MIX': 'Jack Russ',\n",
    " 'JACK RUSSELL TERRIER/ BASENJI MIX': 'Jack Russ',\n",
    " 'JACK RUSSELL X': 'Jack Russ',\n",
    " 'JACK RUSSELL/ CHIHUAHUA': 'Jack Russ',\n",
    " 'JACK RUSSELL/CHIHUAHUA X': 'Jack Russ',\n",
    " 'JACK RUSSELL/POODLE X': 'Jack Russ',\n",
    " 'JAPANESE CHIN / MALTESE MIX': 'Jack Russ',\n",
    " 'JAPANESE SHIBA': 'Shiba Inu',\n",
    " 'JAPANESE SPITZ': 'Spitz',\n",
    " 'JAPANESE SPITZ X': 'Spitz',\n",
    " 'JINDO / JACK RUSS MIX': 'Jindo',\n",
    " 'JINDO MIX': 'Jindo',\n",
    " 'JINDO X': 'Jindo',\n",
    " 'JSCK RUSSEL/DALMATION': 'Jack Russ',\n",
    " 'Jack Russ': 'Jack Russ',\n",
    " 'Japanese Chin/Spaniel': 'Spaniel',\n",
    " 'Jindo Dog,': 'Jindo',\n",
    " 'KERRY BLUE TERRIER': 'Terrier',\n",
    " 'KETTLE MIX': 'Mixed Breed',\n",
    " 'KING CHARLES CAVLIER': 'Spaniel',\n",
    " 'KING SHEPHARD / PIT BULL MIX': 'German Shepherd',\n",
    " 'KOREAN MIXED BREED': 'Mixed Breed',\n",
    " 'KOREAN SAPSALI': 'Mixed Breed',\n",
    " 'LAB / BOXER / PIT BULL MIX': 'Mixed Breed',\n",
    " 'LAB / HUSKY / PIT BULL MIX': 'Mixed Breed',\n",
    " 'LAB / PIT BULL MIX': 'Labrador',\n",
    " 'LAB / ROTTWEILER / PIT BULL MIX': 'Mixed Breed',\n",
    " 'LAB MIX': 'Labrador',\n",
    " 'LAB RETRIEVER/ HOUND': 'Labrador',\n",
    " 'LAB RETRIEVER/ PIT BULL': 'Labrador',\n",
    " 'LAB RETRIEVER/GERM SHEP': 'Labrador',\n",
    " 'LAB- X': 'Labrador',\n",
    " 'LAB-POODLE MIX': 'Labrador',\n",
    " 'LAB/ AUSTRALIAN SHEPHERD MIX': 'Labrador',\n",
    " 'LAB/ PIT': 'Labrador',\n",
    " 'LAB/ PITBULL MIX': 'Labrador',\n",
    " 'LAB/BASSET HOUND': 'Labrador',\n",
    " 'LAB/BASSET HOUND X': 'Labrador',\n",
    " 'LAB/CHOW CHOW X': 'Labrador',\n",
    " 'LAB/COLLIE X': 'Labrador',\n",
    " 'LAB/COO HOUND': 'Labrador',\n",
    " 'LAB/ITALIAN GREYHOUND X': 'Labrador',\n",
    " 'LAB/PIT BULL': 'Labrador',\n",
    " 'LAB/PIT BULL MIX': 'Labrador',\n",
    " 'LAB/PIT BULL X': 'Labrador',\n",
    " 'LAB/PIT BULL/CHIHUAHUA X': 'Mixed Breed',\n",
    " 'LAB/RAT TERRIER X': 'Labrador',\n",
    " 'LAB/SHEPHERD X': 'Labrador',\n",
    " 'LABARADOR RETRIEVER': 'Labrador',\n",
    " 'LABORADOR MASTIFF': 'Labrador',\n",
    " 'LABRADOODLE': 'Labrador',\n",
    " 'LABRADOODLE MIX': 'Labrador',\n",
    " 'LABRADOR': 'Labrador',\n",
    " 'LABRADOR / CATAHOULA MIX': 'Labrador',\n",
    " 'LABRADOR / CHOW CHOW MIX': 'Labrador',\n",
    " 'LABRADOR / COLLIE': 'Labrador',\n",
    " 'LABRADOR / DACHSHUND MIX': 'Labrador',\n",
    " 'LABRADOR / GREAT DANE MIX': 'Labrador',\n",
    " 'LABRADOR / HOUND MIX': 'Labrador',\n",
    " 'LABRADOR / PIT BULL': 'Labrador',\n",
    " 'LABRADOR / PIT BULL MIX': 'Labrador',\n",
    " 'LABRADOR / SHEPHERD MIX': 'Labrador',\n",
    " 'LABRADOR / SPANIEL MIX': 'Labrador',\n",
    " 'LABRADOR AND BEAGLE MIX': 'Labrador',\n",
    " 'LABRADOR BOXER': 'Labrador',\n",
    " 'LABRADOR MIX': 'Labrador',\n",
    " 'LABRADOR MIXEX': 'Labrador',\n",
    " 'LABRADOR RET / AMERICAN ESKIMO MIX': 'Labrador',\n",
    " 'LABRADOR RETR/BEAGLE': 'Labrador',\n",
    " 'LABRADOR RETR/PIT BULL X': 'Labrador',\n",
    " 'LABRADOR RETRIEVER MIX': 'Labrador',\n",
    " 'LABRADOR X': 'Labrador',\n",
    " 'LABRADOR-SHEEP DOG X': 'Labrador',\n",
    " 'LABRADOR/ PIT BULL': 'Labrador',\n",
    " 'LABRADOR/ PIT-BULL': 'Labrador',\n",
    " 'LABRADOR/BASSET X': 'Labrador',\n",
    " 'LABRADOR/COCKER SPANIEL': 'Labrador',\n",
    " 'LABRADOR/GREAT DANE MIX': 'Labrador',\n",
    " 'LABRADOR/MIX': 'Labrador',\n",
    " 'LABRADOR/PIT BULL X': 'Labrador',\n",
    " 'LABRADOR/PITBULL': 'Labrador',\n",
    " 'LABRADOR/SHAR-PEI MIX': 'Labrador',\n",
    " 'LABRADOR/STAFFORDSHIRE': 'Labrador',\n",
    " 'LABRADOR/WEINMARANER': 'Labrador',\n",
    " 'LAKELAND TERRIER': 'Terrier',\n",
    " 'LAPSO': 'Mixed Breed',\n",
    " 'LARGE': 'Unknown',\n",
    " 'LARGE BREED MIX': 'Unknown',\n",
    " 'LARGE BROWN DOG': 'Unknown',\n",
    " 'LARGE DOG': 'Unknown',\n",
    " 'LARGE MIX BREED': 'Unknown',\n",
    " 'LARGE MIX DOG': 'Unknown',\n",
    " 'LARGE MIXED BREED': 'Unknown',\n",
    " 'LARGE MIXED DOG': 'Unknown',\n",
    " 'LARGE TERRIER CROSS': 'Unknown',\n",
    " 'LARGE X BREED': 'Unknown',\n",
    " 'LARGE X BREED (5) DOGS': 'Unknown',\n",
    " 'LARGED MIXED BREED': 'Unknown',\n",
    " 'LARGER MIX BREED': 'Unknown',\n",
    " 'LASAH APSO/POODLE': 'Mixed Breed',\n",
    " 'LHASA / SHIH TZU MIX': 'Lhasa Apso',\n",
    " 'LHASA APSO / POODLE MIX': 'Lhasa Apso',\n",
    " 'LHASA APSO MIX': 'Lhasa Apso',\n",
    " 'LHASA APSO/DACHSHUND': 'Lhasa Apso',\n",
    " 'LHASA APSO/MALTESE': 'Lhasa Apso',\n",
    " 'LHASA APSO/POODLDE X': 'Lhasa Apso',\n",
    " 'LHASA APSO/POODLE X': 'Lhasa Apso',\n",
    " 'LHASA MIX SHIH TZU': 'Lhasa Apso',\n",
    " 'LHATESE': 'Lhasa Apso',\n",
    " 'LLEWELIN SETTER': 'Unknown',\n",
    " 'LONG HAIR DACHSCHUND MIX': 'Dachshund',\n",
    " 'LONG HAIRED DACHSHUND X': 'Dachshund',\n",
    " 'LOWCHEN': 'Unknown',\n",
    " 'Labradoodle' : 'Labrador',\n",
    " 'Labrador Retriever': 'Labrador',\n",
    " 'Labrador Retriever Crossbreed': 'Labrador',\n",
    " 'Lhasa Apso': 'Lhasa Apso',\n",
    " 'MALAMUTE': 'Malamute',\n",
    " 'MALINOIS': 'Belgian',\n",
    " 'MALINOIS MIX': 'Belgian',\n",
    " 'MALSHI': 'Mixed Breed',\n",
    " 'MALTESE': 'Maltese',\n",
    " 'MALTESE & YORKIE MIX': 'Maltese',\n",
    " 'MALTESE - POODLE X': 'Maltese',\n",
    " 'MALTESE - X': 'Maltese',\n",
    " 'MALTESE / POMERANIAN': 'Maltese',\n",
    " 'MALTESE / POMERANIAN MIX': 'Maltese',\n",
    " 'MALTESE / POODLE': 'Maltese',\n",
    " 'MALTESE / POODLE MIX': 'Maltese',\n",
    " 'MALTESE / SHIH TZU': 'Maltese',\n",
    " 'MALTESE / SHIH TZU MIX': 'Maltese',\n",
    " 'MALTESE / WESTIE MIX': 'Maltese',\n",
    " 'MALTESE / YORKIE MIX': 'Maltese',\n",
    " 'MALTESE / YORKSHIRE': 'Maltese',\n",
    " 'MALTESE / YORKSHIRE MIX': 'Maltese',\n",
    " 'MALTESE MIX': 'Maltese',\n",
    " 'MALTESE MIX/POODLE': 'Maltese',\n",
    " 'MALTESE POODLE MIX': 'Maltese',\n",
    " 'MALTESE TERRIER': 'Maltese',\n",
    " 'MALTESE X': 'Maltese',\n",
    " 'MALTESE YORKIE MIX': 'Maltese',\n",
    " 'MALTESE- X': 'Maltese',\n",
    " 'MALTESE/ FRENCH POODLE MIX': 'Maltese',\n",
    " 'MALTESE/ SHIH TZU': 'Maltese',\n",
    " 'MALTESE/ SHIH TZU X': 'Maltese',\n",
    " 'MALTESE/ YORKSHIRE TERRIER': 'Maltese',\n",
    " 'MALTESE/CHIHUAHUA X': 'Maltese',\n",
    " 'MALTESE/POODLE': 'Maltese',\n",
    " 'MALTESE/SHIH TZU': 'Maltese',\n",
    " 'MALTESE/SHIH TZU MIX': 'Maltese',\n",
    " 'MALTESE/SHIH TZU X': 'Maltese',\n",
    " 'MALTESE/WESTIE X': 'Maltese',\n",
    " 'MALTESE/YORKIE': 'Maltese',\n",
    " 'MALTESE/YORKSHIRE TERRIER': 'Maltese',\n",
    " 'MALTESE/YORKSHIRE X': 'Maltese',\n",
    " 'MALTI POO': 'Maltese',\n",
    " 'MALTI TZU': 'Maltese',\n",
    " 'MALTI- POO': 'Maltese',\n",
    " 'MALTI-POO': 'Maltese',\n",
    " 'MALTI-POO MIX': 'Maltese',\n",
    " 'MALTIPOO': 'Maltese',\n",
    " 'MALTIPOO MIX': 'Maltese',\n",
    " 'MARKEY': 'Mixed Breed',\n",
    " 'MARQUIS': 'Mixed Breed',\n",
    " 'MASTIFF': 'Mastiff',\n",
    " 'MASTIFF / PIT BULL MIX': 'Mastiff',\n",
    " 'MASTIFF MIX': 'Mastiff',\n",
    " 'MASTIFF OR CANE CORSO': 'Mastiff',\n",
    " 'MASTIFF/AM PIT BULL TERR': 'Mastiff',\n",
    " 'MASTIFF/LAB MIX & BOXER MIX': 'Mastiff',\n",
    " 'MASTIFF/LABRADOR': 'Mastiff',\n",
    " 'MEDIUM BREED': 'Unknown',\n",
    " 'MEDIUM MIXED': 'Unknown',\n",
    " 'MEDIUM MIXED BREED': 'Unknown',\n",
    " 'MEDIUM SIZE BREED': 'Unknown',\n",
    " 'MEDIUM SIZE DOG': 'Unknown',\n",
    " 'MEDIUM SIZE MIX': 'Unknown',\n",
    " 'MEDIUM SIZED MIXED BREED': 'Unknown',\n",
    " 'MEXICAN HAIRLESS': 'Mixed Bered',\n",
    " 'MICRO BULLY': 'Bully',\n",
    " 'MICROMINI BERNEDOODLE': 'Mixed Breed',\n",
    " 'MIKI': 'Mixed Breed',\n",
    " 'MINATURE PINSCHER X': 'Pinscher',\n",
    " 'MINATURE POODLE X': 'Poodle',\n",
    " 'MINI AMERICAN HUSKY': 'Husky',\n",
    " 'MINI AUSTRALIAN SHEPARD': 'Aussie Shepherd',\n",
    " 'MINI AUSTRALIAN SHEPHERD': 'Aussie Shepherd',\n",
    " 'MINI AUSTRALIAN SHPHERD': 'Aussie Shepherd',\n",
    " 'MINI BULL TERRIER': 'Terrier',\n",
    " 'MINI DOBERMAN': 'Doberman',\n",
    " 'MINI GOLDEN DODDLE': 'Mixed Breed',\n",
    " 'MINI GOLDEN DOODLE':'Mixed Breed',\n",
    " 'MINI GOLDEN RETREVER': 'Retriever',\n",
    " 'MINI GOLDENDOODLE': 'Mixed Breed',\n",
    " 'MINI LABORDOODLE': 'Mixed Breed',\n",
    " 'MINI PINCHER': 'Pincher',\n",
    " 'MINI PINSCHER MIX': 'Pincher',\n",
    " 'MINI PINSCHER/ CHIHUAHUA': 'Pincher',\n",
    " 'MINI PINSCHER/POMERANIAN X': 'Pincher',\n",
    " 'MINI PINSCHER/YORKSHIRE TERRIER': 'Pincher',\n",
    " 'MINI POODLE MIX': 'Mixed Breed',\n",
    " 'MINI POODLE X': 'Poodle',\n",
    " 'MINI SAINT BERDOODLE MIX': 'Mixed Breed',\n",
    " 'MINI SCHNAUZER / YORKSHIRE MIX': 'Mixed Breed',\n",
    " 'MINI SCHNAUZER MIX': 'Mixed Breed',\n",
    " 'MINI. SCHNAUZER MIX': 'Mixed Breed',\n",
    " 'MINIATURE AUSTRALIAN SHEPERD': 'Aussie Shepherd',\n",
    " 'MINIATURE GOLDEN DOODLE': 'Mixed Breed',\n",
    " 'MINIATURE LABRADOODLE': 'Mixed Breed',\n",
    " 'MINIATURE PINSCHER/JACK RUSS': 'Mixed Breed',\n",
    " 'MINIATURE SCHNAUZER': 'Schnauzer',\n",
    " 'MINIATURE SCHNAUZER MIX': 'Mixed Breed',\n",
    " 'MIX BREED': 'Unknown',\n",
    " 'MIX BREED/ PIT BULL': 'Mixed Breed',\n",
    " 'MIX LAB': 'Mixed Breed',\n",
    " 'MIX- BOXER': 'Mixed Breed',\n",
    " 'MIXED': 'Mixed Breed',\n",
    " 'MIXED BREED':'Mixed Breed' ,\n",
    " 'MIXED BREED (MINI AUSSIE MIX)': 'Mixed Breed',\n",
    " 'MIXED BREED / PIT BULL': 'Mixed Breed',\n",
    " 'MIXED BREED DOG': 'Mixed Breed',\n",
    " 'MIXED BREED/ SHIH TZU': 'Mixed Breed',\n",
    " 'MIXED LAB DOG': 'Labrador',\n",
    " 'MIXED SHEPHERD': 'Shepherd',\n",
    " 'MIXED TERRIER': 'Terrier',\n",
    " 'MIXED TERRIER / LABRADOR MIX': 'Mixed Breed',\n",
    " 'MIXED TERRIER / SHEPHERD': 'Mixed Breed',\n",
    " 'MONGREL MIX': 'Mixed Breed',\n",
    " 'MORKIE': 'Mixed Breed',\n",
    " 'MORKIE MIX': 'Mixed Breed',\n",
    " 'MULTI COLLAR TERRIER': 'Mixed Breed',\n",
    " 'MULTI POO': 'Mixed Breed',\n",
    " 'MULTIPOO': 'Mixed Breed',\n",
    " 'MUTT': 'Unknown',\n",
    " 'MUTT - TERR X': 'Unknown',\n",
    " 'MUTT / MIX': 'Unknown',\n",
    " 'MUTT MIX': 'Unknown',\n",
    " 'MUTT X': 'Unknown',\n",
    " 'MXIED BREED': 'Unknown',\n",
    " 'Maltese': 'Maltese',\n",
    " 'Mastiff, Bull': 'Mastiff',\n",
    " 'Mastiff, French (Dogue de Bordeaux)': 'Mastiff',\n",
    " 'Mastiff, Neapolitan': 'Mastiff',\n",
    " 'Mastiff, Old English': 'Mastiff',\n",
    " 'Mastiff, Tibetan': 'Mastiff',\n",
    " 'Miniature Pinscher': 'Pinscher',\n",
    " 'Mixed/Other': 'Mixed Breed',\n",
    " 'NEWFOUNDLAND': 'Newfoundland',\n",
    " 'NEWFOUNDLAND OR TIBETAN MASTIFF': 'Mixed Breed',\n",
    " 'NORFOLK TERRIER/ YORKSHIRE TERRIER': 'Mixed Breed',\n",
    " 'NOT CERTAIN': 'Unknown',\n",
    " 'NOT SURE, RESCUE': 'Unknown',\n",
    " 'NOVA SCOTIA DUCK TOLLIER': 'NSDT',\n",
    " 'NOVA SCOTIA DUCK TOLLING RETRIEVER': 'NSDT',\n",
    " 'NOVA SCOTIA DUCK TOLLING TERRIER': 'NSDT',\n",
    " 'Newfoundland': 'Newfoundland',\n",
    " 'Norfolk Terrier': 'Terrier',\n",
    " 'Norwich Terrier': 'Terrier',\n",
    " 'Old English Sheepdog': 'Sheepdog',\n",
    " 'PAPILLON / PIT BULL MIX': 'Mixed Breed',\n",
    " 'PARSON RUSSELL TERRIER': 'Terrier',\n",
    " 'PARSON RUSSELLTERR': 'Terrier',\n",
    " 'PARSON TERR': 'Terrier',\n",
    " 'PATTERDALE TERRIER': 'Terrier',\n",
    " 'PEEK A BOO POODLE': 'Mixed Breed',\n",
    " 'PEEKAPOO MIX': 'Mixed Breed',\n",
    " 'PEKINGESE -X': 'Pekingese',\n",
    " 'PEKINGESE / BEAGLE MIX': 'Pekingese',\n",
    " 'PEKINGESE / POODLE MIX': 'Pekingese',\n",
    " 'PEKINGESE /POODIE MIX': 'Pekingese',\n",
    " 'PEKINGESE MIX': 'Pekingese',\n",
    " 'PEKINGESE,SHIH TZU,  CHIH HUA HUA X': 'Mixed Breed',\n",
    " 'PEKINGESE/CHIHUAHUA': 'Pekingese',\n",
    " 'PERSIAN': 'Mixed Breed',\n",
    " 'PETITE GOLDEN DOODLE': 'Mixed Breed',\n",
    " 'PINCHER': 'Pincher',\n",
    " 'PINSCHER / CHIHUAHUA MIX': 'Mixed Breed',\n",
    " 'PIT BULL': 'Pit Bull',\n",
    " 'PIT BULL & SILKY TERRIER X': 'Pit Bull',\n",
    " 'PIT BULL (UNSURE)': 'Unknown',\n",
    " 'PIT BULL / AMERICAN FOXHOUND MIX': 'Pit Bull',\n",
    " 'PIT BULL / AMERICAN STAFFORDSHIRE': 'Pit Bull',\n",
    " 'PIT BULL / BEAGLE MIX': 'Pit Bull',\n",
    " 'PIT BULL / BEAGLE X': 'Pit Bull',\n",
    " 'PIT BULL / BENJI MIX': 'Pit Bull',\n",
    " 'PIT BULL / BOSTON TERRIER MIX': 'Pit Bull',\n",
    " 'PIT BULL / BOXER': 'Pit Bull',\n",
    " 'PIT BULL / BOXER MIX': 'Pit Bull',\n",
    " 'PIT BULL / BOXER MIX (F) AND PIT BULL (M)': 'Unknown',\n",
    " 'PIT BULL / BULLY MIX': 'Pit Bull',\n",
    " 'PIT BULL / CHIHUAHUA MIX': 'Pit Bull',\n",
    " 'PIT BULL / GERMAN SHEPHERD MIX': 'Pit Bull',\n",
    " 'PIT BULL / JACK RUSSELL MIX': 'Pit Bull',\n",
    " 'PIT BULL / LABRADOR': 'Pit Bull',\n",
    " 'PIT BULL / LABRADOR / ROTTWEILER MIX': 'Mixed Breed',\n",
    " 'PIT BULL / LABRADOR MIX': 'Pit Bull',\n",
    " 'PIT BULL / MASTIFF MIX': 'Pit Bull',\n",
    " 'PIT BULL / MIXED BREED': 'Pit Bull',\n",
    " 'PIT BULL / RETRIEVER MIX': 'Pit Bull',\n",
    " 'PIT BULL / ROTTWEILER': 'Pit Bull',\n",
    " 'PIT BULL / ROTTWEILER MIX': 'Pit Bull',\n",
    " 'PIT BULL / SHEPHERD MIX': 'Pit Bull',\n",
    " 'PIT BULL / STAFFORDSHIRE': 'Pit Bull',\n",
    " 'PIT BULL /GERMAN SHEPHERD MIX': 'Pit Bull',\n",
    " 'PIT BULL BLUE NOSE': 'Pit Bull',\n",
    " 'PIT BULL BULLY': 'Bully',\n",
    " 'PIT BULL CATTAHULA MIX': 'Pit Bull',\n",
    " 'PIT BULL MIX': 'Pit Bull',\n",
    " 'PIT BULL MIX (F) AND PIT BULL': 'Pit Bull',\n",
    " 'PIT BULL MIX (F) AND PIT BULL (M)': 'Pit Bull',\n",
    " 'PIT BULL MIX / TERRIER MIX': 'Pit Bull',\n",
    " 'PIT BULL MIXED': 'Pit Bull',\n",
    " 'PIT BULL OR ROTTWEILER X': 'Unknown',\n",
    " 'PIT BULL TER/ALASKAN HUSKY': 'Pit Bull',\n",
    " 'PIT BULL TER/MIX WTH PINK NOSE': 'Pit Bull',\n",
    " 'PIT BULL TERR/ALASKAN HUSKY': 'Pit Bull',\n",
    " 'PIT BULL TERRIER': 'Pit Bull',\n",
    " 'PIT BULL TERRIER MIX': 'Pit Bull',\n",
    " 'PIT BULL X': 'Pit Bull',\n",
    " 'PIT BULL X/ PUG': 'Pit Bull',\n",
    " 'PIT BULL X/BEAGLE': 'Pit Bull',\n",
    " 'PIT BULL X/FRENCH BULLDOG': 'Pit Bull',\n",
    " 'PIT BULL X/SHEPHERD': 'Pit Bull',\n",
    " 'PIT BULL/ AMERICAN BULLY': 'Pit Bull',\n",
    " 'PIT BULL/ SIBERIAN HUSKY': 'Pit Bull',\n",
    " 'PIT BULL/AMERICAN BULL': 'Pit Bull',\n",
    " 'PIT BULL/BASSETT HOUND/SHARPEI MIX': 'Mixed Breed',\n",
    " 'PIT BULL/BOXER': 'Pit Bull',\n",
    " 'PIT BULL/BOXER MIX': 'Pit Bull',\n",
    " 'PIT BULL/BOXER X': 'Pit Bull',\n",
    " 'PIT BULL/BULL DOG': 'Pit Bull',\n",
    " 'PIT BULL/BULL DOG MIX': 'Mixed Breed',\n",
    " 'PIT BULL/COCKER X': 'Pit Bull',\n",
    " 'PIT BULL/DACHSHUND': 'Pit Bull',\n",
    " 'PIT BULL/DOGO ARGENTINO': 'Pit Bull',\n",
    " 'PIT BULL/GERMAN SHEPHARD': 'Pit Bull',\n",
    " 'PIT BULL/GOLDEN RETRIVE X': 'Pit Bull',\n",
    " 'PIT BULL/GREY HOUND X': 'Pit Bull',\n",
    " 'PIT BULL/LAB RETRIEVER': 'Pit Bull',\n",
    " 'PIT BULL/LAB X': 'Pit Bull',\n",
    " 'PIT BULL/LABRADOR': 'Pit Bull',\n",
    " 'PIT BULL/ROTTWEILER': 'Pit Bull',\n",
    " 'PIT BULL/YORKIE X': 'Pit Bull',\n",
    " 'PIT BULLS & LABRADOR': 'Pit Bull',\n",
    " 'PIT TERRIER MIX': 'Pit Bull',\n",
    " 'PIT-BULL LAB X': 'Pit Bull',\n",
    " 'PIT/ PUG MIX': 'Pit Bull',\n",
    " 'PIT/BOXER': 'Pit Bull',\n",
    " 'PIT/CHIHUAHUA': 'Pit Bull',\n",
    " 'PIT/LAB MIX': 'Pit Bull',\n",
    " 'PITBULL': 'Pit Bull',\n",
    " 'PITBULL & LAB MIX': 'Pit Bull',\n",
    " 'PITBULL BOXER MIX': 'Pit Bull',\n",
    " 'PITBULL MIX': 'Pit Bull',\n",
    " 'PITBULL TERRIER MIX': 'Pit Bull',\n",
    " 'PITBULL X/BULL DOG': 'Pit Bull',\n",
    " 'PITBULL/ LAB': 'Pit Bull',\n",
    "  'PITBULL/ LAB MIX': 'Pit Bull',\n",
    " 'PITBULL/BOXER': 'Pit Bull',\n",
    " 'PITBULL/BOXER MIX': 'Pit Bull',\n",
    " 'PITBULL/GOLDEN RETRIEVER': 'Pit Bull',\n",
    " 'PITBULL/LAB MIX': 'Pit Bull',\n",
    " 'PITBULL/LABRADOR MIX': 'Pit Bull',\n",
    " 'PITBULL/LABRADOR RETRIEVER': 'Pit Bull',\n",
    " 'PITBULL/MASTIFF': 'Pit Bull',\n",
    " 'PITBULL/MINI DOBERMAN': 'Pit Bull',\n",
    " 'PITBULL/RHODESIAN': 'Pit Bull',\n",
    " 'PITBULL/ROTWEILER': 'Pit Bull',\n",
    " 'PLOTT HOUND': 'Hound',\n",
    " 'POCKET BEAGLE': 'Beagle',\n",
    " 'POCKET BULLY': 'Bully',\n",
    " 'POCKET BULLY/BULLDOG MIX': 'Mixed Breed',\n",
    " 'PODDLE MIX': 'Mixed Breed',\n",
    " 'PODENGO PEQUENO/MIX': 'Mixed Breed',\n",
    " 'POINTER': 'Pointer',\n",
    " 'POINTER MIX': 'Mixed Breed',\n",
    " 'POINTER X': 'Mixed Breed',\n",
    " 'POINTER/BEAGLE X': 'Mixed Breed',\n",
    " 'POM MIX DACHSHUND': 'Pomeranian',\n",
    " 'POM MIX SHIH TZU': 'Pomeranian',\n",
    " 'POMAPOO MIX': 'Pomeranian',\n",
    " 'POMERANIAN & CHIHUAHUA': 'Pomeranian',\n",
    " 'POMERANIAN / CHIHUAHUA MIX': 'Pomeranian',\n",
    " 'POMERANIAN / HUSKY MIX': 'Pomeranian',\n",
    " 'POMERANIAN / MALTESE MIX': 'Pomeranian',\n",
    " 'POMERANIAN / POODLE MIX': 'Pomeranian',\n",
    " 'POMERANIAN / SHIH TZU': 'Pomeranian',\n",
    " 'POMERANIAN / YORKIE MIX': 'Pomeranian',\n",
    " 'POMERANIAN MIX': 'Pomeranian',\n",
    " 'POMERANIAN X': 'Pomeranian',\n",
    " 'POMERANIAN/ HUSKY': 'Pomeranian',\n",
    " 'POMERANIAN/ SHIH TZU': 'Pomeranian',\n",
    " 'POMERANIAN/HUSKY MIX': 'Pomeranian',\n",
    " 'POMERANIAN/TERRER MIX': 'Pomeranian',\n",
    " 'POMERANIAN/TERRIER': 'Pomeranian',\n",
    " 'POMERANIAN/YORKIE': 'Pomeranian',\n",
    " 'POMERIAN/MALTESE X': 'Pomeranian',\n",
    " 'POMSKI': 'Mixed Breed',\n",
    " 'POMSKY': 'Mixed Breed',\n",
    " 'POODLE': 'Poodle',\n",
    " 'POODLE / COCKER SPANIEL MIX': 'Poodle',\n",
    " 'POODLE / DACHSHUND MIX': 'Poodle',\n",
    " 'POODLE / FRENCH BULL DOG': 'Poodle',\n",
    " 'POODLE / MALTESE MIX': 'Poodle',\n",
    " 'POODLE / SCHNAUZER / COCKER SPANIEL MIX': 'Mixed Breed',\n",
    " 'POODLE / SCHNAUZER MIX': 'Poodle',\n",
    " 'POODLE / SHIH TZU MIX': 'Poodle',\n",
    " 'POODLE / WHEATON MIX': 'Poodle',\n",
    " 'POODLE / YORKIE MIX': 'Poodle',\n",
    " 'POODLE CHIHUAHUA': 'Poodle',\n",
    " 'POODLE MIN/ YORKSHIRE TER': 'Poodle',\n",
    " 'POODLE MIN/SHIH TZU': 'Poodle',\n",
    " 'POODLE MIX': 'Poodle',\n",
    " 'POODLE OR DALMATION': 'Unknown',\n",
    " 'POODLE TERRIER': 'Poodle',\n",
    " 'POODLE X': 'Poodle',\n",
    " 'POODLE- X': 'Poodle',\n",
    " 'POODLE/ MALTESE MIX': 'Poodle',\n",
    " 'POODLE/ SHIH TZU MIX': 'Poodle',\n",
    " 'POODLE/ SHIH- TZU': 'Poodle',\n",
    " 'POODLE/BOXER X': 'Poodle',\n",
    " 'POODLE/CHIHUAHUA X': 'Poodle',\n",
    " 'POODLE/MALTESE': 'Poodle',\n",
    " 'POODLE/SCHNAUZER': 'Poodle',\n",
    " 'POODLE/SHIH TZU': 'Poodle',\n",
    " 'POONGSAN': 'Unknown',\n",
    " 'PORTUGUESE PODENGO PEQUENO': 'Unknown',\n",
    " 'POTCAKE': 'Unknown',\n",
    " 'POTCAKE DOG': 'Unknown',\n",
    " 'PRESA CANARIO': 'Presa Canario',\n",
    " 'PUG': 'Pug',\n",
    " 'PUG & (2) SHIH TZU MIX': 'Pug',\n",
    " 'PUG / BULL X & BOX MIX': 'Mixed Breed',\n",
    " 'PUG / CHIHUAHUA MIX': 'Pug',\n",
    " 'PUG / FRENCH BULL MIX': 'Pug',\n",
    " 'PUG / JACK RUSS MIX': 'Pug',\n",
    " 'PUG / RETRIEVER / SHIH TZU MIX': 'Mixed Breed',\n",
    " 'PUG AND FRENCH BULL MIX': 'Pug',\n",
    " 'PUG MIX': 'Pug',\n",
    " 'PUG OR PIT BULL': 'Unknown',\n",
    " 'PUG X SHIH TZU': 'Pug',\n",
    " 'PUG/BEAGLE X': 'Pug',\n",
    " 'PUG/BOXER': 'Pug',\n",
    " 'PUGGLE': 'Pug',\n",
    " 'PUGGLE / HOUND MIX': 'Mixed Breed',\n",
    " 'PUGGLE MIX': 'Pug',\n",
    " 'PUGGLE/PUG/BEAGLE MIX': 'Pug',\n",
    " 'Papillon': 'Papillon',\n",
    " 'Pekingese': 'Pekingese',\n",
    " 'Pekingese Mix': 'Pekingese',\n",
    " 'Pharoh hound': 'Hound',\n",
    " 'Pincher': 'Pincher',\n",
    " 'Pinscher': 'Pincher',\n",
    " 'Pit Bull': 'Pit Bull',\n",
    " 'Pit Bull Mix': 'Pit Bull',\n",
    " 'Pointer': 'Pointer',\n",
    " 'Pointer, German Shorthaired': 'Mixed Breed',\n",
    " 'Pomeranian': 'Pomeranian',\n",
    " 'Poodle': 'Poodle',\n",
    " 'Poodle, Miniature': 'Poodle',\n",
    " 'Poodle, Standard': 'Poodle',\n",
    " 'Poodle, Toy': 'Poodle',\n",
    " 'Portuguese Water Dog': 'Mixed Breed',\n",
    " 'Possibly Pitbull mix': 'Mixed Breed',\n",
    " 'Pug': 'Pug',\n",
    " 'Puggle': 'Pug',\n",
    " 'Puli': 'Puli',\n",
    " 'QUEENSLAND BLUE HEALER': 'Heeler',\n",
    " 'RAT TERRIER': 'Terrier',\n",
    " 'RAT TERRIER / PINSCHER MIX': 'Terrier',\n",
    " 'RAT TERRIER / SHIH TZU MIX': 'Terrier',\n",
    " 'RAT TERRIER MIX': 'Terrier',\n",
    " 'RED NOSE PIT': 'Pit Bull',\n",
    " 'RED NOSE PIT BULL': 'Pit Bull',\n",
    " 'RED-NOSE PIT BULL': 'Pit Bull',\n",
    " 'RED-NOSED PIT BULL': 'Pit Bull',\n",
    " 'REFUSED TO PROVIDE': 'Unknown',\n",
    " 'RETREIVER': 'Labrador',\n",
    " 'RETRIEVER': 'Labrador',\n",
    " 'RETRIEVER MIX': 'Labrador',\n",
    " 'RETRIEVER X': 'Labrador',\n",
    " 'RETRIEVER/AUSTRALIAN CATTLE DOG X': 'Labrador',\n",
    " 'RETRIEVER/LAB X': 'Labrador',\n",
    " 'RHODESIAN RIDGEBACK/ TERRIER': 'Ridgeback',\n",
    " 'RIDGEBACK GERMAN SHEP X': 'Ridgeback',\n",
    " 'RIDGEBACK PIT BULL BOXER X': 'Mixed Breed',\n",
    " 'RIDGEBACK X': 'Ridgeback',\n",
    " 'ROTTWEILER / HUSKY MIX': 'Rottweiler',\n",
    " 'ROTTWEILER / PIT BULL': 'Rottweiler',\n",
    " 'ROTTWEILER / PIT BULL MIX': 'Rottweiler',\n",
    " 'ROTTWEILER / SHEPHERD MIX': 'Rottweiler',\n",
    " 'ROTTWEILER AND BOXER MIX': 'Rottweiler',\n",
    " 'ROTTWEILER MIX': 'Rottweiler',\n",
    " 'ROTTWEILER X': 'Rottweiler',\n",
    " 'ROTTWEILER/ CONCORD MIX': 'Rottweiler',\n",
    " 'ROTTWEILER/ GERMAN SHEPHERD MIX': 'Rottweiler',\n",
    " 'ROTTWEILER/ SHEPHERD': 'Rottweiler',\n",
    " 'ROTTWEILER/BOXER': 'Rottweiler',\n",
    " 'ROTTWEILER/HUSKY MIX': 'Rottweiler',\n",
    " 'ROTTWEILER/PIT BULL MIX': 'Rottweiler',\n",
    " 'ROTTWEILER/PIT BULL X': 'Rottweiler',\n",
    " 'ROTTWEILER/SIB HUSKY': 'Rottweiler',\n",
    " 'ROTWEILER MIX': 'Rottweiler',\n",
    " 'ROTWEILLER/LABRADOR RETRIEVER': 'Rottweiler',\n",
    " 'RUSSELL TERR': 'Jack Russ',\n",
    " 'RUSSELL TERRIER / YORKIE MIX': 'Jack Russ',\n",
    " 'RUSSIAN TERRIER': 'Terrier',\n",
    " 'Retreiver': 'Labrador',\n",
    " 'Retreiver Mix': 'Labrador',\n",
    " 'Retriever': 'Labrador',\n",
    " 'Rhodesian Ridgeback': 'Ridgeback',\n",
    " 'Rottweiler': 'Rottweiler',\n",
    " 'Russian Wolfhound': 'Wolfhound',\n",
    " 'SAINT BERNARD MIX': 'Mixed Breed',\n",
    " 'SAINT BERNARD/ AKITA MIX': 'Mixed Breed',\n",
    " 'SAPSAL': 'Mixed Breed',\n",
    " 'SCHNAUZER': 'Schnauzer',\n",
    " 'SCHNAUZER / SHIH TZU MIX': 'Schnauzer',\n",
    " 'SCHNAUZER MIX': 'Schnauzer',\n",
    " 'SCHNAUZER MIXED': 'Schnauzer',\n",
    " 'SCHNAUZER POODLE MIX': 'Schnauzer',\n",
    " 'SCHNAUZER STAND/SC WHEAT TERR': 'Schnauzer',\n",
    " 'SCHNAUZER/MALTESE': 'Schnauzer',\n",
    " 'SCHNAUZER/POODLE': 'Schnauzer',\n",
    " 'SCHNAUZER/SHIH TZU X': 'Schnauzer',\n",
    " 'SCHNAUZER/WHEATON MIX': 'Schnauzer',\n",
    " 'SCHNOODLE': 'Schnauzer',\n",
    " 'SCHNOODLE MIX': 'Schnauzer',\n",
    " 'SCHNOODLE- POODLE/SCHNAUZER': 'Schnauzer',\n",
    " 'SCOTT TERRIER/SCHNAUZER X': 'Schnauzer',\n",
    " 'SCOTTIE/LHASA AHPSO': 'Mixed Breed',\n",
    " 'SCOTTISH TERRIER': 'Terrier',\n",
    " 'SETTER MIX': 'Mixed Breed',\n",
    " 'SHAR-PEI / BEAGLE MIX': 'Shar-Pei',\n",
    " 'SHAR-PEI / GERMAN SHEPHERD MIX': 'Shar-Pei',\n",
    " 'SHAR-PEI / PIT BULL MIX': 'Shar-Pei',\n",
    " 'SHAR-PEI X': 'Shar-Pei',\n",
    " 'SHAR-PEI/PIT BULL': 'Shar-Pei',\n",
    " 'SHARPEI': 'Shar-Pei',\n",
    " 'SHARPEI / BEAGLE MIX': 'Shar-Pei',\n",
    " 'SHARPEI-MASTIFF MIX': 'Shar-Pei',\n",
    " 'SHARPEI/ BRITTANY': 'Shar-Pei',\n",
    " 'SHARPEI/GERMAN SHEP X': 'Shar-Pei',\n",
    " 'SHEEP DOG': 'Sheep Dog',\n",
    " 'SHEEPADOODLE': 'Sheep Dog',\n",
    " 'SHEEPDOG': 'Sheep Dog',\n",
    " 'SHEP/TERRIER MIX': 'German Shepherd',\n",
    " 'SHEPARD': 'German Shepherd',\n",
    " 'SHEPARD MIX': 'German Shepherd',\n",
    " 'SHEPARD X': 'German Shepherd',\n",
    " 'SHEPERD': 'German Shepherd',\n",
    " 'SHEPERD MIX': 'German Shepherd',\n",
    " 'SHEPERD/HUSKY MIX': 'German Shepherd',\n",
    " 'SHEPHERD': 'German Shepherd',\n",
    " 'SHEPHERD / BELGIAN MALINOIS MIX': 'German Shepherd',\n",
    " 'SHEPHERD / BORDER COLLIE MIX': 'German Shepherd',\n",
    " 'SHEPHERD / CHOW MIX': 'German Shepherd',\n",
    " 'SHEPHERD / COLLIE MIX': 'German Shepherd',\n",
    " 'SHEPHERD / GREYHOUND MIX': 'German Shepherd',\n",
    " 'SHEPHERD / HOUND MIX': 'German Shepherd',\n",
    " 'SHEPHERD / HUSKY': 'German Shepherd',\n",
    " 'SHEPHERD / HUSKY MIX': 'German Shepherd',\n",
    " 'SHEPHERD / LABRADOR MIX': 'German Shepherd',\n",
    " 'SHEPHERD / PIT BULL MIX': 'German Shepherd',\n",
    " 'SHEPHERD MASTIFF X': 'German Shepherd',\n",
    " 'SHEPHERD MIX': 'German Shepherd',\n",
    " 'SHEPHERD X': 'German Shepherd',\n",
    " 'SHEPHERD/HUSKY MIX': 'German Shepherd',\n",
    " 'SHEPHERD/LABRADOR RETRIEVER MIX': 'German Shepherd',\n",
    " 'SHEPHERD/MASTIFF X': 'German Shepherd',\n",
    " 'SHEPHERD/PIT BULL X': 'German Shepherd',\n",
    " 'SHEPHERD/POINTER X': 'German Shepherd',\n",
    " 'SHEPHERD/TERRIER X': 'German Shepherd',\n",
    " 'SHEPHERED MIX': 'German Shepherd',\n",
    " 'SHERLYN SHEPHERD': 'Unknown',\n",
    " 'SHI-PO': 'Mixed Breed',\n",
    " 'SHIBA INU': 'Shiba Inu',\n",
    " 'SHIBA INU / AMERICAN ESKIMO': 'Shiba Inu',\n",
    " 'SHIBA INU / LABRADOR MIX': 'Shiba Inu',\n",
    " 'SHIBA INU MIX': 'Shiba Inu',\n",
    " 'SHIBA INU X': 'Shiba Inu',\n",
    " 'SHIBA MIX': 'Shiba Inu',\n",
    " 'SHICHI': 'Unknown',\n",
    " 'SHICHON': 'Unknown',\n",
    " 'SHIH IZU/JACK RUSSELL X': 'SHIH TZU',\n",
    " 'SHIH POO': 'SHIH TZU',\n",
    " 'SHIH TZU (MALE) & SHIH TZU MIX (FEMALE)': 'SHIH TZU',\n",
    " 'SHIH TZU / BICHON FRISE MIX': 'SHIH TZU',\n",
    " 'SHIH TZU / BICHON MIX': 'SHIH TZU',\n",
    " 'SHIH TZU / CHIHUAHUA MIX': 'SHIH TZU',\n",
    " 'SHIH TZU / COCKER SPANIEL MIX': 'SHIH TZU',\n",
    " 'SHIH TZU / MALTESE': 'SHIH TZU',\n",
    " 'SHIH TZU / MALTESE MIX': 'SHIH TZU',\n",
    " 'SHIH TZU / POMERANIAN MIX': 'SHIH TZU',\n",
    " 'SHIH TZU / POODLE MIX': 'SHIH TZU',\n",
    " 'SHIH TZU / PUG MIX': 'SHIH TZU',\n",
    " 'SHIH TZU / SHIBA INU': 'SHIH TZU',\n",
    " 'SHIH TZU / YORKIE MIX': 'SHIH TZU',\n",
    " 'SHIH TZU / YORKSHIRE MIX': 'SHIH TZU',\n",
    " 'SHIH TZU COKER SPANIEL MIX': 'SHIH TZU',\n",
    " 'SHIH TZU CROSSBREED': 'SHIH TZU',\n",
    " 'SHIH TZU HABANESE MIX': 'SHIH TZU',\n",
    " 'SHIH TZU MALTESE MIX': 'SHIH TZU',\n",
    " 'SHIH TZU MIX': 'SHIH TZU',\n",
    " 'SHIH TZU MIX MALTESE': 'SHIH TZU',\n",
    " 'SHIH TZU PUG': 'SHIH TZU',\n",
    " 'SHIH TZU X': 'SHIH TZU',\n",
    " 'SHIH TZU X/POODLE': 'SHIH TZU',\n",
    " 'SHIH TZU-X': 'SHIH TZU',\n",
    " 'SHIH TZU/ CHIHUAHUA MIX': 'SHIH TZU',\n",
    " 'SHIH TZU/ COCKER SPANIEL': 'SHIH TZU',\n",
    " 'SHIH TZU/ HAVANESE': 'SHIH TZU',\n",
    " 'SHIH TZU/ LHASA APSO': 'SHIH TZU',\n",
    " 'SHIH TZU/ MALTESE': 'SHIH TZU',\n",
    " 'SHIH TZU/ MALTESE MIX': 'SHIH TZU',\n",
    " 'SHIH TZU/ PEKINGESE': 'SHIH TZU',\n",
    " 'SHIH TZU/ POMERANINAN': 'SHIH TZU',\n",
    " 'SHIH TZU/ POODLE': 'SHIH TZU',\n",
    " 'SHIH TZU/ POODLE MIX': 'SHIH TZU',\n",
    " 'SHIH TZU/ YORKIE': 'SHIH TZU',\n",
    " 'SHIH TZU/ YORKSHIRE TERR': 'SHIH TZU',\n",
    " 'SHIH TZU/BICHON X': 'SHIH TZU',\n",
    " 'SHIH TZU/DACHSHUND  X': 'SHIH TZU',\n",
    " 'SHIH TZU/MALTESE X': 'SHIH TZU',\n",
    " 'SHIH TZU/POODLE': 'SHIH TZU',\n",
    " 'SHIH TZU/POODLE X': 'SHIH TZU',\n",
    " 'SHIH TZU/YORKIE MIX': 'SHIH TZU',\n",
    " 'SHIH TZU/YORKIE TERRIER MIX': 'SHIH TZU',\n",
    " 'SHIH TZU/YORKIE X': 'SHIH TZU',\n",
    " 'SHIH TZU/YORKSHIRE TERR': 'SHIH TZU',\n",
    " 'SHIHTZU MIX': 'SHIH TZU',\n",
    " 'SHIHTZU-POODLE MIX': 'SHIH TZU',\n",
    " 'SHIHTZU/MALTESE MIX': 'SHIH TZU', \n",
    " 'SHITZU MIX': 'SHIH TZU',\n",
    " 'SHORKY': 'SHIH TZU',\n",
    " 'SIBERIAN HUSKY / PIT BULL MIX': 'Husky',\n",
    " 'SIBERIAN HUSKY MIX': 'Husky',\n",
    " 'SIBERIAN HUSKY X': 'Husky',\n",
    " 'SIBERIAN PIT BULL': 'Husky',\n",
    " 'SMALL': 'Unknown',\n",
    " 'SMALL DOG': 'Unknown',\n",
    " 'SMALL MIX BREED': 'Unknown',\n",
    " 'SMALL MIXDED DOG': 'Unknown',\n",
    " 'SMALL MIXED': 'Unknown',\n",
    " 'SMALL MIXED BREED': 'Unknown',\n",
    " 'SMALL MIXED BREED/TERRIER MIX': 'Unknown',\n",
    " 'SMALL MIXED BREED\\\\': 'Unknown',\n",
    " 'SMALL MIXED DOG': 'Unknown',\n",
    " 'SMOOTH COAT COLLIE X': 'Mixed Breed',\n",
    " 'SOFT COATED WHEATEN TERRIER': 'Terrier',\n",
    " 'SOFT WHEATON TERRIER': 'Terrier',\n",
    " 'SPANIEL': 'Spaniel',\n",
    " 'SPANIEL MIX': 'Spaniel',\n",
    " 'SPANIEL MIXED': 'Spaniel',\n",
    " 'SPANIEL MIXED BREED': 'Spaniel',\n",
    " 'SPANIEL X': 'Spaniel',\n",
    " 'SPANIEL X TERRIER': 'Spaniel',\n",
    " 'SPANIEL/POODLE MIX': 'Spaniel',\n",
    " 'SPANISH WATER DOG': 'Mixed Breed',\n",
    " 'SPINONE ITALIANO': 'Mixed Breed',\n",
    " 'SPITZ': 'Spitz',\n",
    " 'SPRINGER SPANIEL': 'Spaniel',\n",
    " 'ST BERNARD': 'St. Bernard',\n",
    " 'STAFFORD': 'A_Staff',\n",
    " 'STAFFORD -SMAR BULLY PIT BULL': 'A_Staff',\n",
    " 'STAFFORDHIRE/ENGLISH BULLDOG': 'A_Staff',\n",
    " 'STAFFORDSHIRE': 'A_Staff',\n",
    " 'STAFFORDSHIRE / ENGLIS BULL MIX': 'A_Staff',\n",
    " 'STAFFORDSHIRE / PIT BULL MIX': 'A_Staff',\n",
    " 'STAFFORDSHIRE BULL TERRIER': 'A_Staff',\n",
    " 'STAFFORDSHIRE BULL TERRIER X': 'A_Staff',\n",
    " 'STAFFORDSHIRE MIX': 'A_Staff',\n",
    " 'STAFFORDSHIRE TERR': 'A_Staff',\n",
    " 'STAFFORDSHIRE TERRIER': 'A_Staff',\n",
    " 'STAFFORDSHIRE TERRIER MIX': 'A_Staff',\n",
    " 'STAFFORDSHIRE TERRIER X': 'A_Staff',\n",
    " 'STAFFORDSHIRE TERRIER/PITBULL MIX': 'A_Staff',\n",
    " 'STAFFORDSHIRE X': 'A_Staff',\n",
    " 'STAFFORDSHIRE/PIT BULL X': 'A_Staff',\n",
    " 'SUDANESE HOUND X': 'Hound',\n",
    " 'Saint Bernard': 'St. Bernard',\n",
    " 'Saluki': 'Saluki',\n",
    " 'Samoyed': 'Samoyed',\n",
    " 'Schipperkee': 'Schipperkee',\n",
    " 'Schnauzer': 'Schnauzer',\n",
    " 'Schnauzer, Giant': 'Schnauzer',\n",
    " 'Schnauzer, Miniature': 'Schnauzer',\n",
    " 'Schnauzer, Standard': 'Schnauzer',\n",
    " 'Schnoodle': 'Schnauzer',\n",
    " 'Scottish Terrier': 'Terrier',\n",
    " 'Shar-Pei, Chinese': 'Shar-Pei',\n",
    " 'Sheep Dog': 'Sheep Dog',\n",
    " 'Sheepdog': 'Sheep Dog',\n",
    " 'Shepherd': 'German Shepherd',\n",
    " 'Shepherd Mix': 'German Shepherd',\n",
    " 'Shetland Sheepdog': 'Sheep Dog',\n",
    " 'Shiba Inu': 'Shiba Inu',\n",
    " 'Shih Tzu': 'SHIH TZU',\n",
    " 'Siberian Husky': 'Husky',\n",
    " 'Silky Terrier': 'Terrier',\n",
    " 'Spaniel': 'Spaniel',\n",
    " 'Spaniel Mix': 'Spaniel',\n",
    " 'Spitz': 'Spitz',\n",
    " 'Staffordshire Bull Terrier': 'Terrier',\n",
    " 'TAIWANESE MIX': 'Mixed Breed',\n",
    " 'TEACUP CHI HUA HUA': 'Chihuahua',\n",
    " 'TEACUP MALTESE': 'Maltese',\n",
    " 'TEACUP YORKSHIRE': 'Terrier',\n",
    " 'TERR & LAB': 'Terrier',\n",
    " 'TERR MIX': 'Terrier',\n",
    " 'TERR X': 'Terrier',\n",
    " 'TERRIER': 'Terrier',\n",
    " 'TERRIER - OTHER': 'Terrier',\n",
    " 'TERRIER / CHIHUAHUA MIX': 'Terrier',\n",
    " 'TERRIER / PIT BULL MIX': 'Terrier',\n",
    " 'TERRIER CROSS': 'Terrier',\n",
    " 'TERRIER HOUND X': 'Terrier',\n",
    " 'TERRIER MIX': 'Terrier',\n",
    " 'TERRIER MIX/HOUND': 'Mixed Breed',\n",
    " 'TERRIER MIXED': 'Terrier',\n",
    " 'TERRIER X': 'Terrier',\n",
    " 'TERRIER, JACK RUSS': 'Jack Russ',\n",
    " 'TERRIER, KERRY BLUE': 'Terrier',\n",
    " 'TERRIER- X': 'Terrier',\n",
    " 'TERRIER/ YORKIE': 'Terrier',\n",
    " 'TERRIER/BEAGLE MIX': 'Terrier',\n",
    " 'TERRIER/MALTESE MIX': 'Terrier',\n",
    " 'TERRIER/PIT BULL': 'Terrier',\n",
    " 'TERRIER/PITBULL': 'Terrier',\n",
    " 'TERRIER/POODLE X': 'Terrier',\n",
    " 'TERRIER/ROTTWEILER X': 'Terrier',\n",
    " 'TOY FOX TERRIER': 'Terrier',\n",
    " 'TOY POODLE MIX': 'Poodle',\n",
    " 'TOY YORKIE': 'Terrier',\n",
    " 'Terrier': 'Terrier',\n",
    " 'Terrier Mix': 'Terrier',\n",
    " 'Tibetan Spaniel': 'Spaniel',\n",
    " 'Tibetan Terrier': 'Terrier',\n",
    " 'UKNOWN': 'Unknown',\n",
    " 'UNCERTAIN': 'Unknown',\n",
    " 'UNKNOWN': 'Unknown',\n",
    " 'UNKNOWN 2 DOGS': 'Unknown',\n",
    " 'UNKNOWN TERRIER': 'Unknown',\n",
    " 'UNKOWN': 'Unknown',\n",
    " 'UNNKOWN': 'Unknown',\n",
    " 'UNSURE': 'Unknown',\n",
    " 'VICTORIAN BULLDOG': 'Bull Dog',\n",
    " 'VIZSLA/LAB/PIT': 'Mixed Breed',\n",
    " 'Vizsla': 'Vizsla',\n",
    " 'WALKERHOUND': 'Hound',\n",
    " 'WEIMARANER / LABRADOR MIX': 'Mixed Breed',\n",
    " 'WEIMARANER X': 'Weimaraner',\n",
    " 'WELSH CORGI MIX': 'Corgi',\n",
    " 'WELSH SPRINGER SPANIEL': 'Spaniel',\n",
    " 'WELSH/CORGI': 'Corgi',\n",
    " 'WEST HIGHLAND MIX': 'Terrier',\n",
    " 'WEST HIGHLAND TERR': 'Terrier',\n",
    " 'WEST HIGHLAND TERRIER MIX': 'Terrier',\n",
    " 'WESTIE': 'Terrier',\n",
    " 'WESTIE & SCHNAUZER': 'Terrier',\n",
    " 'WESTIE / YORKIE / CHIHUAHUA MIX': 'Mixed Breed',\n",
    " 'WESTIE TERRIER': 'Terrier',\n",
    " 'WESTIE-PIT BULL X': 'Terrier',\n",
    " 'WESTIE/POODLE': 'Terrier',\n",
    " 'WESTIES': 'Terrier',\n",
    " 'WESTY': 'Terrier',\n",
    " 'WHEATON TERRIER': 'Terrier',\n",
    " 'WHESTIE / MALTESE MIX': 'Mixed Breed',\n",
    " 'WHIPPET MIX': 'Mixed Breed',\n",
    " 'WHIPPET X':'Whippet',\n",
    " 'WHITE POINT GRIFFON': 'Griffon',\n",
    " 'WIRE HAIR TERRIER': 'Terrier',\n",
    " 'WIRED HAIR TERRIER X': 'Terrier',\n",
    " 'WIREHAIRED POINTING GRIFFON': 'Griffon',\n",
    " 'WOLFHOUND CROSSBREED': 'Mixed Breed',\n",
    " 'Weimaraner': 'Weimaraner',\n",
    " 'Welsh Corgi, Cardigan': 'Corgi',\n",
    " 'Welsh Corgi, Pembroke': 'Corgi',\n",
    " 'West High White Terrier': 'Terrier',\n",
    " 'Wheaton Terrier': 'Terrier',\n",
    " 'Whippet': 'Whippet',\n",
    " 'Wire Fox Terrier': 'Terrier',\n",
    " 'Wolfhound': 'Wolfhound',\n",
    " 'YELLOW LAB/BEAGLE X': 'Labrador',\n",
    " 'YORKIE': 'Yorkie',\n",
    " 'YORKIE / BICHON FRISE MIX': 'Yorkie',\n",
    " 'YORKIE / CHIHUAHUA MIX': 'Yorkie',\n",
    " 'YORKIE / JACK RUSSELL MIX': 'Yorkie',\n",
    " 'YORKIE / MALTESE MIX': 'Yorkie',\n",
    " 'YORKIE / POODLE MIX': 'Yorkie',\n",
    " 'YORKIE / SCHNAUZER MIX': 'Yorkie',\n",
    " 'YORKIE / SHIH TZU': 'Yorkie',\n",
    " 'YORKIE / SHIH TZU / MALTESE': 'Mixed Breed',\n",
    " 'YORKIE / SHIH TZU MIX': 'Yorkie',\n",
    " 'YORKIE CHON': 'Yorkie',\n",
    " 'YORKIE MALTESE MIX': 'Yorkie',\n",
    " 'YORKIE MIX': 'Yorkie',\n",
    " 'YORKIE POO': 'Yorkie',\n",
    " 'YORKIE POO- YORKSHIRE TERRIER/MALTESE/POODLE': 'Mixed Breed',\n",
    " 'YORKIE POODLE': 'Yorkie',\n",
    " 'YORKIE-POO': 'Yorkie',\n",
    " 'YORKIE/ SHIH TZU': 'Yorkie',\n",
    " 'YORKIE/BICHON': 'Yorkie',\n",
    " 'YORKIE/CHIHUAHUA/PITBULL/SHITZU': 'Mixed Breed',\n",
    " 'YORKIE/MALTESE': 'Yorkie',\n",
    " 'YORKIE/MALTESE MIX': 'Yorkie',\n",
    " 'YORKIE/MALTESE X': 'Yorkie',\n",
    " 'YORKIE/PODDLE': 'Yorkie',\n",
    " 'YORKIE/SCHNAUZER MIX': 'Yorkie',\n",
    " 'YORKIE/SCHNAUZER X': 'Yorkie',\n",
    " 'YORKIE/SHIH TZU': 'Yorkie',\n",
    " 'YORKIE/SHIH TZU X': 'Yorkie',\n",
    " 'YORKIE/SHIHTZU': 'Yorkie',\n",
    " 'YORKIE/SHITZU X': 'Yorkie',\n",
    " 'YORKIE/TERRIER MIX': 'Yorkie',\n",
    " 'YORKIPOO': 'Yorkie',\n",
    " 'YORKSHIRE / JACK RUSS': 'Yorkie',\n",
    " 'YORKSHIRE / MALTESE MIX': 'Yorkie',\n",
    " 'YORKSHIRE / SHIH TZU MIX': 'Yorkie',\n",
    " 'YORKSHIRE TER/SHIHTZU': 'Yorkie',\n",
    " 'YORKSHIRE TERRIER': 'Yorkie',\n",
    " 'YORKSHIRE TERRIER MIX': 'Yorkie',\n",
    " 'YORKSHIRE/ TIBETAN TERRIER': 'Yorkie',\n",
    " 'YORKSHIRE/SHIH TZU MIX': 'Yorkie',\n",
    " 'YORKY-POODLE': 'Yorkie',\n",
    " 'Yorkshire Terrier': 'Yorkie',\n",
    " 'Yorkshire Terrier Crossbreed': 'Yorkie',\n",
    " }\n",
    "\n",
    "# Replace the original values with the revised ones\n",
    "df['Breed'] = df['Breed'].replace(breed_classification)\n"
   ]
  },
  {
   "cell_type": "markdown",
   "metadata": {},
   "source": [
    "<font size =\"3\"> Now that the Breed list is cleaned up, let's remove anything that is not a dog.</font>"
   ]
  },
  {
   "cell_type": "code",
   "execution_count": 31,
   "metadata": {
    "execution": {
     "iopub.execute_input": "2024-07-11T22:13:22.388971Z",
     "iopub.status.busy": "2024-07-11T22:13:22.388593Z",
     "iopub.status.idle": "2024-07-11T22:13:22.398127Z",
     "shell.execute_reply": "2024-07-11T22:13:22.397041Z",
     "shell.execute_reply.started": "2024-07-11T22:13:22.388941Z"
    }
   },
   "outputs": [],
   "source": [
    "# Removes invalid 'Dog' enteries\n",
    "values_to_drop = ['GOAT', 'Alpaca']\n",
    "df = df[~df['Breed'].isin(values_to_drop)]"
   ]
  },
  {
   "cell_type": "code",
   "execution_count": 32,
   "metadata": {
    "execution": {
     "iopub.execute_input": "2024-07-11T22:13:22.399870Z",
     "iopub.status.busy": "2024-07-11T22:13:22.399471Z",
     "iopub.status.idle": "2024-07-11T22:13:22.418156Z",
     "shell.execute_reply": "2024-07-11T22:13:22.416881Z",
     "shell.execute_reply.started": "2024-07-11T22:13:22.399839Z"
    }
   },
   "outputs": [
    {
     "data": {
      "text/html": [
       "<div>\n",
       "<style scoped>\n",
       "    .dataframe tbody tr th:only-of-type {\n",
       "        vertical-align: middle;\n",
       "    }\n",
       "\n",
       "    .dataframe tbody tr th {\n",
       "        vertical-align: top;\n",
       "    }\n",
       "\n",
       "    .dataframe thead th {\n",
       "        text-align: right;\n",
       "    }\n",
       "</style>\n",
       "<table border=\"1\" class=\"dataframe\">\n",
       "  <thead>\n",
       "    <tr style=\"text-align: right;\">\n",
       "      <th></th>\n",
       "      <th>DateOfBite</th>\n",
       "      <th>Species</th>\n",
       "      <th>Breed</th>\n",
       "      <th>Age</th>\n",
       "      <th>Gender</th>\n",
       "      <th>SpayNeuter</th>\n",
       "      <th>Borough</th>\n",
       "      <th>ZipCode</th>\n",
       "      <th>BiteMonth</th>\n",
       "      <th>BiteYear</th>\n",
       "    </tr>\n",
       "  </thead>\n",
       "  <tbody>\n",
       "    <tr>\n",
       "      <th>0</th>\n",
       "      <td>2018-01-01</td>\n",
       "      <td>DOG</td>\n",
       "      <td>Unknown</td>\n",
       "      <td>0</td>\n",
       "      <td>U</td>\n",
       "      <td>N</td>\n",
       "      <td>Brooklyn</td>\n",
       "      <td>11220</td>\n",
       "      <td>1</td>\n",
       "      <td>2018</td>\n",
       "    </tr>\n",
       "    <tr>\n",
       "      <th>1</th>\n",
       "      <td>2018-01-04</td>\n",
       "      <td>DOG</td>\n",
       "      <td>Unknown</td>\n",
       "      <td>0</td>\n",
       "      <td>U</td>\n",
       "      <td>N</td>\n",
       "      <td>Brooklyn</td>\n",
       "      <td>0</td>\n",
       "      <td>1</td>\n",
       "      <td>2018</td>\n",
       "    </tr>\n",
       "    <tr>\n",
       "      <th>2</th>\n",
       "      <td>2018-01-06</td>\n",
       "      <td>DOG</td>\n",
       "      <td>Pit Bull</td>\n",
       "      <td>0</td>\n",
       "      <td>U</td>\n",
       "      <td>N</td>\n",
       "      <td>Brooklyn</td>\n",
       "      <td>11224</td>\n",
       "      <td>1</td>\n",
       "      <td>2018</td>\n",
       "    </tr>\n",
       "    <tr>\n",
       "      <th>3</th>\n",
       "      <td>2018-01-08</td>\n",
       "      <td>DOG</td>\n",
       "      <td>Mixed Breed</td>\n",
       "      <td>4</td>\n",
       "      <td>M</td>\n",
       "      <td>N</td>\n",
       "      <td>Brooklyn</td>\n",
       "      <td>11231</td>\n",
       "      <td>1</td>\n",
       "      <td>2018</td>\n",
       "    </tr>\n",
       "    <tr>\n",
       "      <th>4</th>\n",
       "      <td>2018-01-09</td>\n",
       "      <td>DOG</td>\n",
       "      <td>Pit Bull</td>\n",
       "      <td>0</td>\n",
       "      <td>U</td>\n",
       "      <td>N</td>\n",
       "      <td>Brooklyn</td>\n",
       "      <td>11224</td>\n",
       "      <td>1</td>\n",
       "      <td>2018</td>\n",
       "    </tr>\n",
       "  </tbody>\n",
       "</table>\n",
       "</div>"
      ],
      "text/plain": [
       "  DateOfBite Species        Breed  Age Gender SpayNeuter   Borough  ZipCode  \\\n",
       "0 2018-01-01     DOG      Unknown    0      U          N  Brooklyn    11220   \n",
       "1 2018-01-04     DOG      Unknown    0      U          N  Brooklyn        0   \n",
       "2 2018-01-06     DOG     Pit Bull    0      U          N  Brooklyn    11224   \n",
       "3 2018-01-08     DOG  Mixed Breed    4      M          N  Brooklyn    11231   \n",
       "4 2018-01-09     DOG     Pit Bull    0      U          N  Brooklyn    11224   \n",
       "\n",
       "   BiteMonth  BiteYear  \n",
       "0          1      2018  \n",
       "1          1      2018  \n",
       "2          1      2018  \n",
       "3          1      2018  \n",
       "4          1      2018  "
      ]
     },
     "execution_count": 32,
     "metadata": {},
     "output_type": "execute_result"
    }
   ],
   "source": [
    "# Viewing the dataframe again\n",
    "df.head()"
   ]
  },
  {
   "cell_type": "markdown",
   "metadata": {},
   "source": [
    "<font size =\"3\">After revsing the 'Breed' column, let's see how many unique values there are now as opposed to the orignal number of breeds of 1010.</font>"
   ]
  },
  {
   "cell_type": "code",
   "execution_count": 33,
   "metadata": {
    "execution": {
     "iopub.execute_input": "2024-07-11T22:13:22.420063Z",
     "iopub.status.busy": "2024-07-11T22:13:22.419709Z",
     "iopub.status.idle": "2024-07-11T22:13:22.431029Z",
     "shell.execute_reply": "2024-07-11T22:13:22.429817Z",
     "shell.execute_reply.started": "2024-07-11T22:13:22.420033Z"
    }
   },
   "outputs": [
    {
     "name": "stdout",
     "output_type": "stream",
     "text": [
      "Number of unique dog breeds after revisions: 296\n"
     ]
    }
   ],
   "source": [
    "# Number of dog breeds after the revisions?\n",
    "new_breed_count = df['Breed'].nunique()\n",
    "print(f\"Number of unique dog breeds after revisions: {new_breed_count}\")"
   ]
  },
  {
   "cell_type": "markdown",
   "metadata": {},
   "source": [
    "<font size =\"3\">From 1652 to 299 breeds; easier to work with and visualize.</font>"
   ]
  },
  {
   "cell_type": "markdown",
   "metadata": {},
   "source": [
    "# **Exploratory Analysis & Visualizations**"
   ]
  },
  {
   "cell_type": "markdown",
   "metadata": {},
   "source": [
    "### For Visualizations, let's first set a color theme to work with. \n",
    "\n",
    "<font size =\"3\">Site used for color palette selection:  https://webgyaani.com/beautiful-color-palettes-with-their-similar-gradient-palettes/</font>"
   ]
  },
  {
   "cell_type": "code",
   "execution_count": 34,
   "metadata": {
    "execution": {
     "iopub.execute_input": "2024-07-11T22:13:22.433171Z",
     "iopub.status.busy": "2024-07-11T22:13:22.432396Z",
     "iopub.status.idle": "2024-07-11T22:13:22.556097Z",
     "shell.execute_reply": "2024-07-11T22:13:22.554601Z",
     "shell.execute_reply.started": "2024-07-11T22:13:22.433130Z"
    }
   },
   "outputs": [
    {
     "data": {
      "image/png": "[encoded data removed]",
      "text/plain": [
       "<Figure size 500x100 with 1 Axes>"
      ]
     },
     "metadata": {},
     "output_type": "display_data"
    }
   ],
   "source": [
    "# Let's select a color pallete to use for our visualizations\n",
    "colpal = ['#2C6975', '#68B2A0','#CDE0C9', '#E0ECDE', '#205072' ] # Assigning color codes\n",
    "# Set the custom color palette\n",
    "set_palette(colpal)\n",
    "\n",
    "sns.palplot(colpal) # This will plot the colors "
   ]
  },
  {
   "cell_type": "markdown",
   "metadata": {},
   "source": [
    "<font size =\"3\">Now to see what unique values are contained in some of the columns. This is possible because the data set is small. This may not be feasible with a large data set.</font>"
   ]
  },
  {
   "cell_type": "code",
   "execution_count": 35,
   "metadata": {
    "execution": {
     "iopub.execute_input": "2024-07-11T22:13:22.559869Z",
     "iopub.status.busy": "2024-07-11T22:13:22.558769Z",
     "iopub.status.idle": "2024-07-11T22:13:22.570526Z",
     "shell.execute_reply": "2024-07-11T22:13:22.568920Z",
     "shell.execute_reply.started": "2024-07-11T22:13:22.559813Z"
    }
   },
   "outputs": [
    {
     "data": {
      "text/plain": [
       "['DOG']"
      ]
     },
     "execution_count": 35,
     "metadata": {},
     "output_type": "execute_result"
    }
   ],
   "source": [
    "# Species Values\n",
    "unique_species = sorted(df['Species'].unique())\n",
    "unique_species"
   ]
  },
  {
   "cell_type": "code",
   "execution_count": 36,
   "metadata": {
    "execution": {
     "iopub.execute_input": "2024-07-11T22:13:22.574074Z",
     "iopub.status.busy": "2024-07-11T22:13:22.573005Z",
     "iopub.status.idle": "2024-07-11T22:13:22.585225Z",
     "shell.execute_reply": "2024-07-11T22:13:22.583109Z",
     "shell.execute_reply.started": "2024-07-11T22:13:22.574018Z"
    }
   },
   "outputs": [
    {
     "data": {
      "text/plain": [
       "['F', 'M', 'U']"
      ]
     },
     "execution_count": 36,
     "metadata": {},
     "output_type": "execute_result"
    }
   ],
   "source": [
    "# Gender Values\n",
    "unique_genders = sorted(df['Gender'].unique())\n",
    "unique_genders"
   ]
  },
  {
   "cell_type": "code",
   "execution_count": 37,
   "metadata": {
    "execution": {
     "iopub.execute_input": "2024-07-11T22:13:22.589000Z",
     "iopub.status.busy": "2024-07-11T22:13:22.587758Z",
     "iopub.status.idle": "2024-07-11T22:13:22.601790Z",
     "shell.execute_reply": "2024-07-11T22:13:22.600360Z",
     "shell.execute_reply.started": "2024-07-11T22:13:22.588941Z"
    }
   },
   "outputs": [
    {
     "data": {
      "text/plain": [
       "['N', 'Y']"
      ]
     },
     "execution_count": 37,
     "metadata": {},
     "output_type": "execute_result"
    }
   ],
   "source": [
    "# Spayed or Neutered?\n",
    "unique_spayed = sorted(df['SpayNeuter'].unique())\n",
    "unique_spayed"
   ]
  },
  {
   "cell_type": "code",
   "execution_count": 38,
   "metadata": {
    "execution": {
     "iopub.execute_input": "2024-07-11T22:13:22.605432Z",
     "iopub.status.busy": "2024-07-11T22:13:22.604215Z",
     "iopub.status.idle": "2024-07-11T22:13:22.617149Z",
     "shell.execute_reply": "2024-07-11T22:13:22.615440Z",
     "shell.execute_reply.started": "2024-07-11T22:13:22.605376Z"
    }
   },
   "outputs": [
    {
     "data": {
      "text/plain": [
       "['Bronx', 'Brooklyn', 'Manhattan', 'Other', 'Queens', 'Staten Island']"
      ]
     },
     "execution_count": 38,
     "metadata": {},
     "output_type": "execute_result"
    }
   ],
   "source": [
    "# Listing of neighborhoods/boroughs\n",
    "unique_borgh = sorted(df['Borough'].unique())\n",
    "unique_borgh"
   ]
  },
  {
   "cell_type": "code",
   "execution_count": 39,
   "metadata": {
    "execution": {
     "iopub.execute_input": "2024-07-11T22:13:22.620918Z",
     "iopub.status.busy": "2024-07-11T22:13:22.619895Z",
     "iopub.status.idle": "2024-07-11T22:13:22.633392Z",
     "shell.execute_reply": "2024-07-11T22:13:22.631488Z",
     "shell.execute_reply.started": "2024-07-11T22:13:22.620866Z"
    }
   },
   "outputs": [
    {
     "data": {
      "text/plain": [
       "[2015, 2016, 2017, 2018, 2019, 2020, 2021]"
      ]
     },
     "execution_count": 39,
     "metadata": {},
     "output_type": "execute_result"
    }
   ],
   "source": [
    "# Years within the data frame\n",
    "unique_year = sorted(df['BiteYear'].unique())\n",
    "unique_year"
   ]
  },
  {
   "cell_type": "code",
   "execution_count": 40,
   "metadata": {
    "execution": {
     "iopub.execute_input": "2024-07-11T22:13:22.637096Z",
     "iopub.status.busy": "2024-07-11T22:13:22.635926Z",
     "iopub.status.idle": "2024-07-11T22:13:22.645504Z",
     "shell.execute_reply": "2024-07-11T22:13:22.644409Z",
     "shell.execute_reply.started": "2024-07-11T22:13:22.637031Z"
    }
   },
   "outputs": [
    {
     "data": {
      "text/plain": [
       "[1, 2, 3, 4, 5, 6, 7, 8, 9, 10, 11, 12]"
      ]
     },
     "execution_count": 40,
     "metadata": {},
     "output_type": "execute_result"
    }
   ],
   "source": [
    "# Months within the data frame\n",
    "unique_month = sorted(df['BiteMonth'].unique())\n",
    "unique_month"
   ]
  },
  {
   "cell_type": "code",
   "execution_count": 41,
   "metadata": {
    "execution": {
     "iopub.execute_input": "2024-07-11T22:13:22.647596Z",
     "iopub.status.busy": "2024-07-11T22:13:22.646944Z",
     "iopub.status.idle": "2024-07-11T22:13:22.666609Z",
     "shell.execute_reply": "2024-07-11T22:13:22.665322Z",
     "shell.execute_reply.started": "2024-07-11T22:13:22.647558Z"
    }
   },
   "outputs": [
    {
     "data": {
      "text/html": [
       "<div>\n",
       "<style scoped>\n",
       "    .dataframe tbody tr th:only-of-type {\n",
       "        vertical-align: middle;\n",
       "    }\n",
       "\n",
       "    .dataframe tbody tr th {\n",
       "        vertical-align: top;\n",
       "    }\n",
       "\n",
       "    .dataframe thead th {\n",
       "        text-align: right;\n",
       "    }\n",
       "</style>\n",
       "<table border=\"1\" class=\"dataframe\">\n",
       "  <thead>\n",
       "    <tr style=\"text-align: right;\">\n",
       "      <th></th>\n",
       "      <th>DateOfBite</th>\n",
       "      <th>Species</th>\n",
       "      <th>Breed</th>\n",
       "      <th>Age</th>\n",
       "      <th>Gender</th>\n",
       "      <th>SpayNeuter</th>\n",
       "      <th>Borough</th>\n",
       "      <th>ZipCode</th>\n",
       "      <th>BiteMonth</th>\n",
       "      <th>BiteYear</th>\n",
       "    </tr>\n",
       "  </thead>\n",
       "  <tbody>\n",
       "    <tr>\n",
       "      <th>0</th>\n",
       "      <td>2018-01-01</td>\n",
       "      <td>DOG</td>\n",
       "      <td>Unknown</td>\n",
       "      <td>0</td>\n",
       "      <td>U</td>\n",
       "      <td>N</td>\n",
       "      <td>Brooklyn</td>\n",
       "      <td>11220</td>\n",
       "      <td>1</td>\n",
       "      <td>2018</td>\n",
       "    </tr>\n",
       "    <tr>\n",
       "      <th>1</th>\n",
       "      <td>2018-01-04</td>\n",
       "      <td>DOG</td>\n",
       "      <td>Unknown</td>\n",
       "      <td>0</td>\n",
       "      <td>U</td>\n",
       "      <td>N</td>\n",
       "      <td>Brooklyn</td>\n",
       "      <td>0</td>\n",
       "      <td>1</td>\n",
       "      <td>2018</td>\n",
       "    </tr>\n",
       "    <tr>\n",
       "      <th>2</th>\n",
       "      <td>2018-01-06</td>\n",
       "      <td>DOG</td>\n",
       "      <td>Pit Bull</td>\n",
       "      <td>0</td>\n",
       "      <td>U</td>\n",
       "      <td>N</td>\n",
       "      <td>Brooklyn</td>\n",
       "      <td>11224</td>\n",
       "      <td>1</td>\n",
       "      <td>2018</td>\n",
       "    </tr>\n",
       "    <tr>\n",
       "      <th>3</th>\n",
       "      <td>2018-01-08</td>\n",
       "      <td>DOG</td>\n",
       "      <td>Mixed Breed</td>\n",
       "      <td>4</td>\n",
       "      <td>M</td>\n",
       "      <td>N</td>\n",
       "      <td>Brooklyn</td>\n",
       "      <td>11231</td>\n",
       "      <td>1</td>\n",
       "      <td>2018</td>\n",
       "    </tr>\n",
       "    <tr>\n",
       "      <th>4</th>\n",
       "      <td>2018-01-09</td>\n",
       "      <td>DOG</td>\n",
       "      <td>Pit Bull</td>\n",
       "      <td>0</td>\n",
       "      <td>U</td>\n",
       "      <td>N</td>\n",
       "      <td>Brooklyn</td>\n",
       "      <td>11224</td>\n",
       "      <td>1</td>\n",
       "      <td>2018</td>\n",
       "    </tr>\n",
       "  </tbody>\n",
       "</table>\n",
       "</div>"
      ],
      "text/plain": [
       "  DateOfBite Species        Breed  Age Gender SpayNeuter   Borough  ZipCode  \\\n",
       "0 2018-01-01     DOG      Unknown    0      U          N  Brooklyn    11220   \n",
       "1 2018-01-04     DOG      Unknown    0      U          N  Brooklyn        0   \n",
       "2 2018-01-06     DOG     Pit Bull    0      U          N  Brooklyn    11224   \n",
       "3 2018-01-08     DOG  Mixed Breed    4      M          N  Brooklyn    11231   \n",
       "4 2018-01-09     DOG     Pit Bull    0      U          N  Brooklyn    11224   \n",
       "\n",
       "   BiteMonth  BiteYear  \n",
       "0          1      2018  \n",
       "1          1      2018  \n",
       "2          1      2018  \n",
       "3          1      2018  \n",
       "4          1      2018  "
      ]
     },
     "execution_count": 41,
     "metadata": {},
     "output_type": "execute_result"
    }
   ],
   "source": [
    "df.head()"
   ]
  },
  {
   "cell_type": "markdown",
   "metadata": {},
   "source": [
    "# **Visualization, Metrics and Trends**"
   ]
  },
  {
   "cell_type": "markdown",
   "metadata": {},
   "source": [
    "## Gender Distribution\n",
    "#### The following will return a Pie Chart with percentages and a Bar Chart with totals side by side."
   ]
  },
  {
   "cell_type": "code",
   "execution_count": 89,
   "metadata": {
    "execution": {
     "iopub.execute_input": "2024-07-11T22:13:22.702841Z",
     "iopub.status.busy": "2024-07-11T22:13:22.702245Z",
     "iopub.status.idle": "2024-07-11T22:13:23.235967Z",
     "shell.execute_reply": "2024-07-11T22:13:23.234841Z",
     "shell.execute_reply.started": "2024-07-11T22:13:22.702760Z"
    }
   },
   "outputs": [
    {
     "data": {
      "image/png": "[encoded data removed]",
      "text/plain": [
       "<Figure size 1200x500 with 2 Axes>"
      ]
     },
     "metadata": {},
     "output_type": "display_data"
    }
   ],
   "source": [
    "# --- Setting Colors, Labels, Order ---\n",
    "colors=colpal\n",
    "\n",
    "order=df['Gender'].value_counts().index\n",
    "\n",
    "# --- Size for Both Figures ---\n",
    "plt.figure(figsize=(12, 5))\n",
    "plt.suptitle('Gender Distribution', fontweight='bold', \n",
    "             fontsize='18', fontfamily='sans-serif')\n",
    "\n",
    "# Pie Chart that contains percentages\n",
    "plt.subplot(1, 2, 1)\n",
    "#Styling the title for pie chart\n",
    "plt.title('Gender Percentages', fontweight='medium', fontsize=14,\n",
    "          fontfamily='sans-serif', color=\"black\")\n",
    "\n",
    "# Now to add plot values\n",
    "plt.pie(df['Gender'].value_counts(), colors=colors, pctdistance=0.7,\n",
    "        autopct='%.2f%%', wedgeprops=dict(alpha=0.8, edgecolor=\"black\"),\n",
    "        textprops={'fontsize':14, 'fontweight': 'bold'})\n",
    "\n",
    "# Add center circle, this will create 'donut' pie chart effect\n",
    "centre=plt.Circle((0, 0), 0.60, fc='white', edgecolor=\"black\")\n",
    "plt.gcf().gca().add_artist(centre)\n",
    "\n",
    "# Histogram for actual gender totals\n",
    "countplt = plt.subplot(1, 2, 2)\n",
    "plt.title('Gender Totals', fontweight='medium', fontsize=14, \n",
    "          fontfamily='sans-serif', color=\"black\")\n",
    "ax = sns.countplot(x='Gender', data=df, palette=colors, order=order,\n",
    "                   edgecolor=\"black\", alpha=0.85)\n",
    "ax.grid(False)  # Turn off grid lines for the histogram\n",
    "for rect in ax.patches:\n",
    "    ax.text (rect.get_x()+rect.get_width()/2, \n",
    "             rect.get_height()+4.25,f'{int(rect.get_height())}', \n",
    "             horizontalalignment='center', fontsize=12, fontweight='bold', \n",
    "             bbox=dict(facecolor='white', edgecolor=\"black\", \n",
    "                       linewidth=0.25, boxstyle='round'))\n",
    "    \n",
    "# Create custom legend\n",
    "legend_elements = [\n",
    "    Line2D([0], [0], marker='s', color='w', markerfacecolor='#2C6975', markersize=10, label='Unknown'),\n",
    "    Line2D([0], [0], marker='s', color='w', markerfacecolor='#68B2A0', markersize=10, label='Male'),\n",
    "    Line2D([0], [0], marker='s', color='w', markerfacecolor='#CDE0C9', markersize=10, label='Female')\n",
    "]\n",
    "\n",
    "# Add legend outside of the chart\n",
    "ax.legend(handles=legend_elements, loc='upper left', bbox_to_anchor=(1, 1), fontsize=12)    \n",
    "    \n",
    "\n",
    "# Labeling\n",
    "plt.xlabel('Gender', fontweight='bold', fontsize=12, fontfamily='sans-serif', \n",
    "           color=\"black\")\n",
    "plt.ylabel('Total', fontweight='bold', fontsize=12, fontfamily='sans-serif', \n",
    "           color=\"black\")\n",
    "plt.xticks([0, 1, 2])\n",
    "\n",
    "plt.show()"
   ]
  },
  {
   "cell_type": "markdown",
   "metadata": {},
   "source": [
    "## **Spay/Neuter Metric"
   ]
  },
  {
   "cell_type": "code",
   "execution_count": 43,
   "metadata": {
    "execution": {
     "iopub.execute_input": "2024-07-11T22:13:23.237828Z",
     "iopub.status.busy": "2024-07-11T22:13:23.237419Z",
     "iopub.status.idle": "2024-07-11T22:13:23.249332Z",
     "shell.execute_reply": "2024-07-11T22:13:23.248198Z",
     "shell.execute_reply.started": "2024-07-11T22:13:23.237790Z"
    }
   },
   "outputs": [],
   "source": [
    "# Calculate the percentage of dogs that have been fixed/neutered\n",
    "total_dogs = len(df) # Gets the number of dogs\n",
    "fixeddogs = (df['SpayNeuter'] == 'Y').sum() # Sums the neutered totals\n",
    "notfixed = total_dogs - fixeddogs  # Calculation to subtract total number of dogs from those that are fixed"
   ]
  },
  {
   "cell_type": "code",
   "execution_count": 44,
   "metadata": {
    "execution": {
     "iopub.execute_input": "2024-07-11T22:13:23.251411Z",
     "iopub.status.busy": "2024-07-11T22:13:23.250870Z",
     "iopub.status.idle": "2024-07-11T22:13:23.259754Z",
     "shell.execute_reply": "2024-07-11T22:13:23.258666Z",
     "shell.execute_reply.started": "2024-07-11T22:13:23.251373Z"
    }
   },
   "outputs": [
    {
     "name": "stdout",
     "output_type": "stream",
     "text": [
      "Total number of dogs: 22658\n",
      "Number of dogs that have been Spayed/Neutered: 5875\n",
      "Number of dogs NOT Spayed/Neautered:16783\n"
     ]
    }
   ],
   "source": [
    "# Print the findings\n",
    "print(f\"Total number of dogs: {total_dogs}\")\n",
    "print(f\"Number of dogs that have been Spayed/Neutered: {fixeddogs}\")\n",
    "print(f\"Number of dogs NOT Spayed/Neautered:{ notfixed}\")"
   ]
  },
  {
   "cell_type": "code",
   "execution_count": 86,
   "metadata": {
    "execution": {
     "iopub.execute_input": "2024-07-11T22:13:23.261932Z",
     "iopub.status.busy": "2024-07-11T22:13:23.261340Z",
     "iopub.status.idle": "2024-07-11T22:13:23.375962Z",
     "shell.execute_reply": "2024-07-11T22:13:23.374723Z",
     "shell.execute_reply.started": "2024-07-11T22:13:23.261894Z"
    }
   },
   "outputs": [
    {
     "data": {
      "image/png": "[encoded data removed]",
      "text/plain": [
       "<Figure size 500x500 with 1 Axes>"
      ]
     },
     "metadata": {},
     "output_type": "display_data"
    }
   ],
   "source": [
    "# Create a donut chart for the overall fixed/neutered percentage\n",
    "\n",
    "# Specify how much to explode each slice\n",
    "explode = (0.1, 0)  # Explode the first slice by 10%\n",
    "\n",
    "# Specify colors for each section\n",
    "colors_pie = ['#68B2A0', '#E0ECDE']\n",
    "\n",
    "# Create the pie chart with the explode and colors parameters\n",
    "plt.figure(figsize=(5, 5))\n",
    "plt.pie([fixeddogs, notfixed], labels=['Yes', 'No'], autopct='%1.1f%%', startangle=90, pctdistance=0.85, explode=explode, colors=colors_pie, textprops={'fontsize': 12, 'fontweight': 'bold'})\n",
    "fig = plt.gcf()\n",
    "plt.title('Spay/Neuter Percentage', fontweight='bold', fontsize='16', fontfamily='sans-serif')\n",
    "plt.show()"
   ]
  },
  {
   "cell_type": "markdown",
   "metadata": {},
   "source": [
    "<font size=\"3\"> Only a quarter of dogs within the bite study have been spayed/neutered.</font>"
   ]
  },
  {
   "cell_type": "code",
   "execution_count": 46,
   "metadata": {
    "execution": {
     "iopub.execute_input": "2024-07-11T22:13:23.378790Z",
     "iopub.status.busy": "2024-07-11T22:13:23.377784Z",
     "iopub.status.idle": "2024-07-11T22:13:23.395693Z",
     "shell.execute_reply": "2024-07-11T22:13:23.394571Z",
     "shell.execute_reply.started": "2024-07-11T22:13:23.378751Z"
    }
   },
   "outputs": [
    {
     "name": "stdout",
     "output_type": "stream",
     "text": [
      "Number of Male dogs that have NOT been Neutered: 4652\n"
     ]
    }
   ],
   "source": [
    "# How many male dogs have NOT been neutered?\n",
    "count_nfixed_males = df[(df['Gender'] == 'M') & (df['SpayNeuter'] == 'N')].shape[0]\n",
    "\n",
    "# Print or use the count as needed\n",
    "print(f\"Number of Male dogs that have NOT been Neutered: {count_nfixed_males}\")"
   ]
  },
  {
   "cell_type": "markdown",
   "metadata": {},
   "source": [
    "### What are the Spay/Neuter percentages for each gender?"
   ]
  },
  {
   "cell_type": "code",
   "execution_count": 85,
   "metadata": {},
   "outputs": [
    {
     "data": {
      "image/png": "[encoded data removed]",
      "text/plain": [
       "<Figure size 1000x400 with 3 Axes>"
      ]
     },
     "metadata": {},
     "output_type": "display_data"
    }
   ],
   "source": [
    "import matplotlib.pyplot as plt\n",
    "\n",
    "# Specify colors for each section\n",
    "colors_pie2 = ['#68B2A0', '#E0ECDE']\n",
    "\n",
    "# Assuming your DataFrame is named df\n",
    "gender_groups = df.groupby(['Gender', 'SpayNeuter']).size().unstack()\n",
    "\n",
    "# Create a fixed number of subplots\n",
    "fig, axes = plt.subplots(nrows=1, ncols=3, figsize=(10, 4))\n",
    "\n",
    "# Plot pie charts for each gender\n",
    "for i, (gender, values) in enumerate(gender_groups.iterrows()):\n",
    "    ax = axes[i]\n",
    "    ax.pie(values, labels=values.index, autopct='%1.1f%%', startangle=90, colors=colors_pie2)\n",
    "    ax.set_title(f'Gender: {gender}', fontsize=16)\n",
    "    \n",
    "# Add a title to the trio of pie charts\n",
    "fig.suptitle('Gender Spayed/Neutered Percentage', fontsize=16, fontweight='bold')\n",
    "\n",
    "# Adjust the space between the title and the subplots\n",
    "plt.subplots_adjust(top=0.85, wspace=0.5)\n",
    "\n",
    "plt.show()\n"
   ]
  },
  {
   "cell_type": "markdown",
   "metadata": {},
   "source": [
    "### Discrepancy in Spay/Neuter Status for Unknown Gender Dogs\n",
    "\n",
    "<font size=\"3\">During the analysis of the dog dataset, it was found that a small percentage <b>(0.6%)</b> of dogs with an unknown gender were recorded as being spayed or neutered. This discrepancy raises questions about the accuracy of the data once again. It seems inconsistent to have the spay/neuter status recorded without knowing the gender of the dog."
   ]
  },
  {
   "cell_type": "markdown",
   "metadata": {},
   "source": [
    "### Discrepency in the 'Unknown' Gender will be removed."
   ]
  },
  {
   "cell_type": "code",
   "execution_count": 48,
   "metadata": {},
   "outputs": [
    {
     "name": "stdout",
     "output_type": "stream",
     "text": [
      "Initial number of rows: 22658\n",
      "Number of rows after removing .6% anomaly: 22590\n"
     ]
    }
   ],
   "source": [
    "# Display the initial number of rows\n",
    "initial_rows = len(df)\n",
    "print(f\"Initial number of rows: {initial_rows}\")\n",
    "\n",
    "# Filter the DataFrame\n",
    "df_filtered = df[~((df['Gender'] == 'U') & (df['SpayNeuter'] == 'Y'))]\n",
    "\n",
    "# Display the number of rows after filtering\n",
    "filtered_rows = len(df_filtered)\n",
    "print(f\"Number of rows after removing .6% anomaly: {filtered_rows}\")\n",
    "\n",
    "# If you want to update the original DataFrame, you can do:\n",
    "df = df_filtered"
   ]
  },
  {
   "cell_type": "markdown",
   "metadata": {},
   "source": [
    "## Age Distribution"
   ]
  },
  {
   "cell_type": "code",
   "execution_count": 83,
   "metadata": {},
   "outputs": [
    {
     "data": {
      "image/png": "[encoded data removed]",
      "text/plain": [
       "<Figure size 1000x600 with 1 Axes>"
      ]
     },
     "metadata": {},
     "output_type": "display_data"
    }
   ],
   "source": [
    "plt.figure(figsize=(10, 6))\n",
    "p = sns.histplot(df['Age'], bins=20,fill=True)  \n",
    "\n",
    "# Adding titles and labels\n",
    "plt.title('Age Distribution of Dogs', fontweight='bold', \n",
    "             fontsize='16', fontfamily='sans-serif')\n",
    "plt.xlabel('Age', fontsize = 12)\n",
    "plt.ylabel('Count', fontsize = 12)\n",
    "plt.grid(False)\n",
    "\n",
    "# Add data labels on top of the bars for 'N'\n",
    "for bar in p.patches:\n",
    "    yval = bar.get_height()\n",
    "    plt.text(bar.get_x() + bar.get_width()/2, yval+1, round(yval, 2), ha='center', va='bottom',\n",
    "             rotation=90, fontsize=10, bbox=dict(facecolor='white', edgecolor=\"black\", \n",
    "                       linewidth=0.25, boxstyle='round')) \n",
    "\n",
    "# Displaying the plot\n",
    "plt.show()"
   ]
  },
  {
   "cell_type": "markdown",
   "metadata": {},
   "source": [
    "<font size=\"3\">Most dogs ages are unknown. It's why the records with 'null'/'unknown' for the Age variable were kept; It's not uncommon for a dog to run off after an attack or for the dog to be unknown to the person bit but the record is still valid so 0 age value were kept.</font>"
   ]
  },
  {
   "cell_type": "markdown",
   "metadata": {},
   "source": [
    "# **Geographic Metrics**"
   ]
  },
  {
   "cell_type": "markdown",
   "metadata": {},
   "source": [
    "## Dog Bites by Borough"
   ]
  },
  {
   "cell_type": "code",
   "execution_count": 50,
   "metadata": {},
   "outputs": [],
   "source": [
    "# Group boroughs and determine the number of bites\n",
    "dogs_by_borough = df.groupby('Borough').size().reset_index(name='num_bites')"
   ]
  },
  {
   "cell_type": "markdown",
   "metadata": {},
   "source": [
    "'Other' are incidences that occured outside of the NYC boroughs"
   ]
  },
  {
   "cell_type": "code",
   "execution_count": 82,
   "metadata": {},
   "outputs": [
    {
     "data": {
      "image/png": "[encoded data removed]",
      "text/plain": [
       "<Figure size 800x550 with 1 Axes>"
      ]
     },
     "metadata": {},
     "output_type": "display_data"
    }
   ],
   "source": [
    "# Plotting the Seaborn bar chart\n",
    "ax = sns.barplot(x='Borough', y='num_bites', data=dogs_by_borough, palette=colpal)#palette for custom colors\n",
    "\n",
    "# Adding labels and title\n",
    "plt.xlabel('Borough')\n",
    "plt.ylabel('Number of Bites')\n",
    "plt.title('Number of Bites per Borough', fontsize = 16, fontweight ='bold')\n",
    "\n",
    "\n",
    "ax.grid(False)  # Turn off grid lines for the histogram\n",
    "\n",
    "# Adding values on top of the bars\n",
    "for rect in ax.patches:\n",
    "    ax.text (rect.get_x()+rect.get_width()/2, \n",
    "             rect.get_height()+4.25,f'{int(rect.get_height())}', \n",
    "             horizontalalignment='center', fontsize=10, \n",
    "             bbox=dict(facecolor='white', edgecolor=\"black\", \n",
    "                       linewidth=0.25, boxstyle='round'))\n",
    "    \n",
    "\n",
    "# Display the bar chart\n",
    "plt.show()"
   ]
  },
  {
   "cell_type": "markdown",
   "metadata": {},
   "source": [
    "<font size=\"3\"> Staten Island has the lowest rate of bites.  More rearch needed to see why, are there other causes for the low bite rate? </font>"
   ]
  },
  {
   "cell_type": "markdown",
   "metadata": {},
   "source": [
    "## Number of Spayed/Neutered dogs per Borough?"
   ]
  },
  {
   "cell_type": "code",
   "execution_count": 52,
   "metadata": {},
   "outputs": [],
   "source": [
    "# Group by 'Neighborhood' and count the occurrences of 'Y' and 'N' in 'Spayed' column\n",
    "spayed_counts = df.groupby('Borough')['SpayNeuter'].value_counts().unstack().fillna(0)"
   ]
  },
  {
   "cell_type": "code",
   "execution_count": 81,
   "metadata": {},
   "outputs": [
    {
     "data": {
      "image/png": "[encoded data removed]",
      "text/plain": [
       "<Figure size 800x550 with 1 Axes>"
      ]
     },
     "metadata": {},
     "output_type": "display_data"
    }
   ],
   "source": [
    "# Group by 'Neighborhood' and count the occurrences of 'Y' and 'N' in 'Spayed' column\n",
    "spayed_counts = df.groupby('Borough')['SpayNeuter'].value_counts().unstack().fillna(0)\n",
    "\n",
    "# Plotting a side-by-side bar chart\n",
    "ax = spayed_counts.plot(kind='bar', stacked=False, width=0.7)\n",
    "\n",
    "\n",
    " # Adding values on top of the bars\n",
    "for rect in ax.patches[:len(spayed_counts['Y'])]:\n",
    "    ax.text (rect.get_x()+rect.get_width()/2, \n",
    "             rect.get_height()+4.25,rect.get_height(), \n",
    "             horizontalalignment='center', fontsize=9,rotation=90,\n",
    "             bbox=dict(facecolor='white', edgecolor=\"black\", \n",
    "                       linewidth=0.25, boxstyle='round'))     \n",
    "    \n",
    "# Add data labels on top of the bars for 'N'\n",
    "for bar in ax.patches[len(spayed_counts['N']):]:\n",
    "    yval = bar.get_height()\n",
    "    plt.text(bar.get_x() + bar.get_width()/2, yval+1, round(yval, 2), ha='center', va='bottom',\n",
    "             rotation=90, fontsize=10, bbox=dict(facecolor='white', edgecolor=\"black\", \n",
    "                       linewidth=0.25, boxstyle='round')) \n",
    "\n",
    "\n",
    "# Adding labels and title\n",
    "plt.xlabel('Borough')\n",
    "plt.ylabel('Number of Dogs')\n",
    "plt.title('Spayed and Non-Spayed Dogs by Borough', pad=20, fontsize = 16, fontweight ='bold')\n",
    "\n",
    "# Display the bar chart\n",
    "plt.grid(False)\n",
    "plt.show()\n",
    "    "
   ]
  },
  {
   "cell_type": "markdown",
   "metadata": {},
   "source": [
    "<font size =\"3\"> Regardless of Borough, Non Spayed/Neutered dogs have higher bite rates.  Does being Spayed/Neutered have a part to play in aggressiveness?"
   ]
  },
  {
   "cell_type": "markdown",
   "metadata": {},
   "source": [
    "## Dog Genders Based on Borough?"
   ]
  },
  {
   "cell_type": "code",
   "execution_count": 54,
   "metadata": {},
   "outputs": [],
   "source": [
    "# Group by 'Neighborhood' and count the occurrences of each gender\n",
    "gender_counts = df.groupby('Borough')['Gender'].value_counts().unstack().fillna(0)"
   ]
  },
  {
   "cell_type": "code",
   "execution_count": 80,
   "metadata": {},
   "outputs": [
    {
     "data": {
      "image/png": "[encoded data removed]",
      "text/plain": [
       "<Figure size 800x550 with 1 Axes>"
      ]
     },
     "metadata": {},
     "output_type": "display_data"
    }
   ],
   "source": [
    "# Plotting a stacked bar chart\n",
    "ax = gender_counts.plot(kind='bar', stacked=False, width=.9)\n",
    "\n",
    "# Adding labels and title\n",
    "plt.xlabel('Borough')\n",
    "plt.ylabel('Number of Dogs')\n",
    "plt.title('Dog Gender Specifics per Borough', pad=20, fontsize = 16, fontweight ='bold')  \n",
    "    \n",
    "# Adding values on top of the bars\n",
    "for rect in ax.patches[:len(gender_counts['F'])]:\n",
    "    ax.text (rect.get_x()+rect.get_width()/2, \n",
    "             rect.get_height()+4.25,rect.get_height(), \n",
    "             horizontalalignment='center', fontsize=9,rotation=90,\n",
    "             bbox=dict(facecolor='white', edgecolor=\"black\", \n",
    "                       linewidth=0.25, boxstyle='round'))     \n",
    "    \n",
    "ax.grid(False)  # Turn off grid lines for the histogram\n",
    "    \n",
    "    \n",
    "    # Add data labels on top of the bars for 'N'\n",
    "for bar in ax.patches[len(gender_counts['M']):]:\n",
    "    yval = bar.get_height()\n",
    "    plt.text(bar.get_x() + bar.get_width()/2, yval+1, round(yval, 2), ha='center', va='bottom',\n",
    "             rotation=90, fontsize=10, bbox=dict(facecolor='white', edgecolor=\"black\", \n",
    "                       linewidth=0.25, boxstyle='round')) \n",
    "\n",
    "# Display the bar chart\n",
    "plt.show()"
   ]
  },
  {
   "cell_type": "markdown",
   "metadata": {},
   "source": [
    "## Highest bites per Borough based on type of Breed?"
   ]
  },
  {
   "cell_type": "code",
   "execution_count": 56,
   "metadata": {},
   "outputs": [],
   "source": [
    "grouped = df.groupby(['Borough', 'Breed']).size().reset_index(name='Count')\n",
    "\n",
    "# Sort the results and drop duplicates to get the most popular breed in each Borough\n",
    "most_popular_breed_by_borough = grouped.sort_values(['Borough', 'Count'], ascending=[True, False]).drop_duplicates('Borough')\n",
    "\n",
    "# Reset the index for better readability\n",
    "most_popular_breed_by_borough.reset_index(drop=True, inplace=True)"
   ]
  },
  {
   "cell_type": "code",
   "execution_count": 79,
   "metadata": {},
   "outputs": [
    {
     "data": {
      "image/png": "[encoded data removed]",
      "text/plain": [
       "<Figure size 1200x600 with 1 Axes>"
      ]
     },
     "metadata": {},
     "output_type": "display_data"
    }
   ],
   "source": [
    "# Plotting the Seaborn bar chart\n",
    "plt.figure(figsize=(12, 6))\n",
    "ax = sns.barplot(x='Borough', y='Count', data=most_popular_breed_by_borough, palette=colpal)\n",
    "\n",
    "# Adding breed names and total values on top of the bars\n",
    "for i, rect in enumerate(ax.patches):\n",
    "    breed_name = most_popular_breed_by_borough['Breed'].iloc[i]\n",
    "    total_value = most_popular_breed_by_borough['Count'].iloc[i]\n",
    "    \n",
    "    # Adding breed names\n",
    "    ax.text(rect.get_x() + rect.get_width() / 2,\n",
    "            rect.get_height() + 4.25, breed_name,\n",
    "            horizontalalignment='center', fontsize=10, \n",
    "            bbox=dict(facecolor='white', edgecolor=\"black\",\n",
    "                      linewidth=0.25, boxstyle='round'))\n",
    "\n",
    "   \n",
    "    ax.grid(False)  # Turn off grid lines for the histogram \n",
    "\n",
    "# Adding labels and title\n",
    "plt.xlabel('Borough')\n",
    "plt.ylabel('Number of Bites per Breed')\n",
    "plt.title('Breed with the Highest Bites per Borough', pad=20,fontsize=16, fontweight='bold')\n",
    "\n",
    "# Display the bar chart\n",
    "plt.show()"
   ]
  },
  {
   "cell_type": "markdown",
   "metadata": {},
   "source": [
    "<font size =\"3\"> <b> Insight:</b>  Unfortunately, the data shows that 2/3rds of dog bites are by Pit Bulls. No data is avalable on what provoked the biting incidence."
   ]
  },
  {
   "cell_type": "markdown",
   "metadata": {},
   "source": [
    "## Top 10 Dog Breeds for Bites"
   ]
  },
  {
   "cell_type": "code",
   "execution_count": 67,
   "metadata": {},
   "outputs": [],
   "source": [
    "# Group by 'Breed' and calculate the size\n",
    "breed_grps = df.groupby('Breed').size().reset_index(name='num_dogs_breed')\n",
    "\n",
    "# Sort the DataFrame by 'num_dogs_breed' in descending order\n",
    "breed_grps = breed_grps.sort_values(by='num_dogs_breed', ascending=False)\n",
    "\n",
    "# Display the top 20 rows\n",
    "top_10_breeds = breed_grps.head(10)"
   ]
  },
  {
   "cell_type": "code",
   "execution_count": 78,
   "metadata": {},
   "outputs": [
    {
     "data": {
      "image/png": "[encoded data removed]",
      "text/plain": [
       "<Figure size 1200x600 with 1 Axes>"
      ]
     },
     "metadata": {},
     "output_type": "display_data"
    }
   ],
   "source": [
    "# Create a bar chart using matplotlib\n",
    "plt.figure(figsize=(12, 6))\n",
    "bars = plt.bar(top_10_breeds['Breed'], top_10_breeds['num_dogs_breed'], color=colpal)\n",
    "\n",
    "# Add data labels on top of the bars\n",
    "for bar in bars:\n",
    "    yval = bar.get_height()\n",
    "    plt.text(bar.get_x() + bar.get_width()/2, yval+.5, round(yval, 2), ha='center', va='bottom',\n",
    "             rotation=90, horizontalalignment='center', fontsize=11, \n",
    "             bbox=dict(facecolor='white', edgecolor=\"black\", \n",
    "                       linewidth=0.25, boxstyle='round')) \n",
    "plt.grid(False)  # Turn off grid lines for the histogram\n",
    "    \n",
    "    \n",
    "# Adjust text size and visibility\n",
    "plt.tight_layout()\n",
    "plt.xticks(rotation=90, ha='center', fontsize = 13)\n",
    "plt.xlabel('Breed', fontsize = 14)\n",
    "plt.ylabel('Number of Dogs', fontsize = 14)\n",
    "plt.title('Top 10 Dog Breeds',pad=20, fontsize = 20, fontweight ='bold')\n",
    "\n",
    "# Show the bar chart\n",
    "plt.show()"
   ]
  },
  {
   "cell_type": "markdown",
   "metadata": {},
   "source": [
    "## Bites based on Year/Month"
   ]
  },
  {
   "cell_type": "code",
   "execution_count": 60,
   "metadata": {},
   "outputs": [],
   "source": [
    "# Bites by years\n",
    "# Group boroughs and determine the number of bites\n",
    "db_years = df.groupby('BiteYear').size().reset_index(name='num_bites')"
   ]
  },
  {
   "cell_type": "code",
   "execution_count": 74,
   "metadata": {},
   "outputs": [
    {
     "data": {
      "image/png": "[encoded data removed]",
      "text/plain": [
       "<Figure size 800x550 with 1 Axes>"
      ]
     },
     "metadata": {},
     "output_type": "display_data"
    }
   ],
   "source": [
    "# Plotting the Seaborn bar chart\n",
    "ax = sns.barplot(x='BiteYear', y='num_bites', data=db_years, palette=colpal)#palette for custom colors\n",
    "\n",
    "# Adding labels and title\n",
    "plt.xlabel('Year')  # Labels the x-axis\n",
    "plt.ylabel('Number of Bites')  # Labels the y-axis\n",
    "plt.title('Bites per Year', fontsize = 16, fontweight ='bold', pad=20)  # Labels and formats the title\n",
    "\n",
    "# Adding values on top of the bars\n",
    "for rect in ax.patches:\n",
    "    ax.text (rect.get_x()+rect.get_width()/2, \n",
    "             rect.get_height() + 4.25,f'{int(rect.get_height())}', \n",
    "             horizontalalignment='center', fontsize=10, \n",
    "             bbox=dict(facecolor='white', edgecolor=\"black\", \n",
    "                       linewidth=0.25, boxstyle='round'))\n",
    "    \n",
    "ax.grid(False)  # Turn off grid lines for the histogram    \n",
    "    \n",
    "# Display the bar chart\n",
    "plt.show()"
   ]
  },
  {
   "cell_type": "markdown",
   "metadata": {},
   "source": [
    "### Monthly Insights"
   ]
  },
  {
   "cell_type": "code",
   "execution_count": 62,
   "metadata": {},
   "outputs": [],
   "source": [
    "# Which months have the highest bites?\n",
    "# Bites by years\n",
    "# Group boroughs and determine the number of bites\n",
    "db_months = df.groupby('BiteMonth').size().reset_index(name='num_bites')"
   ]
  },
  {
   "cell_type": "code",
   "execution_count": 75,
   "metadata": {},
   "outputs": [
    {
     "data": {
      "image/png": "[encoded data removed]",
      "text/plain": [
       "<Figure size 800x550 with 1 Axes>"
      ]
     },
     "metadata": {},
     "output_type": "display_data"
    }
   ],
   "source": [
    "# Plotting the Seaborn bar chart\n",
    "ax = sns.barplot(x='BiteMonth', y='num_bites', data=db_months, palette=colpal)#palette for custom colors\n",
    "\n",
    "# Adding labels and title\n",
    "plt.xlabel('Month')\n",
    "plt.ylabel('Number of Bites')\n",
    "plt.title('Bites per Month', fontsize = 16, fontweight ='bold', pad=20)\n",
    "\n",
    "for rect in ax.patches:\n",
    "    ax.text(rect.get_x() + rect.get_width() / 2,\n",
    "            rect.get_height() + 4.25, f'{int(rect.get_height())}',  # Use formatted string to remove decimal point\n",
    "            horizontalalignment='center', fontsize=10,\n",
    "            bbox=dict(facecolor='white', edgecolor=\"black\", linewidth=0.25, boxstyle='round')) \n",
    "    \n",
    "ax.grid(False)  # Turn off grid lines for the histogram    \n",
    "    \n",
    "# Display the bar chart\n",
    "plt.show()"
   ]
  },
  {
   "cell_type": "markdown",
   "metadata": {},
   "source": [
    "<font size=\"3\">The above bar chart shows the values for all years by month. Bites have shown their peak for the summer months (May(5) through August(8)). Numbers appear to trend according to popular times for outdoor activites.</font>"
   ]
  },
  {
   "cell_type": "markdown",
   "metadata": {},
   "source": [
    "## Boroughs Through the Years"
   ]
  },
  {
   "cell_type": "code",
   "execution_count": 64,
   "metadata": {},
   "outputs": [],
   "source": [
    "# Borough vs Year\n",
    "# Group boroughs and determine the number of bites\n",
    "bor_yr = df.groupby(['Borough', 'BiteYear']).size().reset_index(name='num_dogs')"
   ]
  },
  {
   "cell_type": "code",
   "execution_count": 65,
   "metadata": {},
   "outputs": [
    {
     "data": {
      "image/png": "[encoded data removed]",
      "text/plain": [
       "<Figure size 1000x400 with 1 Axes>"
      ]
     },
     "metadata": {},
     "output_type": "display_data"
    }
   ],
   "source": [
    "# Group data by Borough\n",
    "borough_groups = bor_yr.groupby('Borough')\n",
    "\n",
    "# Define a list of colors for each borough\n",
    "borough_colors = {'Bronx': '#205072', 'Brooklyn': '#AF4474', 'Manhattan': '#CBE54E', 'Queens': '#308695', 'Staten Island': '#E69D45', 'Other':'#C2C8C5'}\n",
    "\n",
    "# Plot dynamics for each borough with assigned colors\n",
    "plt.figure(figsize=(10, 4))\n",
    "for borough, group in borough_groups:\n",
    "    plt.plot(group['BiteYear'], group['num_dogs'], label=borough, color=borough_colors[borough])\n",
    "    \n",
    " \n",
    " #Add labels and title\n",
    "plt.xlabel('Bite Year')\n",
    "plt.ylabel('Number of Dogs')\n",
    "plt.title('Bites per Borough by Year')\n",
    "\n",
    "# Place the legend outside of the plot\n",
    "plt.legend(loc='center left', bbox_to_anchor=(1, 0.5), fontsize=10)  # Adjust fontsize as needed\n",
    "\n",
    "# Show the plot\n",
    "plt.show()"
   ]
  },
  {
   "cell_type": "markdown",
   "metadata": {},
   "source": [
    "<font size =\"3\"> <b>Insights:</b> <p>\n",
    "<ul>\n",
    "    <li><b>Rising Trend:</b> Dog bite incidents have steadily increased each year from 2015 to 2021 with 2020 being the exception. 2020 showed less of an increase overall. More research would be needed to see if the Pandemic played any part in the lower numbers.<p>\n",
    "        <li><b>Seasonal Pattern:</b> Incidents are lower from January to March, rising steadily from April and peaking in December.<p>\n",
    "            <li><b>Peak Months:</b> The latter half of each year, especially August to December, sees the highest number of dog bites.<p>\n",
    "</ul>"
   ]
  },
  {
   "cell_type": "markdown",
   "metadata": {},
   "source": [
    "# Analysis Conclusion:\n",
    "\n",
    "<font size =\"3\"> The dataset contains two problematic variables: 'UniqueID' and 'Unknown' Gender. To improve data quality, it is advisable to handle the original data for each year separately. By cleaning and preparing each year's data individually before merging, we can ensure that the issue of duplication with the 'UniqueID' variable will not affect any other analysis using the dataset. Although the integrity of the dataset wasn't entirely compromised, as I was able to complete my analysis after removing the 'UniqueID' column.</font>  <p>\n",
    "\n",
    "\n",
    "<font size=\"3\"><b> Recommendations:</b></font>\n",
    "    \n",
    "<font size =\"3\">For future datasets, it may be useful to employee pre-populated drop down menu or data validation when logging bite data into spreadsheet. This will add consistency to the 'Breed' and 'Age' columns.<p>\n",
    "\n",
    "If possible, research into why so many dogs have not been spayed/neutered. Are there subsidzed programs available to NYC residents to help offset vet cost?\n",
    "</font>"
   ]
  },
  {
   "cell_type": "code",
   "execution_count": 66,
   "metadata": {},
   "outputs": [],
   "source": [
    "# Export DataFrame to a CSV file - file is deactivated to prevent repeated downloads.\n",
    "#df.to_csv('2024_NY_DogBites_Cleaned.csv', index=False)  # Set index=False to exclude row numbers in the CSV file"
   ]
  }
 ],
 "metadata": {
  "kaggle": {
   "accelerator": "none",
   "dataSources": [
    {
     "datasetId": 3878826,
     "sourceId": 6735532,
     "sourceType": "datasetVersion"
    }
   ],
   "dockerImageVersionId": 30732,
   "isGpuEnabled": false,
   "isInternetEnabled": true,
   "language": "python",
   "sourceType": "notebook"
  },
  "kernelspec": {
   "display_name": "Python 3 (ipykernel)",
   "language": "python",
   "name": "python3"
  },
  "language_info": {
   "codemirror_mode": {
    "name": "ipython",
    "version": 3
   },
   "file_extension": ".py",
   "mimetype": "text/x-python",
   "name": "python",
   "nbconvert_exporter": "python",
   "pygments_lexer": "ipython3",
   "version": "3.10.9"
  }
 },
 "nbformat": 4,
 "nbformat_minor": 4
}
